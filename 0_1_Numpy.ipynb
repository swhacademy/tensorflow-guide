{
  "nbformat": 4,
  "nbformat_minor": 0,
  "metadata": {
    "colab": {
      "name": "0_1_Numpy.ipynb",
      "version": "0.3.2",
      "provenance": [],
      "collapsed_sections": [],
      "toc_visible": true,
      "include_colab_link": true
    },
    "kernelspec": {
      "name": "python3",
      "display_name": "Python 3"
    },
    "accelerator": "GPU"
  },
  "cells": [
    {
      "cell_type": "markdown",
      "metadata": {
        "id": "view-in-github",
        "colab_type": "text"
      },
      "source": [
        "<a href=\"https://colab.research.google.com/github/swhacademy/tensorflow-guide/blob/master/0_1_Numpy.ipynb\" target=\"_parent\"><img src=\"https://colab.research.google.com/assets/colab-badge.svg\" alt=\"Open In Colab\"/></a>"
      ]
    },
    {
      "metadata": {
        "id": "j9xVm0yGuUlx",
        "colab_type": "text"
      },
      "cell_type": "markdown",
      "source": [
        "# 참고 사이트\n",
        "\n",
        "\n",
        "*   https://docs.scipy.org/doc/numpy-1.16.0/user/basics.types.html\n",
        "*   https://datascienceschool.net\n",
        "*   http://taewan.kim/post/numpy_cheat_sheet\n"
      ]
    },
    {
      "metadata": {
        "id": "35XJkcNX_330",
        "colab_type": "text"
      },
      "cell_type": "markdown",
      "source": [
        "# numpy\n",
        "\n",
        "- Python의 과학 컴퓨팅을 위한 핵심 라이브러리\n",
        "- 고성능 다차원 배열 객체와 이러한 배열 작업을위한 도구를 제공\n",
        "\n",
        "## Array 배열\n",
        "- 속도가 느리고 메모리를 많이 차지하는 List의 대안\n",
        "- 적은 메모리로 데이터를 빠르게 처리\n",
        "- 모든 요소가 같은 자료형이며, 요소의 갯수를 바꿀 수 없다.\n",
        "- 벡터와 행렬을 사용하는 선형대수 계산에 주로 사용"
      ]
    },
    {
      "metadata": {
        "id": "Et_NrFlR_9sr",
        "colab_type": "text"
      },
      "cell_type": "markdown",
      "source": [
        "## numpy 모듈"
      ]
    },
    {
      "metadata": {
        "id": "wIO11VR3_pzE",
        "colab_type": "code",
        "outputId": "39caf205-0de3-458a-ce3f-3f996c9fd4e1",
        "colab": {
          "base_uri": "https://localhost:8080/",
          "height": 35
        }
      },
      "cell_type": "code",
      "source": [
        "import numpy as np\n",
        "np.__version__"
      ],
      "execution_count": 0,
      "outputs": [
        {
          "output_type": "execute_result",
          "data": {
            "text/plain": [
              "'1.16.2'"
            ]
          },
          "metadata": {
            "tags": []
          },
          "execution_count": 1
        }
      ]
    },
    {
      "metadata": {
        "id": "yNToF9G6ADUb",
        "colab_type": "text"
      },
      "cell_type": "markdown",
      "source": [
        "## ndarray 특징\n",
        "\n",
        "\n",
        "*   NumPy 배열의 구조는 “Shape“으로 표현. Shape은 배열의 구조를 파이썬 튜플 자료형을 이용하여 정의\n",
        "\n"
      ]
    },
    {
      "metadata": {
        "id": "5c8bnXZgAKxK",
        "colab_type": "code",
        "cellView": "code",
        "outputId": "19174bca-019a-48b8-fe29-980ad0f69030",
        "colab": {
          "base_uri": "https://localhost:8080/",
          "height": 89
        }
      },
      "cell_type": "code",
      "source": [
        "a = np.array([1, 2, 3]) # rank = 1\n",
        "print(type(a)) # ndarrayd은 N-dimensional Array의 약자\n",
        "print(a.ndim) # 배열의 차원(Rank)\n",
        "print(a.shape) # 배열의 크기\n",
        "print(a.dtype) # 배열의 자료형"
      ],
      "execution_count": 0,
      "outputs": [
        {
          "output_type": "stream",
          "text": [
            "<class 'numpy.ndarray'>\n",
            "1\n",
            "(3,)\n",
            "int64\n"
          ],
          "name": "stdout"
        }
      ]
    },
    {
      "metadata": {
        "id": "BSQricYAEdvY",
        "colab_type": "text"
      },
      "cell_type": "markdown",
      "source": [
        "### ndarray 자료형\n",
        "\n",
        "| dtype 접두사 | 설명 |\n",
        "|---|---|---|\n",
        "| b | boolean  |\n",
        "| i | 정수  |\n",
        "| u | 부호 없는 정수  |\n",
        "| f | 부동소수점  |\n",
        "| c | 복소 부동소수점  |\n",
        "| O | 객체  |\n",
        "| S | 바이트 문자열  |\n",
        "| U | 유니코드 문자열  |"
      ]
    },
    {
      "metadata": {
        "id": "IfG63xWWdsHd",
        "colab_type": "text"
      },
      "cell_type": "markdown",
      "source": [
        "## 배열 만들기\n",
        "\n",
        "*   리스트를 통해 배열생성\n",
        "*   데이터을 자동으로 얻은 후 배열생성\n",
        "*   난수을 통해 배열생성"
      ]
    },
    {
      "metadata": {
        "id": "j9PWUCFzFzSs",
        "colab_type": "text"
      },
      "cell_type": "markdown",
      "source": [
        "### 리스트를 통해 배열생성"
      ]
    },
    {
      "metadata": {
        "id": "0eYZ5PlXEnoU",
        "colab_type": "code",
        "outputId": "7474025c-bd3d-4d50-ace5-cfd049fd3039",
        "colab": {
          "base_uri": "https://localhost:8080/",
          "height": 305
        }
      },
      "cell_type": "code",
      "source": [
        "a = np.array([1, 2, 3], dtype='f') # dtype이 없으면 값을 보고 판단\n",
        "print(a)\n",
        "print(a.dtype)\n",
        "\n",
        "a = [1, 2, 3]\n",
        "b = np.array(a)\n",
        "print(b)\n",
        "\n",
        "a = [[1, 2, 3], [4, 5, 6]]\n",
        "b = np.array(a)  # 2 x 3 배열\n",
        "print(b)\n",
        "\n",
        "a = [\n",
        "    [[1, 2, 3], [4, 5, 6]], \n",
        "    [[7, 8, 9], [10, 11, 12]], \n",
        "    [[1, 2, 3], [4, 5, 6]], \n",
        "    [[7, 8, 9], [10, 11, 12]]\n",
        "]\n",
        "b = np.array(a)  # 4 * 2 x 3 배열\n",
        "print(b)"
      ],
      "execution_count": 0,
      "outputs": [
        {
          "output_type": "stream",
          "text": [
            "[1. 2. 3.]\n",
            "float32\n",
            "[1 2 3]\n",
            "[[1 2 3]\n",
            " [4 5 6]]\n",
            "[[[ 1  2  3]\n",
            "  [ 4  5  6]]\n",
            "\n",
            " [[ 7  8  9]\n",
            "  [10 11 12]]\n",
            "\n",
            " [[ 1  2  3]\n",
            "  [ 4  5  6]]\n",
            "\n",
            " [[ 7  8  9]\n",
            "  [10 11 12]]]\n"
          ],
          "name": "stdout"
        }
      ]
    },
    {
      "metadata": {
        "id": "kD_poxXgF5F7",
        "colab_type": "text"
      },
      "cell_type": "markdown",
      "source": [
        "### 데이터을 자동으로 얻은 후 배열생성"
      ]
    },
    {
      "metadata": {
        "id": "a-yIYmFq74ln",
        "colab_type": "text"
      },
      "cell_type": "markdown",
      "source": [
        "#### zeros\n",
        "- 표현 : zeros(배열의 크기, dtype='f')\n",
        "- 값을 0, 문자열인 경우에는 비어있는 값을 배열로 얻을 때 사용\n",
        "\n",
        "#### zeros_like\n",
        "- 표현 : zeros_like(다른 배열, dtype='f')\n",
        "- zeros 유사, 배열의 크기를 명시하지 않고 다른 배열과 같은 크기로 생성"
      ]
    },
    {
      "metadata": {
        "id": "2A2PO15A6YRc",
        "colab_type": "code",
        "outputId": "87e7fdee-fbac-4aba-ab7c-7003227aefd9",
        "colab": {
          "base_uri": "https://localhost:8080/",
          "height": 161
        }
      },
      "cell_type": "code",
      "source": [
        "a = np.zeros(5) # 값이 0인 배열생성, dtype을 지정하지 않으면 초기값은 float\n",
        "print(a)\n",
        "\n",
        "a = np.zeros((2, 3)) # 값이 0인 이차원 배열생성\n",
        "print(a)\n",
        "\n",
        "a = np.zeros((3, 2), dtype=\"i\") # 값이 0인 정수형 이차원 배열생성\n",
        "print(a)\n",
        "\n",
        "a = np.zeros(5, dtype=\"U\") # 비어있는 문자열형 배열생성\n",
        "print(a)\n",
        "\n",
        "b = np.zeros_like(a, dtype='f') # dtype생략 시, a값을 통해 자료형을 판단\n",
        "print(b)"
      ],
      "execution_count": 0,
      "outputs": [
        {
          "output_type": "stream",
          "text": [
            "[0. 0. 0. 0. 0.]\n",
            "[[0. 0. 0.]\n",
            " [0. 0. 0.]]\n",
            "[[0 0]\n",
            " [0 0]\n",
            " [0 0]]\n",
            "['' '' '' '' '']\n",
            "[0. 0. 0. 0. 0.]\n"
          ],
          "name": "stdout"
        }
      ]
    },
    {
      "metadata": {
        "id": "_mz2sOHd8ELo",
        "colab_type": "text"
      },
      "cell_type": "markdown",
      "source": [
        "#### ones\n",
        "- 표현 : ones(배열의 크기, dtype='f')\n",
        "- 1로 초기화된 배열을 얻을 때 사용\n",
        "\n",
        "#### ones_like\n",
        "- 표현 : ones_like(다른 배열, dtype='f')\n",
        "- ones과 유사, 배열의 크기를 명시하지 않고 다른 배열과 같은 크기로 생성"
      ]
    },
    {
      "metadata": {
        "id": "zCVXBhbp8TUH",
        "colab_type": "code",
        "outputId": "d9679f72-6fe2-4950-b96e-0f106164138e",
        "colab": {
          "base_uri": "https://localhost:8080/",
          "height": 269
        }
      },
      "cell_type": "code",
      "source": [
        "a = np.ones((2, 3, 4), dtype=\"i\") # 배열의 크기를 튜플로 명시\n",
        "print(a)\n",
        "\n",
        "b = np.ones_like(a, dtype=\"f\") # dtype생략 시, a값을 통해 자료형을 판단\n",
        "print(b)"
      ],
      "execution_count": 0,
      "outputs": [
        {
          "output_type": "stream",
          "text": [
            "[[[1 1 1 1]\n",
            "  [1 1 1 1]\n",
            "  [1 1 1 1]]\n",
            "\n",
            " [[1 1 1 1]\n",
            "  [1 1 1 1]\n",
            "  [1 1 1 1]]]\n",
            "[[[1. 1. 1. 1.]\n",
            "  [1. 1. 1. 1.]\n",
            "  [1. 1. 1. 1.]]\n",
            "\n",
            " [[1. 1. 1. 1.]\n",
            "  [1. 1. 1. 1.]\n",
            "  [1. 1. 1. 1.]]]\n"
          ],
          "name": "stdout"
        }
      ]
    },
    {
      "metadata": {
        "id": "j9f3fc8R9rOc",
        "colab_type": "text"
      },
      "cell_type": "markdown",
      "source": [
        "#### empty\n",
        "- 배열을 생성만 하고 값을 초기화하지 않은 형태\n",
        "- 배열의 크기가 커지면 초기화하는데 시간이 걸리기 때문에 사용"
      ]
    },
    {
      "metadata": {
        "id": "rXqTL-8Q9922",
        "colab_type": "code",
        "outputId": "e853c7b4-3274-453b-b56b-a8a96de8ddef",
        "colab": {
          "base_uri": "https://localhost:8080/",
          "height": 53
        }
      },
      "cell_type": "code",
      "source": [
        "a = np.empty((2, 3))\n",
        "print(a)"
      ],
      "execution_count": 24,
      "outputs": [
        {
          "output_type": "stream",
          "text": [
            "[[4.9e-324 9.9e-324 1.5e-323]\n",
            " [2.0e-323 2.5e-323 3.0e-323]]\n"
          ],
          "name": "stdout"
        }
      ]
    },
    {
      "metadata": {
        "id": "zKLNWzww-YaM",
        "colab_type": "text"
      },
      "cell_type": "markdown",
      "source": [
        "#### arange\n",
        "- numpy버전의 range"
      ]
    },
    {
      "metadata": {
        "id": "8nPnC9o9-fAG",
        "colab_type": "code",
        "outputId": "3d5a8b14-873d-4587-cfc8-97b6a6c10dd4",
        "colab": {
          "base_uri": "https://localhost:8080/",
          "height": 53
        }
      },
      "cell_type": "code",
      "source": [
        "a = np.arange(5)\n",
        "print(a)\n",
        "\n",
        "a = np.arange(3, 15, 2)  # 시작, 끝(포함하지 않음), 단계\n",
        "print(a)"
      ],
      "execution_count": 0,
      "outputs": [
        {
          "output_type": "stream",
          "text": [
            "[0 1 2 3 4]\n",
            "[ 3  5  7  9 11 13]\n"
          ],
          "name": "stdout"
        }
      ]
    },
    {
      "metadata": {
        "id": "pBOp4dkNJVEh",
        "colab_type": "text"
      },
      "cell_type": "markdown",
      "source": [
        "#### linspace, logspace\n",
        "- 선형 구간 혹은 로그 구간을 지정한 구간의 수만큼 분할"
      ]
    },
    {
      "metadata": {
        "id": "3oj3lYawJdOB",
        "colab_type": "code",
        "outputId": "b92d86e6-1319-4409-8a0b-9f09771c60bc",
        "colab": {
          "base_uri": "https://localhost:8080/",
          "height": 71
        }
      },
      "cell_type": "code",
      "source": [
        "a = np.linspace(0, 100, 5)  # 시작, 끝(포함), 갯수\n",
        "print(a)\n",
        "\n",
        "a = np.logspace(0.1, 1, 10)\n",
        "print(a)"
      ],
      "execution_count": 0,
      "outputs": [
        {
          "output_type": "stream",
          "text": [
            "[  0.  25.  50.  75. 100.]\n",
            "[ 1.25892541  1.58489319  1.99526231  2.51188643  3.16227766  3.98107171\n",
            "  5.01187234  6.30957344  7.94328235 10.        ]\n"
          ],
          "name": "stdout"
        }
      ]
    },
    {
      "metadata": {
        "id": "M7mTg8uApBAi",
        "colab_type": "text"
      },
      "cell_type": "markdown",
      "source": [
        "### 난수을 통해 배열생성\n",
        "\n",
        "![평균, 분산, 표준편차](https://img1.daumcdn.net/thumb/R1280x0/?scode=mtistory&fname=http%3A%2F%2Fcfile3.uf.tistory.com%2Fimage%2F276E5D47566A1CA3295C43)\n",
        "\n",
        "\n",
        "\n",
        "> https://learnx.tistory.com"
      ]
    },
    {
      "metadata": {
        "id": "wQuBh9sBpXWf",
        "colab_type": "text"
      },
      "cell_type": "markdown",
      "source": [
        "#### random.normal\n",
        "\n",
        "\n",
        "*   normal(loc=0.0, scale=1.0, size=None)\n",
        "*   정규 분포 확률 밀도에서 표본 추출\n",
        "*   loc: 정규 분포의 평균\n",
        "*   scale: 표준편차"
      ]
    },
    {
      "metadata": {
        "id": "do3_ShC6qoEH",
        "colab_type": "code",
        "outputId": "f1f4e4de-daad-4de6-d401-f1a88a9883d0",
        "colab": {
          "base_uri": "https://localhost:8080/",
          "height": 53
        }
      },
      "cell_type": "code",
      "source": [
        "a = np.random.normal(1, 1, 10)\n",
        "a                     "
      ],
      "execution_count": 0,
      "outputs": [
        {
          "output_type": "execute_result",
          "data": {
            "text/plain": [
              "array([0.38992151, 1.47401165, 0.78675786, 0.4985589 , 2.33245781,\n",
              "       1.72024418, 0.23102113, 1.72533903, 0.36422755, 1.01989448])"
            ]
          },
          "metadata": {
            "tags": []
          },
          "execution_count": 9
        }
      ]
    },
    {
      "metadata": {
        "id": "1wbYOwiLqrFz",
        "colab_type": "text"
      },
      "cell_type": "markdown",
      "source": [
        "#### random.rand\n",
        "\n",
        "\n",
        "*   rand(shape=None)\n",
        "*   Shape에 맞는 배열 생성 후 난수로 초기화\n",
        "*   난수의 구간은 0이상 1미만"
      ]
    },
    {
      "metadata": {
        "id": "Hv7SfdFHpBU4",
        "colab_type": "code",
        "outputId": "7861bb64-d8a4-4de8-8922-fd20be349330",
        "colab": {
          "base_uri": "https://localhost:8080/",
          "height": 107
        }
      },
      "cell_type": "code",
      "source": [
        "a = np.random.rand(10)\n",
        "print(a)\n",
        "b = np.random.rand(3, 2)\n",
        "print(b)"
      ],
      "execution_count": 0,
      "outputs": [
        {
          "output_type": "stream",
          "text": [
            "[0.78124097 0.99959665 0.46560599 0.68541673 0.81418588 0.44873984\n",
            " 0.59769365 0.08633434 0.14985837 0.89396077]\n",
            "[[0.75010616 0.77332283]\n",
            " [0.20008004 0.0814754 ]\n",
            " [0.23709364 0.4057705 ]]\n"
          ],
          "name": "stdout"
        }
      ]
    },
    {
      "metadata": {
        "id": "fBja_KlpqA8w",
        "colab_type": "text"
      },
      "cell_type": "markdown",
      "source": [
        "#### 약속된 난수 (seed)"
      ]
    },
    {
      "metadata": {
        "id": "WxBQdi4lqFDw",
        "colab_type": "code",
        "outputId": "103b7047-52e4-4a53-8698-f673e6dbd3fe",
        "colab": {
          "base_uri": "https://localhost:8080/",
          "height": 161
        }
      },
      "cell_type": "code",
      "source": [
        "# seed 값을 설정\n",
        "np.random.seed(100)\n",
        "\n",
        "for b in range(2):\n",
        "  a = np.random.random((2, 2))\n",
        "  print(a)\n",
        "\n",
        "# 같은 seed값을 가진 난수를 아래에서 반복\n",
        "np.random.seed(100)\n",
        "\n",
        "for b in range(2):\n",
        "  a = np.random.random((2, 2))\n",
        "  print(a)"
      ],
      "execution_count": 0,
      "outputs": [
        {
          "output_type": "stream",
          "text": [
            "[[0.54340494 0.27836939]\n",
            " [0.42451759 0.84477613]]\n",
            "[[0.00471886 0.12156912]\n",
            " [0.67074908 0.82585276]]\n",
            "[[0.54340494 0.27836939]\n",
            " [0.42451759 0.84477613]]\n",
            "[[0.00471886 0.12156912]\n",
            " [0.67074908 0.82585276]]\n"
          ],
          "name": "stdout"
        }
      ]
    },
    {
      "metadata": {
        "id": "Lbq26iSZBcEg",
        "colab_type": "text"
      },
      "cell_type": "markdown",
      "source": [
        "##  벡터화 연산\n",
        "- 배열의 각 요소에 대한 반복 연산을 하나의 명령어로 처리"
      ]
    },
    {
      "metadata": {
        "id": "Q7XMfzFkBfUJ",
        "colab_type": "code",
        "outputId": "21434840-8eeb-4b1b-8523-bebcc2e8c135",
        "colab": {
          "base_uri": "https://localhost:8080/",
          "height": 53
        }
      },
      "cell_type": "code",
      "source": [
        "# List인 경우,\n",
        "a = [1, 2, 3]\n",
        "c = []\n",
        "for b in a:\n",
        "    c.append(2 * b)\n",
        "print(c)\n",
        "print(a * 2)"
      ],
      "execution_count": 0,
      "outputs": [
        {
          "output_type": "stream",
          "text": [
            "[2, 4, 6]\n",
            "[1, 2, 3, 1, 2, 3]\n"
          ],
          "name": "stdout"
        }
      ]
    },
    {
      "metadata": {
        "id": "lX3k9-DqBi-J",
        "colab_type": "code",
        "outputId": "7d71c302-5dc5-4f4b-a320-ead36e8040ec",
        "colab": {
          "base_uri": "https://localhost:8080/",
          "height": 53
        }
      },
      "cell_type": "code",
      "source": [
        "# Array인 경우,\n",
        "a = [1, 2, 3]\n",
        "b = np.array(a)\n",
        "c = b * 2\n",
        "print(c)\n",
        "print(c[2])"
      ],
      "execution_count": 0,
      "outputs": [
        {
          "output_type": "stream",
          "text": [
            "[2 4 6]\n",
            "6\n"
          ],
          "name": "stdout"
        }
      ]
    },
    {
      "metadata": {
        "id": "To8kEYoHBm9w",
        "colab_type": "code",
        "outputId": "8de3897e-2bd7-4093-df57-8138eee1b26f",
        "colab": {
          "base_uri": "https://localhost:8080/",
          "height": 107
        }
      },
      "cell_type": "code",
      "source": [
        "# 산술 연산 뿐만 아니라, 비교 연산과 논리 연산을 포함한 모든 종류의 수학 연산에 대해 적용\n",
        "a = np.array([1, 2, 3])\n",
        "# b = np.array([10, 20]) # Shape가 동일해야 가능\n",
        "b = np.array([10, 20, 30])\n",
        "c = 2 * a + b\n",
        "print(c)\n",
        "print(c / 2)\n",
        "print(a == 2)\n",
        "print(a > 2)\n",
        "print(0 == (b % 10))"
      ],
      "execution_count": 0,
      "outputs": [
        {
          "output_type": "stream",
          "text": [
            "[12 24 36]\n",
            "[ 6. 12. 18.]\n",
            "[False  True False]\n",
            "[False False  True]\n",
            "[ True  True  True]\n"
          ],
          "name": "stdout"
        }
      ]
    },
    {
      "metadata": {
        "id": "JnhZ6OtICFID",
        "colab_type": "text"
      },
      "cell_type": "markdown",
      "source": [
        "## 인덱싱"
      ]
    },
    {
      "metadata": {
        "id": "3YVUWfi_CHb4",
        "colab_type": "code",
        "outputId": "041d233b-306b-4d9d-93fb-ef741ce2fc42",
        "colab": {
          "base_uri": "https://localhost:8080/",
          "height": 125
        }
      },
      "cell_type": "code",
      "source": [
        "a = np.array([[1, 2, 3], [4, 5, 6]])\n",
        "print(a)\n",
        "print(a[0])\n",
        "print(a[0,1]) # 첫 번째 행의 두 번째 열\n",
        "print(a[0,-1]) # 첫 번째 행의 마지막 열\n",
        "print(len(a), len(a[0])) # 행, 열의 갯수"
      ],
      "execution_count": 0,
      "outputs": [
        {
          "output_type": "stream",
          "text": [
            "[[1 2 3]\n",
            " [4 5 6]]\n",
            "[1 2 3]\n",
            "2\n",
            "3\n",
            "2 3\n"
          ],
          "name": "stdout"
        }
      ]
    },
    {
      "metadata": {
        "id": "a484DHdGCKuI",
        "colab_type": "text"
      },
      "cell_type": "markdown",
      "source": [
        "##### 🔍 문제\n",
        "- 위의 `a = np.array([[1, 2, 3], [4, 5, 6]])`로부터 이차원 배열 전체 요소을 아래와 같이 출력\n",
        "\n",
        "1 2 3 4 5 6 \n",
        "\n",
        "<details>\n",
        "  <summary>Solution!</summary>\n",
        "  \n",
        "<pre>\n",
        "a = np.array([[1, 2, 3], [4, 5, 6]])\n",
        "for b in range(len(a)):\n",
        "    for c in range(len(a[b])):\n",
        "        print(a[b, c], end=\" \")\n",
        "</pre>\n",
        "</details>"
      ]
    },
    {
      "metadata": {
        "id": "usG0VuDxCVNo",
        "colab_type": "text"
      },
      "cell_type": "markdown",
      "source": [
        "## 슬라이싱"
      ]
    },
    {
      "metadata": {
        "id": "1GQlyt7XCX9w",
        "colab_type": "code",
        "outputId": "315fe0f9-c343-40d4-e599-0aa93b2f858f",
        "colab": {
          "base_uri": "https://localhost:8080/",
          "height": 89
        }
      },
      "cell_type": "code",
      "source": [
        "a = np.array([[1, 2, 3], [4, 5, 6]])\n",
        "print(a[0, :]) # 첫 번째 행의 모든 열\n",
        "print(a[1, 1:]) # 두 번째 행의 두 번째 열부터 끝까지\n",
        "print(a[:, :2]) # 모든 행의 첫 번째 열부터 두 번째 열까지"
      ],
      "execution_count": 0,
      "outputs": [
        {
          "output_type": "stream",
          "text": [
            "[1 2 3]\n",
            "[5 6]\n",
            "[[1 2]\n",
            " [4 5]]\n"
          ],
          "name": "stdout"
        }
      ]
    },
    {
      "metadata": {
        "id": "PDuTw135Caix",
        "colab_type": "text"
      },
      "cell_type": "markdown",
      "source": [
        "##### 🔍 문제\n",
        "- 반복을 사용하여 아래의 리스트를 만든다.\n",
        "[[1, 2, 3, 4], [5, 6, 7, 8], [9, 10, 11, 12], [13, 14, 15, 16], [17, 18, 19, 20]]\n",
        "- `Array`을 사용하여 16을 인덱싱한다.\n",
        "- `Array`을 사용하여 [7, 8]을 슬라이싱 한다. \n",
        "\n",
        "<details>\n",
        "  <summary>Solution!</summary>\n",
        "  \n",
        "<pre>\n",
        "a = []\n",
        "b = []\n",
        "for c in range(1, 21):\n",
        "    b.append(c)\n",
        "    if c % 4 == 0:\n",
        "        a.append(b)\n",
        "        b = []\n",
        "print(a)\n",
        "d = np.array(a)\n",
        "print(d[3][-1])\n",
        "print(d[1, 2:])\n",
        "</pre>\n",
        "</details>"
      ]
    },
    {
      "metadata": {
        "id": "Jkmz88DnCfxv",
        "colab_type": "text"
      },
      "cell_type": "markdown",
      "source": [
        "## 배열 인덱싱\n",
        "- 대괄호안의 인덱스 정보로 숫자나 슬라이스가 아니라 위치 정보를 나타내는 또 다른 배열(인덱스 배열)을 넣는 경우\n",
        "- 인덱스 배열에는 Boolean배열방식, 정수형 배열방식이 있다.\n",
        " - Boolean배열방식은 인덱스 배열의 원소가 True, False 두 값으로만 구성되며 인덱스 배열의 크기가 원래 ndarray 객체의 크기와 같다.\n",
        " - 정수형 배열방식은 인덱스 배열의 원소 각각이 원래 ndarray 객체 원소 하나를 가리키는 인덱스 정수"
      ]
    },
    {
      "metadata": {
        "id": "9fPvU8ZvCh-X",
        "colab_type": "code",
        "colab": {}
      },
      "cell_type": "code",
      "source": [
        "a = np.array([10, 11, 12, 13, 14, 15, 16, 17, 18, 19])"
      ],
      "execution_count": 0,
      "outputs": []
    },
    {
      "metadata": {
        "id": "_neU0V0qCj1Q",
        "colab_type": "code",
        "outputId": "194e1ced-c6ce-4ed5-fc2e-5c1b43e050f4",
        "colab": {
          "base_uri": "https://localhost:8080/",
          "height": 89
        }
      },
      "cell_type": "code",
      "source": [
        "# Boolean형 배열방식\n",
        "b = np.array([True, False, True, False, True,\n",
        "                False, True, False, True, False])\n",
        "print(a[b])\n",
        "print(a % 2)\n",
        "print(a % 2 == 0)\n",
        "print(a[a % 2 == 0])"
      ],
      "execution_count": 0,
      "outputs": [
        {
          "output_type": "stream",
          "text": [
            "[10 12 14 16 18]\n",
            "[0 1 0 1 0 1 0 1 0 1]\n",
            "[ True False  True False  True False  True False  True False]\n",
            "[10 12 14 16 18]\n"
          ],
          "name": "stdout"
        }
      ]
    },
    {
      "metadata": {
        "id": "TtJfJ2NVCl1Q",
        "colab_type": "code",
        "outputId": "acca67a2-832c-43f0-c5a9-530a9f36bd0e",
        "colab": {
          "base_uri": "https://localhost:8080/",
          "height": 53
        }
      },
      "cell_type": "code",
      "source": [
        "# 정수형 배열방식\n",
        "c = np.array([1, 3, 5, 7, 9])\n",
        "d = np.array([1, 1, 0, 0, 4, 4, 1, 1, 1, 1, 1, 1, 1]) # 배열 인덱스가 원래의 배열보다 클 수 있다.\n",
        "print(a[c])\n",
        "print(a[d])"
      ],
      "execution_count": 0,
      "outputs": [
        {
          "output_type": "stream",
          "text": [
            "[11 13 15 17 19]\n",
            "[11 11 10 10 14 14 11 11 11 11 11 11 11]\n"
          ],
          "name": "stdout"
        }
      ]
    },
    {
      "metadata": {
        "id": "L81x-dxLCoEP",
        "colab_type": "code",
        "outputId": "bc2844f7-10c2-4ffb-f91d-5d5c21114c9d",
        "colab": {
          "base_uri": "https://localhost:8080/",
          "height": 89
        }
      },
      "cell_type": "code",
      "source": [
        "# 배열 인덱싱은 다차원 배열의 각 차원에 대해서도 가능\n",
        "e= np.array([[1, 2, 3, 4], [5, 6, 7, 8]])\n",
        "print(a[e])\n",
        "print(e[:, [True, False, False, True]])"
      ],
      "execution_count": 0,
      "outputs": [
        {
          "output_type": "stream",
          "text": [
            "[[11 12 13 14]\n",
            " [15 16 17 18]]\n",
            "[[1 4]\n",
            " [5 8]]\n"
          ],
          "name": "stdout"
        }
      ]
    },
    {
      "metadata": {
        "id": "83PiJIomCr4f",
        "colab_type": "text"
      },
      "cell_type": "markdown",
      "source": [
        "##### 🔍 문제\n",
        "z = np.array([1, 2, 3, 4, 5, 6, 7, 8, 9, 10, 11, 12, 13, 14, 15])\n",
        "\n",
        "- 이 배열에서 3의 배수를 찾아라.\n",
        "- 이 배열에서 3으로 나누면 나누어지고 4로 나누면 2가 남는 수를 찾아라.\n",
        "\n",
        "<details>\n",
        "  <summary>Solution!</summary>\n",
        "  \n",
        "<pre>\n",
        "z = np.array([1, 2, 3, 4, 5, 6, 7, 8, 9, 10, 11, 12, 13, 14, 15])\n",
        "print(z[z % 3 == 0])\n",
        "print(z[(z % 3 == 0) & (z % 4 == 2)])\n",
        "</pre>\n",
        "</details>"
      ]
    },
    {
      "metadata": {
        "id": "kl6AoDjxCwrH",
        "colab_type": "text"
      },
      "cell_type": "markdown",
      "source": [
        "## 연산\n",
        "- +, -, *, / 등의 연산자를 사용\n",
        "- add(), substract(), multiply(), divide() 등의 함수를 사용"
      ]
    },
    {
      "metadata": {
        "id": "tde1T_lRCzlw",
        "colab_type": "code",
        "outputId": "1698bb5f-ed3d-48ff-e9f9-5c001985c25b",
        "colab": {
          "base_uri": "https://localhost:8080/",
          "height": 89
        }
      },
      "cell_type": "code",
      "source": [
        "a = np.array([1,2])\n",
        "b = np.array([3,4])\n",
        " \n",
        "# 각 요소 더하기\n",
        "c = a + b\n",
        "# c = np.add(a, b)\n",
        "print(c)\n",
        " \n",
        "# 각 요소 빼기\n",
        "c = a - b\n",
        "# c = np.subtract(a, b)\n",
        "print(c)\n",
        " \n",
        "# 각 요소 곱하기\n",
        "# c = a * b\n",
        "c = np.multiply(a, b)\n",
        "print(c)\n",
        " \n",
        "# 각 요소 나누기\n",
        "# c = a / b\n",
        "c = np.divide(a, b)\n",
        "print(c)"
      ],
      "execution_count": 0,
      "outputs": [
        {
          "output_type": "stream",
          "text": [
            "[4 6]\n",
            "[-2 -2]\n",
            "[3 8]\n",
            "[0.33333333 0.5       ]\n"
          ],
          "name": "stdout"
        }
      ]
    },
    {
      "metadata": {
        "id": "L1rNkrt0C1rv",
        "colab_type": "code",
        "outputId": "2c2ba1eb-f2f8-4ba8-aaae-40f61d0c3dd5",
        "colab": {
          "base_uri": "https://localhost:8080/",
          "height": 53
        }
      },
      "cell_type": "code",
      "source": [
        "# vector와 matrix의 product을 연산\n",
        "a = np.array([[1,2],[3,4]])\n",
        "b = np.array([[5,6],[7,8]])\n",
        "c = np.dot(a, b)\n",
        "print(c)"
      ],
      "execution_count": 0,
      "outputs": [
        {
          "output_type": "stream",
          "text": [
            "[[19 22]\n",
            " [43 50]]\n"
          ],
          "name": "stdout"
        }
      ]
    },
    {
      "metadata": {
        "id": "dsuhORzfC3un",
        "colab_type": "code",
        "outputId": "aa77cc63-6672-4f24-c96c-0dc4c08aaffd",
        "colab": {
          "base_uri": "https://localhost:8080/",
          "height": 89
        }
      },
      "cell_type": "code",
      "source": [
        "a = np.array([[1,2],[3,4]])\n",
        "s = np.sum(a)\n",
        "print(s)   # 각 요소의 합\n",
        " \n",
        "# axis=0 이면, 컬럼끼리 더함\n",
        "# axis=1 이면, 행끼리 더함\n",
        "s = np.sum(a, axis=0)\n",
        "print(s)\n",
        "s = np.sum(a, axis=1)\n",
        "print(s)\n",
        "\n",
        "s = np.prod(a)\n",
        "print(s)   # 각 요소의 곱"
      ],
      "execution_count": 0,
      "outputs": [
        {
          "output_type": "stream",
          "text": [
            "10\n",
            "[4 6]\n",
            "[3 7]\n",
            "24\n"
          ],
          "name": "stdout"
        }
      ]
    }
  ]
}