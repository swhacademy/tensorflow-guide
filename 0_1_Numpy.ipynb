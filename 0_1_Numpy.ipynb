{
  "nbformat": 4,
  "nbformat_minor": 0,
  "metadata": {
    "colab": {
      "name": "0_1_Numpy.ipynb",
      "version": "0.3.2",
      "provenance": [],
      "collapsed_sections": [],
      "toc_visible": true,
      "include_colab_link": true
    },
    "kernelspec": {
      "name": "python3",
      "display_name": "Python 3"
    },
    "accelerator": "GPU"
  },
  "cells": [
    {
      "cell_type": "markdown",
      "metadata": {
        "id": "view-in-github",
        "colab_type": "text"
      },
      "source": [
        "<a href=\"https://colab.research.google.com/github/swhacademy/tensorflow-guide/blob/master/0_1_Numpy.ipynb\" target=\"_parent\"><img src=\"https://colab.research.google.com/assets/colab-badge.svg\" alt=\"Open In Colab\"/></a>"
      ]
    },
    {
      "metadata": {
        "id": "35XJkcNX_330",
        "colab_type": "text"
      },
      "cell_type": "markdown",
      "source": [
        "# numpy\n",
        "\n",
        "- Python의 과학 컴퓨팅을 위한 핵심 라이브러리\n",
        "- 고성능 다차원 배열 객체와 이러한 배열 작업을위한 도구를 제공\n",
        "\n",
        "## Array 배열\n",
        "- 속도가 느리고 메모리를 많이 차지하는 List의 대안\n",
        "- 적은 메모리로 데이터를 빠르게 처리\n",
        "- 모든 요소가 같은 자료형이며, 요소의 갯수를 바꿀 수 없다.\n",
        "- 벡터와 행렬을 사용하는 선형대수 계산에 주로 사용"
      ]
    },
    {
      "metadata": {
        "id": "Et_NrFlR_9sr",
        "colab_type": "text"
      },
      "cell_type": "markdown",
      "source": [
        "## numpy 모듈"
      ]
    },
    {
      "metadata": {
        "id": "wIO11VR3_pzE",
        "colab_type": "code",
        "colab": {
          "base_uri": "https://localhost:8080/",
          "height": 35
        },
        "outputId": "c4b643ad-288a-4553-a13a-538aa584b38c"
      },
      "cell_type": "code",
      "source": [
        "import numpy as np\n",
        "np.__version__"
      ],
      "execution_count": 1,
      "outputs": [
        {
          "output_type": "execute_result",
          "data": {
            "text/plain": [
              "'1.16.2'"
            ]
          },
          "metadata": {
            "tags": []
          },
          "execution_count": 1
        }
      ]
    },
    {
      "metadata": {
        "id": "yNToF9G6ADUb",
        "colab_type": "text"
      },
      "cell_type": "markdown",
      "source": [
        "## ndarray 특징\n",
        "\n",
        "\n",
        "*   NumPy 배열의 구조는 “Shape“으로 표현. Shape은 배열의 구조를 파이썬 튜플 자료형을 이용하여 정의\n",
        "\n"
      ]
    },
    {
      "metadata": {
        "id": "5c8bnXZgAKxK",
        "colab_type": "code",
        "cellView": "code",
        "outputId": "92dbc75f-dde0-4205-e318-3ce5dd8b0a6f",
        "colab": {
          "base_uri": "https://localhost:8080/",
          "height": 89
        }
      },
      "cell_type": "code",
      "source": [
        "a = np.array([1, 2, 3]) # rank = 1\n",
        "print(type(a)) # ndarrayd은 N-dimensional Array의 약자\n",
        "print(a.ndim) # 배열의 차원(Rank)\n",
        "print(a.shape) # 배열의 크기\n",
        "print(a.dtype) # 배열의 자료형"
      ],
      "execution_count": 2,
      "outputs": [
        {
          "output_type": "stream",
          "text": [
            "<class 'numpy.ndarray'>\n",
            "1\n",
            "(3,)\n",
            "int64\n"
          ],
          "name": "stdout"
        }
      ]
    },
    {
      "metadata": {
        "id": "BSQricYAEdvY",
        "colab_type": "text"
      },
      "cell_type": "markdown",
      "source": [
        "### ndarray 자료형\n",
        "\n",
        "| dtype 접두사 | 설명 |\n",
        "|---|---|---|\n",
        "| b | boolean  |\n",
        "| i | 정수  |\n",
        "| u | 부호 없는 정수  |\n",
        "| f | 부동소수점  |\n",
        "| c | 복소 부동소수점  |\n",
        "| O | 객체  |\n",
        "| S | 바이트 문자열  |\n",
        "| U | 유니코드 문자열  |"
      ]
    },
    {
      "metadata": {
        "id": "IfG63xWWdsHd",
        "colab_type": "text"
      },
      "cell_type": "markdown",
      "source": [
        "## 배열 만들기\n",
        "\n",
        "*   리스트를 통해 배열생성\n",
        "*   데이터을 자동으로 얻은 후 배열생성\n",
        "*   난수을 통해 배열생성 (다루지 않음)"
      ]
    },
    {
      "metadata": {
        "id": "j9PWUCFzFzSs",
        "colab_type": "text"
      },
      "cell_type": "markdown",
      "source": [
        "### 리스트를 통해 배열생성"
      ]
    },
    {
      "metadata": {
        "id": "0eYZ5PlXEnoU",
        "colab_type": "code",
        "colab": {
          "base_uri": "https://localhost:8080/",
          "height": 305
        },
        "outputId": "85203f8d-d30f-4c5e-c480-224f27e0b161"
      },
      "cell_type": "code",
      "source": [
        "a = np.array([1, 2, 3], dtype='f') # dtype이 없으면 값을 보고 판단\n",
        "print(a)\n",
        "print(a.dtype)\n",
        "\n",
        "a = [1, 2, 3]\n",
        "b = np.array(a)\n",
        "print(b)\n",
        "\n",
        "a = [[1, 2, 3], [4, 5, 6]]\n",
        "b = np.array(a)  # 2 x 3 배열\n",
        "print(b)\n",
        "\n",
        "a = [\n",
        "    [[1, 2, 3], [4, 5, 6]], \n",
        "    [[7, 8, 9], [10, 11, 12]], \n",
        "    [[1, 2, 3], [4, 5, 6]], \n",
        "    [[7, 8, 9], [10, 11, 12]]\n",
        "]\n",
        "b = np.array(a)  # 4 * 2 x 3 배열\n",
        "print(b)"
      ],
      "execution_count": 3,
      "outputs": [
        {
          "output_type": "stream",
          "text": [
            "[1. 2. 3.]\n",
            "float32\n",
            "[1 2 3]\n",
            "[[1 2 3]\n",
            " [4 5 6]]\n",
            "[[[ 1  2  3]\n",
            "  [ 4  5  6]]\n",
            "\n",
            " [[ 7  8  9]\n",
            "  [10 11 12]]\n",
            "\n",
            " [[ 1  2  3]\n",
            "  [ 4  5  6]]\n",
            "\n",
            " [[ 7  8  9]\n",
            "  [10 11 12]]]\n"
          ],
          "name": "stdout"
        }
      ]
    },
    {
      "metadata": {
        "id": "kD_poxXgF5F7",
        "colab_type": "text"
      },
      "cell_type": "markdown",
      "source": [
        "### 데이터을 자동으로 얻은 후 배열생성"
      ]
    },
    {
      "metadata": {
        "id": "a-yIYmFq74ln",
        "colab_type": "text"
      },
      "cell_type": "markdown",
      "source": [
        "#### zeros\n",
        "- 표현 : zeros(배열의 크기, dtype='f')\n",
        "- 값을 0, 문자열인 경우에는 비어있는 값을 배열로 얻을 때 사용\n",
        "\n",
        "#### zeros_like\n",
        "- 표현 : zeros_like(다른 배열, dtype='f')\n",
        "- zeros 유사, 배열의 크기를 명시하지 않고 다른 배열과 같은 크기로 생성"
      ]
    },
    {
      "metadata": {
        "id": "2A2PO15A6YRc",
        "colab_type": "code",
        "colab": {
          "base_uri": "https://localhost:8080/",
          "height": 161
        },
        "outputId": "59750ec8-25ea-4bdc-8180-c68d314c00b2"
      },
      "cell_type": "code",
      "source": [
        "a = np.zeros(5) # 값이 0인 배열생성, dtype을 지정하지 않으면 초기값은 float\n",
        "print(a)\n",
        "\n",
        "a = np.zeros((2, 3)) # 값이 0인 이차원 배열생성\n",
        "print(a)\n",
        "\n",
        "a = np.zeros((3, 2), dtype=\"i\") # 값이 0인 정수형 이차원 배열생성\n",
        "print(a)\n",
        "\n",
        "a = np.zeros(5, dtype=\"U\") # 비어있는 문자열형 배열생성\n",
        "print(a)\n",
        "\n",
        "b = np.zeros_like(a, dtype='f') # dtype생략 시, a값을 통해 자료형을 판단\n",
        "print(b)"
      ],
      "execution_count": 4,
      "outputs": [
        {
          "output_type": "stream",
          "text": [
            "[0. 0. 0. 0. 0.]\n",
            "[[0. 0. 0.]\n",
            " [0. 0. 0.]]\n",
            "[[0 0]\n",
            " [0 0]\n",
            " [0 0]]\n",
            "['' '' '' '' '']\n",
            "[0. 0. 0. 0. 0.]\n"
          ],
          "name": "stdout"
        }
      ]
    },
    {
      "metadata": {
        "id": "_mz2sOHd8ELo",
        "colab_type": "text"
      },
      "cell_type": "markdown",
      "source": [
        "#### ones\n",
        "- 표현 : ones(배열의 크기, dtype='f')\n",
        "- 1로 초기화된 배열을 얻을 때 사용\n",
        "\n",
        "#### ones_like\n",
        "- 표현 : ones_like(다른 배열, dtype='f')\n",
        "- ones과 유사, 배열의 크기를 명시하지 않고 다른 배열과 같은 크기로 생성"
      ]
    },
    {
      "metadata": {
        "id": "zCVXBhbp8TUH",
        "colab_type": "code",
        "colab": {
          "base_uri": "https://localhost:8080/",
          "height": 269
        },
        "outputId": "72e0f542-de39-4632-a1d8-2673f6d7e5dd"
      },
      "cell_type": "code",
      "source": [
        "a = np.ones((2, 3, 4), dtype=\"i\") # 배열의 크기를 튜플로 명시\n",
        "print(a)\n",
        "\n",
        "b = np.ones_like(a, dtype=\"f\") # dtype생략 시, a값을 통해 자료형을 판단\n",
        "print(b)"
      ],
      "execution_count": 5,
      "outputs": [
        {
          "output_type": "stream",
          "text": [
            "[[[1 1 1 1]\n",
            "  [1 1 1 1]\n",
            "  [1 1 1 1]]\n",
            "\n",
            " [[1 1 1 1]\n",
            "  [1 1 1 1]\n",
            "  [1 1 1 1]]]\n",
            "[[[1. 1. 1. 1.]\n",
            "  [1. 1. 1. 1.]\n",
            "  [1. 1. 1. 1.]]\n",
            "\n",
            " [[1. 1. 1. 1.]\n",
            "  [1. 1. 1. 1.]\n",
            "  [1. 1. 1. 1.]]]\n"
          ],
          "name": "stdout"
        }
      ]
    },
    {
      "metadata": {
        "id": "j9f3fc8R9rOc",
        "colab_type": "text"
      },
      "cell_type": "markdown",
      "source": [
        "#### empty\n",
        "- 배열을 생성만 하고 값을 초기화하지 않은 형태\n",
        "- 배열의 크기가 커지면 초기화하는데 시간이 걸리기 때문에 사용"
      ]
    },
    {
      "metadata": {
        "id": "rXqTL-8Q9922",
        "colab_type": "code",
        "colab": {
          "base_uri": "https://localhost:8080/",
          "height": 53
        },
        "outputId": "ff12faea-dabd-49e8-cc5f-c5cc7e45020d"
      },
      "cell_type": "code",
      "source": [
        "a = np.empty((2, 3))\n",
        "print(a)"
      ],
      "execution_count": 6,
      "outputs": [
        {
          "output_type": "stream",
          "text": [
            "[[0. 0. 0.]\n",
            " [0. 0. 0.]]\n"
          ],
          "name": "stdout"
        }
      ]
    },
    {
      "metadata": {
        "id": "zKLNWzww-YaM",
        "colab_type": "text"
      },
      "cell_type": "markdown",
      "source": [
        "#### arange\n",
        "- numpy버전의 range"
      ]
    },
    {
      "metadata": {
        "id": "8nPnC9o9-fAG",
        "colab_type": "code",
        "colab": {
          "base_uri": "https://localhost:8080/",
          "height": 53
        },
        "outputId": "21835fd5-3a47-4372-d2c9-0367fb46c9c9"
      },
      "cell_type": "code",
      "source": [
        "a = np.arange(5)\n",
        "print(a)\n",
        "\n",
        "a = np.arange(3, 15, 2)  # 시작, 끝(포함하지 않음), 단계\n",
        "print(a)"
      ],
      "execution_count": 7,
      "outputs": [
        {
          "output_type": "stream",
          "text": [
            "[0 1 2 3 4]\n",
            "[ 3  5  7  9 11 13]\n"
          ],
          "name": "stdout"
        }
      ]
    },
    {
      "metadata": {
        "id": "pBOp4dkNJVEh",
        "colab_type": "text"
      },
      "cell_type": "markdown",
      "source": [
        "#### linspace, logspace\n",
        "- 선형 구간 혹은 로그 구간을 지정한 구간의 수만큼 분할"
      ]
    },
    {
      "metadata": {
        "id": "3oj3lYawJdOB",
        "colab_type": "code",
        "colab": {
          "base_uri": "https://localhost:8080/",
          "height": 71
        },
        "outputId": "de0afbfb-8ab9-4df2-8d23-6911958a527e"
      },
      "cell_type": "code",
      "source": [
        "a = np.linspace(0, 100, 5)  # 시작, 끝(포함), 갯수\n",
        "print(a)\n",
        "\n",
        "a = np.logspace(0.1, 1, 10)\n",
        "print(a)"
      ],
      "execution_count": 8,
      "outputs": [
        {
          "output_type": "stream",
          "text": [
            "[  0.  25.  50.  75. 100.]\n",
            "[ 1.25892541  1.58489319  1.99526231  2.51188643  3.16227766  3.98107171\n",
            "  5.01187234  6.30957344  7.94328235 10.        ]\n"
          ],
          "name": "stdout"
        }
      ]
    },
    {
      "metadata": {
        "id": "Lbq26iSZBcEg",
        "colab_type": "text"
      },
      "cell_type": "markdown",
      "source": [
        "##  벡터화 연산\n",
        "- 배열의 각 요소에 대한 반복 연산을 하나의 명령어로 처리"
      ]
    },
    {
      "metadata": {
        "id": "Q7XMfzFkBfUJ",
        "colab_type": "code",
        "outputId": "56f63efb-96a9-4758-ce32-e3bbd569bbec",
        "colab": {
          "base_uri": "https://localhost:8080/",
          "height": 53
        }
      },
      "cell_type": "code",
      "source": [
        "# List인 경우,\n",
        "a = [1, 2, 3]\n",
        "c = []\n",
        "for b in a:\n",
        "    c.append(2 * b)\n",
        "print(c)\n",
        "print(a * 2)"
      ],
      "execution_count": 9,
      "outputs": [
        {
          "output_type": "stream",
          "text": [
            "[2, 4, 6]\n",
            "[1, 2, 3, 1, 2, 3]\n"
          ],
          "name": "stdout"
        }
      ]
    },
    {
      "metadata": {
        "id": "lX3k9-DqBi-J",
        "colab_type": "code",
        "outputId": "0fc9ab57-8929-4abc-8d5c-5eaa0fb796ce",
        "colab": {
          "base_uri": "https://localhost:8080/",
          "height": 53
        }
      },
      "cell_type": "code",
      "source": [
        "# Array인 경우,\n",
        "a = [1, 2, 3]\n",
        "b = np.array(a)\n",
        "c = b * 2\n",
        "print(c)\n",
        "print(c[2])"
      ],
      "execution_count": 10,
      "outputs": [
        {
          "output_type": "stream",
          "text": [
            "[2 4 6]\n",
            "6\n"
          ],
          "name": "stdout"
        }
      ]
    },
    {
      "metadata": {
        "id": "To8kEYoHBm9w",
        "colab_type": "code",
        "outputId": "665d2459-4a22-49e6-b44a-4704a38012e1",
        "colab": {
          "base_uri": "https://localhost:8080/",
          "height": 107
        }
      },
      "cell_type": "code",
      "source": [
        "# 산술 연산 뿐만 아니라, 비교 연산과 논리 연산을 포함한 모든 종류의 수학 연산에 대해 적용\n",
        "a = np.array([1, 2, 3])\n",
        "# b = np.array([10, 20]) # Shape가 동일해야 가능\n",
        "b = np.array([10, 20, 30])\n",
        "c = 2 * a + b\n",
        "print(c)\n",
        "print(c / 2)\n",
        "print(a == 2)\n",
        "print(a > 2)\n",
        "print(0 == (b % 10))"
      ],
      "execution_count": 11,
      "outputs": [
        {
          "output_type": "stream",
          "text": [
            "[12 24 36]\n",
            "[ 6. 12. 18.]\n",
            "[False  True False]\n",
            "[False False  True]\n",
            "[ True  True  True]\n"
          ],
          "name": "stdout"
        }
      ]
    },
    {
      "metadata": {
        "id": "JnhZ6OtICFID",
        "colab_type": "text"
      },
      "cell_type": "markdown",
      "source": [
        "## 인덱싱"
      ]
    },
    {
      "metadata": {
        "id": "3YVUWfi_CHb4",
        "colab_type": "code",
        "outputId": "5d97bbe4-9eff-4a1d-f753-fb3d53b55e59",
        "colab": {
          "base_uri": "https://localhost:8080/",
          "height": 125
        }
      },
      "cell_type": "code",
      "source": [
        "a = np.array([[1, 2, 3], [4, 5, 6]])\n",
        "print(a)\n",
        "print(a[0])\n",
        "print(a[0,1]) # 첫 번째 행의 두 번째 열\n",
        "print(a[0,-1]) # 첫 번째 행의 마지막 열\n",
        "print(len(a), len(a[0])) # 행, 열의 갯수"
      ],
      "execution_count": 12,
      "outputs": [
        {
          "output_type": "stream",
          "text": [
            "[[1 2 3]\n",
            " [4 5 6]]\n",
            "[1 2 3]\n",
            "2\n",
            "3\n",
            "2 3\n"
          ],
          "name": "stdout"
        }
      ]
    },
    {
      "metadata": {
        "id": "a484DHdGCKuI",
        "colab_type": "text"
      },
      "cell_type": "markdown",
      "source": [
        "##### 🔍 문제\n",
        "- 위의 `a = np.array([[1, 2, 3], [4, 5, 6]])`로부터 이차원 배열 전체 요소을 아래와 같이 출력\n",
        "\n",
        "1 2 3 4 5 6 \n",
        "\n",
        "<details>\n",
        "  <summary>Solution!</summary>\n",
        "  \n",
        "<pre>\n",
        "a = np.array([[1, 2, 3], [4, 5, 6]])\n",
        "for b in range(len(a)):\n",
        "    for c in range(len(a[b])):\n",
        "        print(a[b, c], end=\" \")\n",
        "</pre>\n",
        "</details>"
      ]
    },
    {
      "metadata": {
        "id": "usG0VuDxCVNo",
        "colab_type": "text"
      },
      "cell_type": "markdown",
      "source": [
        "## 슬라이싱"
      ]
    },
    {
      "metadata": {
        "id": "1GQlyt7XCX9w",
        "colab_type": "code",
        "outputId": "419303ad-48e6-4714-e16f-7d9b9be21357",
        "colab": {
          "base_uri": "https://localhost:8080/",
          "height": 89
        }
      },
      "cell_type": "code",
      "source": [
        "a = np.array([[1, 2, 3], [4, 5, 6]])\n",
        "print(a[0, :]) # 첫 번째 행의 모든 열\n",
        "print(a[1, 1:]) # 두 번째 행의 두 번째 열부터 끝까지\n",
        "print(a[:, :2]) # 모든 행의 첫 번째 열부터 두 번째 열까지"
      ],
      "execution_count": 13,
      "outputs": [
        {
          "output_type": "stream",
          "text": [
            "[1 2 3]\n",
            "[5 6]\n",
            "[[1 2]\n",
            " [4 5]]\n"
          ],
          "name": "stdout"
        }
      ]
    },
    {
      "metadata": {
        "id": "PDuTw135Caix",
        "colab_type": "text"
      },
      "cell_type": "markdown",
      "source": [
        "##### 🔍 문제\n",
        "- 반복을 사용하여 아래의 리스트를 만든다.\n",
        "[[1, 2, 3, 4], [5, 6, 7, 8], [9, 10, 11, 12], [13, 14, 15, 16], [17, 18, 19, 20]]\n",
        "- `Array`을 사용하여 16을 인덱싱한다.\n",
        "- `Array`을 사용하여 [7, 8]을 슬라이싱 한다. \n",
        "\n",
        "<details>\n",
        "  <summary>Solution!</summary>\n",
        "  \n",
        "<pre>\n",
        "a = []\n",
        "b = []\n",
        "for c in range(1, 21):\n",
        "    b.append(c)\n",
        "    if c % 4 == 0:\n",
        "        a.append(b)\n",
        "        b = []\n",
        "print(a)\n",
        "d = np.array(a)\n",
        "print(d[3][-1])\n",
        "print(d[1, 2:])\n",
        "</pre>\n",
        "</details>"
      ]
    },
    {
      "metadata": {
        "id": "Jkmz88DnCfxv",
        "colab_type": "text"
      },
      "cell_type": "markdown",
      "source": [
        "## 배열 인덱싱\n",
        "- 대괄호안의 인덱스 정보로 숫자나 슬라이스가 아니라 위치 정보를 나타내는 또 다른 배열(인덱스 배열)을 넣는 경우\n",
        "- 인덱스 배열에는 Boolean배열방식, 정수형 배열방식이 있다.\n",
        " - Boolean배열방식은 인덱스 배열의 원소가 True, False 두 값으로만 구성되며 인덱스 배열의 크기가 원래 ndarray 객체의 크기와 같다.\n",
        " - 정수형 배열방식은 인덱스 배열의 원소 각각이 원래 ndarray 객체 원소 하나를 가리키는 인덱스 정수"
      ]
    },
    {
      "metadata": {
        "id": "9fPvU8ZvCh-X",
        "colab_type": "code",
        "colab": {}
      },
      "cell_type": "code",
      "source": [
        "a = np.array([10, 11, 12, 13, 14, 15, 16, 17, 18, 19])"
      ],
      "execution_count": 0,
      "outputs": []
    },
    {
      "metadata": {
        "id": "_neU0V0qCj1Q",
        "colab_type": "code",
        "outputId": "f1e1e89b-7bc9-4d12-d999-86c852bcbdf8",
        "colab": {
          "base_uri": "https://localhost:8080/",
          "height": 89
        }
      },
      "cell_type": "code",
      "source": [
        "# Boolean형 배열방식\n",
        "b = np.array([True, False, True, False, True,\n",
        "                False, True, False, True, False])\n",
        "print(a[b])\n",
        "print(a % 2)\n",
        "print(a % 2 == 0)\n",
        "print(a[a % 2 == 0])"
      ],
      "execution_count": 15,
      "outputs": [
        {
          "output_type": "stream",
          "text": [
            "[10 12 14 16 18]\n",
            "[0 1 0 1 0 1 0 1 0 1]\n",
            "[ True False  True False  True False  True False  True False]\n",
            "[10 12 14 16 18]\n"
          ],
          "name": "stdout"
        }
      ]
    },
    {
      "metadata": {
        "id": "TtJfJ2NVCl1Q",
        "colab_type": "code",
        "outputId": "724384f8-4a95-4720-d3f0-f22b6d7ad784",
        "colab": {
          "base_uri": "https://localhost:8080/",
          "height": 53
        }
      },
      "cell_type": "code",
      "source": [
        "# 정수형 배열방식\n",
        "c = np.array([1, 3, 5, 7, 9])\n",
        "d = np.array([1, 1, 0, 0, 4, 4, 1, 1, 1, 1, 1, 1, 1]) # 배열 인덱스가 원래의 배열보다 클 수 있다.\n",
        "print(a[c])\n",
        "print(a[d])"
      ],
      "execution_count": 16,
      "outputs": [
        {
          "output_type": "stream",
          "text": [
            "[11 13 15 17 19]\n",
            "[11 11 10 10 14 14 11 11 11 11 11 11 11]\n"
          ],
          "name": "stdout"
        }
      ]
    },
    {
      "metadata": {
        "id": "L81x-dxLCoEP",
        "colab_type": "code",
        "outputId": "f930824b-8d2e-4916-ad37-16c640c06c9c",
        "colab": {
          "base_uri": "https://localhost:8080/",
          "height": 89
        }
      },
      "cell_type": "code",
      "source": [
        "# 배열 인덱싱은 다차원 배열의 각 차원에 대해서도 가능\n",
        "e= np.array([[1, 2, 3, 4], [5, 6, 7, 8]])\n",
        "print(a[e])\n",
        "print(e[:, [True, False, False, True]])"
      ],
      "execution_count": 17,
      "outputs": [
        {
          "output_type": "stream",
          "text": [
            "[[11 12 13 14]\n",
            " [15 16 17 18]]\n",
            "[[1 4]\n",
            " [5 8]]\n"
          ],
          "name": "stdout"
        }
      ]
    },
    {
      "metadata": {
        "id": "83PiJIomCr4f",
        "colab_type": "text"
      },
      "cell_type": "markdown",
      "source": [
        "##### 🔍 문제\n",
        "z = np.array([1, 2, 3, 4, 5, 6, 7, 8, 9, 10, 11, 12, 13, 14, 15])\n",
        "\n",
        "- 이 배열에서 3의 배수를 찾아라.\n",
        "- 이 배열에서 3으로 나누면 나누어지고 4로 나누면 2가 남는 수를 찾아라.\n",
        "\n",
        "<details>\n",
        "  <summary>Solution!</summary>\n",
        "  \n",
        "<pre>\n",
        "z = np.array([1, 2, 3, 4, 5, 6, 7, 8, 9, 10, 11, 12, 13, 14, 15])\n",
        "print(z[z % 3 == 0])\n",
        "print(z[(z % 3 == 0) & (z % 4 == 2)])\n",
        "</pre>\n",
        "</details>"
      ]
    },
    {
      "metadata": {
        "id": "kl6AoDjxCwrH",
        "colab_type": "text"
      },
      "cell_type": "markdown",
      "source": [
        "## 연산\n",
        "- +, -, *, / 등의 연산자를 사용\n",
        "- add(), substract(), multiply(), divide() 등의 함수를 사용"
      ]
    },
    {
      "metadata": {
        "id": "tde1T_lRCzlw",
        "colab_type": "code",
        "outputId": "e25889d0-1823-4b16-b9eb-4a987310c74e",
        "colab": {
          "base_uri": "https://localhost:8080/",
          "height": 89
        }
      },
      "cell_type": "code",
      "source": [
        "a = np.array([1,2])\n",
        "b = np.array([3,4])\n",
        " \n",
        "# 각 요소 더하기\n",
        "c = a + b\n",
        "# c = np.add(a, b)\n",
        "print(c)\n",
        " \n",
        "# 각 요소 빼기\n",
        "c = a - b\n",
        "# c = np.subtract(a, b)\n",
        "print(c)\n",
        " \n",
        "# 각 요소 곱하기\n",
        "# c = a * b\n",
        "c = np.multiply(a, b)\n",
        "print(c)\n",
        " \n",
        "# 각 요소 나누기\n",
        "# c = a / b\n",
        "c = np.divide(a, b)\n",
        "print(c)"
      ],
      "execution_count": 18,
      "outputs": [
        {
          "output_type": "stream",
          "text": [
            "[4 6]\n",
            "[-2 -2]\n",
            "[3 8]\n",
            "[0.33333333 0.5       ]\n"
          ],
          "name": "stdout"
        }
      ]
    },
    {
      "metadata": {
        "id": "L1rNkrt0C1rv",
        "colab_type": "code",
        "outputId": "f323a84c-2ac9-4fb1-cb59-3a34775ecdf3",
        "colab": {
          "base_uri": "https://localhost:8080/",
          "height": 53
        }
      },
      "cell_type": "code",
      "source": [
        "# vector와 matrix의 product을 연산\n",
        "a = np.array([[1,2],[3,4]])\n",
        "b = np.array([[5,6],[7,8]])\n",
        "c = np.dot(a, b)\n",
        "print(c)"
      ],
      "execution_count": 19,
      "outputs": [
        {
          "output_type": "stream",
          "text": [
            "[[19 22]\n",
            " [43 50]]\n"
          ],
          "name": "stdout"
        }
      ]
    },
    {
      "metadata": {
        "id": "dsuhORzfC3un",
        "colab_type": "code",
        "outputId": "10fc1d19-4210-4adc-a4cb-da2f01bb3938",
        "colab": {
          "base_uri": "https://localhost:8080/",
          "height": 89
        }
      },
      "cell_type": "code",
      "source": [
        "a = np.array([[1,2],[3,4]])\n",
        "s = np.sum(a)\n",
        "print(s)   # 각 요소의 합\n",
        " \n",
        "# axis=0 이면, 컬럼끼리 더함\n",
        "# axis=1 이면, 행끼리 더함\n",
        "s = np.sum(a, axis=0)\n",
        "print(s)\n",
        "s = np.sum(a, axis=1)\n",
        "print(s)\n",
        "\n",
        "s = np.prod(a)\n",
        "print(s)   # 각 요소의 곱"
      ],
      "execution_count": 20,
      "outputs": [
        {
          "output_type": "stream",
          "text": [
            "10\n",
            "[4 6]\n",
            "[3 7]\n",
            "24\n"
          ],
          "name": "stdout"
        }
      ]
    },
    {
      "metadata": {
        "id": "L10m2hMVLc3V",
        "colab_type": "text"
      },
      "cell_type": "markdown",
      "source": [
        "---\n",
        "\n",
        "## 참고사이트\n",
        "> https://docs.scipy.org/doc/numpy-1.16.0/user/basics.types.html\n",
        "\n",
        "> http://taewan.kim/post/numpy_cheat_sheet/\n",
        "\n",
        "> https://datascienceschool.net/view-notebook/17608f897087478bbeac096438c716f6/"
      ]
    }
  ]
}