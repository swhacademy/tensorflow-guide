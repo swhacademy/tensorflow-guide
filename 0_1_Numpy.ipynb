{
  "nbformat": 4,
  "nbformat_minor": 0,
  "metadata": {
    "colab": {
      "name": "0.1 Numpy.ipynb",
      "version": "0.3.2",
      "provenance": [],
      "collapsed_sections": [],
      "include_colab_link": true
    },
    "kernelspec": {
      "name": "python3",
      "display_name": "Python 3"
    },
    "accelerator": "GPU"
  },
  "cells": [
    {
      "cell_type": "markdown",
      "metadata": {
        "id": "view-in-github",
        "colab_type": "text"
      },
      "source": [
        "<a href=\"https://colab.research.google.com/github/swhacademy/tensorflow-guide/blob/master/0_1_Numpy.ipynb\" target=\"_parent\"><img src=\"https://colab.research.google.com/assets/colab-badge.svg\" alt=\"Open In Colab\"/></a>"
      ]
    },
    {
      "metadata": {
        "id": "35XJkcNX_330",
        "colab_type": "text"
      },
      "cell_type": "markdown",
      "source": [
        "# numpy\n",
        "\n",
        "- Python의 과학 컴퓨팅을 위한 핵심 라이브러리\n",
        "- 고성능 다차원 배열 객체와 이러한 배열 작업을위한 도구를 제공\n",
        "\n",
        "## Array 배열\n",
        "- 속도가 느리고 메모리를 많이 차지하는 List의 대안\n",
        "- 적은 메모리로 데이터를 빠르게 처리\n",
        "- 모든 요소가 같은 자료형이며, 요소의 갯수를 바꿀 수 없다.\n",
        "- 벡터와 행렬을 사용하는 선형대수 계산에 주로 사용"
      ]
    },
    {
      "metadata": {
        "id": "Et_NrFlR_9sr",
        "colab_type": "text"
      },
      "cell_type": "markdown",
      "source": [
        "### 0. numpy모듈 임포트"
      ]
    },
    {
      "metadata": {
        "id": "wIO11VR3_pzE",
        "colab_type": "code",
        "colab": {}
      },
      "cell_type": "code",
      "source": [
        "import numpy as np"
      ],
      "execution_count": 0,
      "outputs": []
    },
    {
      "metadata": {
        "id": "yNToF9G6ADUb",
        "colab_type": "text"
      },
      "cell_type": "markdown",
      "source": [
        "### 1. 1차원 배열"
      ]
    },
    {
      "metadata": {
        "id": "5c8bnXZgAKxK",
        "colab_type": "code",
        "cellView": "code",
        "outputId": "17edb6bf-40ae-4267-9c36-3b3d52beb199",
        "colab": {
          "base_uri": "https://localhost:8080/",
          "height": 89
        }
      },
      "cell_type": "code",
      "source": [
        "#@title 기본 제목 텍스트\n",
        "a = np.array([1, 2, 3]) # rank = 1\n",
        "print(type(a)) # ndarrayd은 N-dimensional Array의 약자\n",
        "print(a.ndim) # 배열의 차원(Rank)\n",
        "print(a.shape) # 배열의 크기\n",
        "print(a[0], a[1], a[2]) # 인덱싱"
      ],
      "execution_count": 0,
      "outputs": [
        {
          "output_type": "stream",
          "text": [
            "<class 'numpy.ndarray'>\n",
            "1\n",
            "(3,)\n",
            "1 2 3\n"
          ],
          "name": "stdout"
        }
      ]
    },
    {
      "metadata": {
        "id": "Lbq26iSZBcEg",
        "colab_type": "text"
      },
      "cell_type": "markdown",
      "source": [
        "###  2. 벡터화 연산\n",
        "- 배열의 각 요소에 대한 반복 연산을 하나의 명령어로 처리"
      ]
    },
    {
      "metadata": {
        "id": "Q7XMfzFkBfUJ",
        "colab_type": "code",
        "outputId": "6d0738ab-0733-411c-c3f2-745964b4ff3f",
        "colab": {
          "base_uri": "https://localhost:8080/",
          "height": 53
        }
      },
      "cell_type": "code",
      "source": [
        "# List인 경우,\n",
        "a = [1, 2, 3]\n",
        "c = []\n",
        "for b in a:\n",
        "    c.append(2 * b)\n",
        "print(c)\n",
        "print(a * 2)"
      ],
      "execution_count": 0,
      "outputs": [
        {
          "output_type": "stream",
          "text": [
            "[2, 4, 6]\n",
            "[1, 2, 3, 1, 2, 3]\n"
          ],
          "name": "stdout"
        }
      ]
    },
    {
      "metadata": {
        "id": "lX3k9-DqBi-J",
        "colab_type": "code",
        "outputId": "344edb0c-08cb-47f4-926e-f507de44ee8d",
        "colab": {
          "base_uri": "https://localhost:8080/",
          "height": 53
        }
      },
      "cell_type": "code",
      "source": [
        "# Array인 경우,\n",
        "a = [1, 2, 3]\n",
        "b = np.array(a)\n",
        "c = b * 2\n",
        "print(c)\n",
        "print(c[2])"
      ],
      "execution_count": 0,
      "outputs": [
        {
          "output_type": "stream",
          "text": [
            "[2 4 6]\n",
            "6\n"
          ],
          "name": "stdout"
        }
      ]
    },
    {
      "metadata": {
        "id": "To8kEYoHBm9w",
        "colab_type": "code",
        "outputId": "cf842e2c-10ff-49ef-db72-1fd1b518bc3c",
        "colab": {
          "base_uri": "https://localhost:8080/",
          "height": 107
        }
      },
      "cell_type": "code",
      "source": [
        "# 산술 연산 뿐만 아니라, 비교 연산과 논리 연산을 포함한 모든 종류의 수학 연산에 대해 적용\n",
        "a = np.array([1, 2, 3])\n",
        "# b = np.array([10, 20]) # Shape가 동일해야 가능\n",
        "b = np.array([10, 20, 30])\n",
        "c = 2 * a + b\n",
        "print(c)\n",
        "print(c / 2)\n",
        "print(a == 2)\n",
        "print(a > 2)\n",
        "print(0 == (b % 10))"
      ],
      "execution_count": 0,
      "outputs": [
        {
          "output_type": "stream",
          "text": [
            "[12 24 36]\n",
            "[ 6. 12. 18.]\n",
            "[False  True False]\n",
            "[False False  True]\n",
            "[ True  True  True]\n"
          ],
          "name": "stdout"
        }
      ]
    },
    {
      "metadata": {
        "id": "Y2gwEYhEBv4o",
        "colab_type": "text"
      },
      "cell_type": "markdown",
      "source": [
        "###  3. 2차원 배열\n",
        "- 2차원 배열은 행렬(matrix)이라고 하는데 행렬에서는 가로줄을 행(row), 세로줄을 열(column)"
      ]
    },
    {
      "metadata": {
        "id": "yqtd_NbNB8wy",
        "colab_type": "code",
        "outputId": "f47b9472-010e-4f13-ad1b-7c289eff0672",
        "colab": {
          "base_uri": "https://localhost:8080/",
          "height": 89
        }
      },
      "cell_type": "code",
      "source": [
        "a = np.array([[1, 2, 3], [4, 5, 6]])  # 2 x 3 배열\n",
        "print(a)\n",
        "print(a[0])\n",
        "print(len(a), len(a[0])) # 행, 열의 갯수"
      ],
      "execution_count": 0,
      "outputs": [
        {
          "output_type": "stream",
          "text": [
            "[[1 2 3]\n",
            " [4 5 6]]\n",
            "[1 2 3]\n",
            "2 3\n"
          ],
          "name": "stdout"
        }
      ]
    },
    {
      "metadata": {
        "id": "6RpFhzTdB_gR",
        "colab_type": "text"
      },
      "cell_type": "markdown",
      "source": [
        "###  4. 3차원 배열\n",
        "- 바깥쪽 리스트의 길이부터 가장 안쪽 리스트 길이의 순서로 표시"
      ]
    },
    {
      "metadata": {
        "id": "84b2kOtrCB_Y",
        "colab_type": "code",
        "outputId": "40b7c800-6187-4dc8-efb5-18c3cd6fe339",
        "colab": {
          "base_uri": "https://localhost:8080/",
          "height": 233
        }
      },
      "cell_type": "code",
      "source": [
        "a = np.array([\n",
        "    [[1, 2, 3], [4, 5, 6]], \n",
        "    [[7, 8, 9], [10, 11, 12]], \n",
        "    [[1, 2, 3], [4, 5, 6]], \n",
        "    [[7, 8, 9], [10, 11, 12]]\n",
        "])  # 4 * 2 x 3 배열\n",
        "print(a)\n",
        "print(len(a), len(a[0]), len(a[0][0])) # Z, Y, Z 갯수"
      ],
      "execution_count": 0,
      "outputs": [
        {
          "output_type": "stream",
          "text": [
            "[[[ 1  2  3]\n",
            "  [ 4  5  6]]\n",
            "\n",
            " [[ 7  8  9]\n",
            "  [10 11 12]]\n",
            "\n",
            " [[ 1  2  3]\n",
            "  [ 4  5  6]]\n",
            "\n",
            " [[ 7  8  9]\n",
            "  [10 11 12]]]\n",
            "4 2 3\n"
          ],
          "name": "stdout"
        }
      ]
    },
    {
      "metadata": {
        "id": "JnhZ6OtICFID",
        "colab_type": "text"
      },
      "cell_type": "markdown",
      "source": [
        "### 5. 인덱싱"
      ]
    },
    {
      "metadata": {
        "id": "3YVUWfi_CHb4",
        "colab_type": "code",
        "outputId": "fda29281-ae45-43b5-b5bc-e62137ce76f1",
        "colab": {
          "base_uri": "https://localhost:8080/",
          "height": 107
        }
      },
      "cell_type": "code",
      "source": [
        "a = np.array([[1, 2, 3], [4, 5, 6]])\n",
        "print(a)\n",
        "print(a[0])\n",
        "print(a[0,1]) # 첫 번째 행의 두 번째 열\n",
        "print(a[0,-1]) # 첫 번째 행의 마지막 열"
      ],
      "execution_count": 0,
      "outputs": [
        {
          "output_type": "stream",
          "text": [
            "[[1 2 3]\n",
            " [4 5 6]]\n",
            "[1 2 3]\n",
            "2\n",
            "3\n"
          ],
          "name": "stdout"
        }
      ]
    },
    {
      "metadata": {
        "id": "a484DHdGCKuI",
        "colab_type": "text"
      },
      "cell_type": "markdown",
      "source": [
        "##### 🔍 문제\n",
        "- 위의 `a = np.array([[1, 2, 3], [4, 5, 6]])`로부터 이차원 배열 전체 요소을 아래와 같이 출력\n",
        "\n",
        "1 2 3 4 5 6 \n",
        "\n",
        "<details>\n",
        "  <summary>Solution!</summary>\n",
        "  \n",
        "<pre>\n",
        "a = np.array([[1, 2, 3], [4, 5, 6]])\n",
        "for b in range(len(a)):\n",
        "    for c in range(len(a[b])):\n",
        "        print(a[b, c], end=\" \")\n",
        "</pre>\n",
        "</details>"
      ]
    },
    {
      "metadata": {
        "id": "usG0VuDxCVNo",
        "colab_type": "text"
      },
      "cell_type": "markdown",
      "source": [
        "### 6. 슬라이싱"
      ]
    },
    {
      "metadata": {
        "id": "1GQlyt7XCX9w",
        "colab_type": "code",
        "outputId": "f872fe17-4b9b-4ff6-b447-af56ad848259",
        "colab": {
          "base_uri": "https://localhost:8080/",
          "height": 89
        }
      },
      "cell_type": "code",
      "source": [
        "a = np.array([[1, 2, 3], [4, 5, 6]])\n",
        "print(a[0, :]) # 첫 번째 행의 모든 열\n",
        "print(a[1, 1:]) # 두 번째 행의 두 번째 열부터 끝까지\n",
        "print(a[:, :2]) # 모든 행의 첫 번째 열부터 두 번째 열까지"
      ],
      "execution_count": 0,
      "outputs": [
        {
          "output_type": "stream",
          "text": [
            "[1 2 3]\n",
            "[5 6]\n",
            "[[1 2]\n",
            " [4 5]]\n"
          ],
          "name": "stdout"
        }
      ]
    },
    {
      "metadata": {
        "id": "PDuTw135Caix",
        "colab_type": "text"
      },
      "cell_type": "markdown",
      "source": [
        "##### 🔍 문제\n",
        "- 반복을 사용하여 아래의 리스트를 만든다.\n",
        "[[1, 2, 3, 4], [5, 6, 7, 8], [9, 10, 11, 12], [13, 14, 15, 16], [17, 18, 19, 20]]\n",
        "- `Array`을 사용하여 16을 인덱싱한다.\n",
        "- `Array`을 사용하여 [7, 8]을 슬라이싱 한다. \n",
        "\n",
        "<details>\n",
        "  <summary>Solution!</summary>\n",
        "  \n",
        "<pre>\n",
        "a = []\n",
        "b = []\n",
        "for c in range(1, 21):\n",
        "    b.append(c)\n",
        "    if c % 4 == 0:\n",
        "        a.append(b)\n",
        "        b = []\n",
        "print(a)\n",
        "d = np.array(a)\n",
        "print(d[3][-1])\n",
        "print(d[1, 2:])\n",
        "</pre>\n",
        "</details>"
      ]
    },
    {
      "metadata": {
        "id": "Jkmz88DnCfxv",
        "colab_type": "text"
      },
      "cell_type": "markdown",
      "source": [
        "### 7. 배열 인덱싱\n",
        "- 대괄호안의 인덱스 정보로 숫자나 슬라이스가 아니라 위치 정보를 나타내는 또 다른 배열(인덱스 배열)을 넣는 경우\n",
        "- 인덱스 배열에는 Boolean배열방식, 정수형 배열방식이 있다.\n",
        " - Boolean배열방식은 인덱스 배열의 원소가 True, False 두 값으로만 구성되며 인덱스 배열의 크기가 원래 ndarray 객체의 크기와 같다.\n",
        " - 정수형 배열방식은 인덱스 배열의 원소 각각이 원래 ndarray 객체 원소 하나를 가리키는 인덱스 정수"
      ]
    },
    {
      "metadata": {
        "id": "9fPvU8ZvCh-X",
        "colab_type": "code",
        "colab": {}
      },
      "cell_type": "code",
      "source": [
        "a = np.array([10, 11, 12, 13, 14, 15, 16, 17, 18, 19])"
      ],
      "execution_count": 0,
      "outputs": []
    },
    {
      "metadata": {
        "id": "_neU0V0qCj1Q",
        "colab_type": "code",
        "outputId": "a8f156bb-b147-4764-b0c8-58e301f56dc5",
        "colab": {
          "base_uri": "https://localhost:8080/",
          "height": 89
        }
      },
      "cell_type": "code",
      "source": [
        "# Boolean형 배열방식\n",
        "b = np.array([True, False, True, False, True,\n",
        "                False, True, False, True, False])\n",
        "print(a[b])\n",
        "print(a % 2)\n",
        "print(a % 2 == 0)\n",
        "print(a[a % 2 == 0])"
      ],
      "execution_count": 0,
      "outputs": [
        {
          "output_type": "stream",
          "text": [
            "[10 12 14 16 18]\n",
            "[0 1 0 1 0 1 0 1 0 1]\n",
            "[ True False  True False  True False  True False  True False]\n",
            "[10 12 14 16 18]\n"
          ],
          "name": "stdout"
        }
      ]
    },
    {
      "metadata": {
        "id": "TtJfJ2NVCl1Q",
        "colab_type": "code",
        "outputId": "63e80cac-3ba6-4495-fcbd-e82d1a83d1ad",
        "colab": {
          "base_uri": "https://localhost:8080/",
          "height": 53
        }
      },
      "cell_type": "code",
      "source": [
        "# 정수형 배열방식\n",
        "c = np.array([1, 3, 5, 7, 9])\n",
        "d = np.array([1, 1, 0, 0, 4, 4, 1, 1, 1, 1, 1, 1, 1]) # 배열 인덱스가 원래의 배열보다 클 수 있다.\n",
        "print(a[c])\n",
        "print(a[d])"
      ],
      "execution_count": 0,
      "outputs": [
        {
          "output_type": "stream",
          "text": [
            "[11 13 15 17 19]\n",
            "[11 11 10 10 14 14 11 11 11 11 11 11 11]\n"
          ],
          "name": "stdout"
        }
      ]
    },
    {
      "metadata": {
        "id": "L81x-dxLCoEP",
        "colab_type": "code",
        "outputId": "8530bc9f-d5e0-43cf-9b8b-1870f0841f1a",
        "colab": {
          "base_uri": "https://localhost:8080/",
          "height": 89
        }
      },
      "cell_type": "code",
      "source": [
        "# 배열 인덱싱은 다차원 배열의 각 차원에 대해서도 가능\n",
        "e= np.array([[1, 2, 3, 4], [5, 6, 7, 8]])\n",
        "print(a[e])\n",
        "print(e[:, [True, False, False, True]])"
      ],
      "execution_count": 0,
      "outputs": [
        {
          "output_type": "stream",
          "text": [
            "[[11 12 13 14]\n",
            " [15 16 17 18]]\n",
            "[[1 4]\n",
            " [5 8]]\n"
          ],
          "name": "stdout"
        }
      ]
    },
    {
      "metadata": {
        "id": "83PiJIomCr4f",
        "colab_type": "text"
      },
      "cell_type": "markdown",
      "source": [
        "##### 🔍 문제\n",
        "z = np.array([1, 2, 3, 4, 5, 6, 7, 8, 9, 10, 11, 12, 13, 14, 15])\n",
        "\n",
        "- 이 배열에서 3의 배수를 찾아라.\n",
        "- 이 배열에서 3으로 나누면 나누어지고 4로 나누면 2가 남는 수를 찾아라.\n",
        "\n",
        "<details>\n",
        "  <summary>Solution!</summary>\n",
        "  \n",
        "<pre>\n",
        "z = np.array([1, 2, 3, 4, 5, 6, 7, 8, 9, 10, 11, 12, 13, 14, 15])\n",
        "print(z[z % 3 == 0])\n",
        "print(z[(z % 3 == 0) & (z % 4 == 2)])\n",
        "</pre>\n",
        "</details>"
      ]
    },
    {
      "metadata": {
        "id": "kl6AoDjxCwrH",
        "colab_type": "text"
      },
      "cell_type": "markdown",
      "source": [
        "### 8. 연산\n",
        "- +, -, *, / 등의 연산자를 사용\n",
        "- add(), substract(), multiply(), divide() 등의 함수를 사용"
      ]
    },
    {
      "metadata": {
        "id": "tde1T_lRCzlw",
        "colab_type": "code",
        "outputId": "89855881-2c3f-4ad5-ff49-5fb8fe453aea",
        "colab": {
          "base_uri": "https://localhost:8080/",
          "height": 89
        }
      },
      "cell_type": "code",
      "source": [
        "a = np.array([1,2])\n",
        "b = np.array([3,4])\n",
        " \n",
        "# 각 요소 더하기\n",
        "c = a + b\n",
        "# c = np.add(a, b)\n",
        "print(c)\n",
        " \n",
        "# 각 요소 빼기\n",
        "c = a - b\n",
        "# c = np.subtract(a, b)\n",
        "print(c)\n",
        " \n",
        "# 각 요소 곱하기\n",
        "# c = a * b\n",
        "c = np.multiply(a, b)\n",
        "print(c)\n",
        " \n",
        "# 각 요소 나누기\n",
        "# c = a / b\n",
        "c = np.divide(a, b)\n",
        "print(c)"
      ],
      "execution_count": 0,
      "outputs": [
        {
          "output_type": "stream",
          "text": [
            "[4 6]\n",
            "[-2 -2]\n",
            "[3 8]\n",
            "[0.33333333 0.5       ]\n"
          ],
          "name": "stdout"
        }
      ]
    },
    {
      "metadata": {
        "id": "L1rNkrt0C1rv",
        "colab_type": "code",
        "outputId": "b2b9e480-7998-432a-8b63-d55ddd6ff063",
        "colab": {
          "base_uri": "https://localhost:8080/",
          "height": 53
        }
      },
      "cell_type": "code",
      "source": [
        "# vector와 matrix의 product을 연산\n",
        "a = np.array([[1,2],[3,4]])\n",
        "b = np.array([[5,6],[7,8]])\n",
        "c = np.dot(a, b)\n",
        "print(c)"
      ],
      "execution_count": 0,
      "outputs": [
        {
          "output_type": "stream",
          "text": [
            "[[19 22]\n",
            " [43 50]]\n"
          ],
          "name": "stdout"
        }
      ]
    },
    {
      "metadata": {
        "id": "dsuhORzfC3un",
        "colab_type": "code",
        "outputId": "61307a89-a865-422e-9aad-368d88e63a56",
        "colab": {
          "base_uri": "https://localhost:8080/",
          "height": 89
        }
      },
      "cell_type": "code",
      "source": [
        "a = np.array([[1,2],[3,4]])\n",
        "s = np.sum(a)\n",
        "print(s)   # 각 요소의 합\n",
        " \n",
        "# axis=0 이면, 컬럼끼리 더함\n",
        "# axis=1 이면, 행끼리 더함\n",
        "s = np.sum(a, axis=0)\n",
        "print(s)\n",
        "s = np.sum(a, axis=1)\n",
        "print(s)\n",
        "\n",
        "s = np.prod(a)\n",
        "print(s)   # 각 요소의 곱"
      ],
      "execution_count": 0,
      "outputs": [
        {
          "output_type": "stream",
          "text": [
            "10\n",
            "[4 6]\n",
            "[3 7]\n",
            "24\n"
          ],
          "name": "stdout"
        }
      ]
    }
  ]
}