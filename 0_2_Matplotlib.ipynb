{
  "nbformat": 4,
  "nbformat_minor": 0,
  "metadata": {
    "colab": {
      "name": "0_2_Matplotlib.ipynb",
      "version": "0.3.2",
      "provenance": [],
      "collapsed_sections": [],
      "toc_visible": true,
      "include_colab_link": true
    },
    "kernelspec": {
      "name": "python3",
      "display_name": "Python 3"
    },
    "accelerator": "GPU"
  },
  "cells": [
    {
      "cell_type": "markdown",
      "metadata": {
        "id": "view-in-github",
        "colab_type": "text"
      },
      "source": [
        "<a href=\"https://colab.research.google.com/github/swhacademy/tensorflow-guide/blob/master/0_2_Matplotlib.ipynb\" target=\"_parent\"><img src=\"https://colab.research.google.com/assets/colab-badge.svg\" alt=\"Open In Colab\"/></a>"
      ]
    },
    {
      "metadata": {
        "id": "PsYenIfru18O",
        "colab_type": "text"
      },
      "cell_type": "markdown",
      "source": [
        "# 참고 사이트\n",
        "\n",
        "\n",
        "*   https://matplotlib.org/gallery.html\n",
        "*   https://datascienceschool.net\n"
      ]
    },
    {
      "metadata": {
        "id": "y2ISyMXVGJPA",
        "colab_type": "text"
      },
      "cell_type": "markdown",
      "source": [
        "# matplotlib\n",
        "\n",
        "- 데이타를 차트나 플롯(Plot)으로 그려주는 라이브러리 패키지\n",
        "- 라인 플롯, 바 차트, 파이차트, 히스토그램, Box Plot, Scatter Plot 등 다양한 차트와 플롯 스타일을 지원\n",
        "- [matplotlib 홈페이지](https://matplotlib.org/gallery.html)\n",
        "\n",
        "---"
      ]
    },
    {
      "metadata": {
        "id": "tVKzs-xzGFAE",
        "colab_type": "code",
        "colab": {}
      },
      "cell_type": "code",
      "source": [
        "import matplotlib.pyplot as plt\n",
        "# 출력방식 결정. 'inline'은 현 노트에 그림 출력. 생략 가능\n",
        "%matplotlib inline"
      ],
      "execution_count": 0,
      "outputs": []
    },
    {
      "metadata": {
        "id": "JPhO3KJfC6I5",
        "colab_type": "text"
      },
      "cell_type": "markdown",
      "source": [
        "## 라인 플롯(line plot)\n",
        "- 선을 그리기\n",
        "- 데이터가 시간, 순서 등에 따라 어떻게 변화하는지 보여주기 위해 사용"
      ]
    },
    {
      "metadata": {
        "id": "O7UqH0mNCDC_",
        "colab_type": "code",
        "outputId": "14a4a1f7-458e-4329-89da-7696a634f109",
        "colab": {
          "base_uri": "https://localhost:8080/",
          "height": 269
        }
      },
      "cell_type": "code",
      "source": [
        "# plot함수 내 리스트나 ndarray(numpy 모듈의 array) 객체\n",
        "# x 축의 자료위치 즉, 틱(tick)은 자동으로 0, 1, 2, 3\n",
        "plt.plot([1, 4, 9, 16])\n",
        "# import numpy as np\n",
        "# a = np.array([1, 4, 9, 16])\n",
        "# plt.plot(a) # plot함수 내 리스트나 ndarray(numpy 모듈의 array) 객체\n",
        "\n",
        "plt.show()"
      ],
      "execution_count": 15,
      "outputs": [
        {
          "output_type": "display_data",
          "data": {
            "image/png": "[encoded data removed]",
            "text/plain": [
              "<Figure size 432x288 with 1 Axes>"
            ]
          },
          "metadata": {
            "tags": []
          }
        }
      ]
    },
    {
      "metadata": {
        "id": "oRuAqD2IGbbh",
        "colab_type": "code",
        "outputId": "2b934f93-a0fe-4346-add4-a40e97470ee0",
        "colab": {
          "base_uri": "https://localhost:8080/",
          "height": 295
        }
      },
      "cell_type": "code",
      "source": [
        "plt.plot([\"코야\",\"레종\",\"유키\"], [3.0,4.7,2.7]) # x축 자료위치, y축 값\n",
        "plt.xlabel('이름') # x축 이름\n",
        "plt.ylabel('체중') # y축 이름\n",
        "plt.title('우리집 고양이')\n",
        "plt.show()"
      ],
      "execution_count": 16,
      "outputs": [
        {
          "output_type": "display_data",
          "data": {
            "image/png": "[encoded data removed]",
            "text/plain": [
              "<Figure size 432x288 with 1 Axes>"
            ]
          },
          "metadata": {
            "tags": []
          }
        }
      ]
    },
    {
      "metadata": {
        "id": "8iFgSx5jQDiB",
        "colab_type": "text"
      },
      "cell_type": "markdown",
      "source": [
        "## Matplotlib 한글폰트 설정\n",
        "[설정방법](https://colab.research.google.com/drive/1yLKDdXbDcYpG6XycKg_xlGa8FCrnYmWm)"
      ]
    },
    {
      "metadata": {
        "id": "0_bC8hj3R43f",
        "colab_type": "text"
      },
      "cell_type": "markdown",
      "source": [
        "## plot 스타일 지정\n",
        "- 색깔(color), 데이터 위치를 나타내는 마커(marker), 선 종류(line style)의 순서로 지정\n",
        "\n",
        "---\n",
        "\n",
        "1.   색깔\n",
        "\n",
        "> https://matplotlib.org/examples/color/named_colors.html\n",
        "\n",
        "\n",
        "\n",
        "2.   마커\n",
        "\n",
        "> https://matplotlib.org/examples/lines_bars_and_markers/marker_reference.html\n",
        "\n",
        "3.   선 종류\n",
        "\n",
        "> https://matplotlib.org/examples/lines_bars_and_markers/line_styles_reference.html"
      ]
    },
    {
      "metadata": {
        "id": "itR7DqdwFkJ2",
        "colab_type": "code",
        "outputId": "bb0f42dd-5458-44be-ad19-6adaf3729077",
        "colab": {
          "base_uri": "https://localhost:8080/",
          "height": 281
        }
      },
      "cell_type": "code",
      "source": [
        "plt.title(\"스타일 적용\")\n",
        "plt.plot([10, 20, 30, 40], [1, 4, 9, 16], 'bs--')\n",
        "plt.show()"
      ],
      "execution_count": 17,
      "outputs": [
        {
          "output_type": "display_data",
          "data": {
            "image/png": "[encoded data removed]",
            "text/plain": [
              "<Figure size 432x288 with 1 Axes>"
            ]
          },
          "metadata": {
            "tags": []
          }
        }
      ]
    },
    {
      "metadata": {
        "id": "q0Itlw52SoDp",
        "colab_type": "text"
      },
      "cell_type": "markdown",
      "source": [
        "### 라인 플롯에서 자주 사용되는 스타일\n",
        "| 스타일 | 문자열\t약자 | 의미 |\n",
        "|---|---|---|\n",
        "| color | c | 선 색깔 |\n",
        "| linewidth | lw | 선 굵기 |\n",
        "| linestyle | ls | 선 스타일 |\n",
        "| marker |  | 마커종류 |\n",
        "| markersize | ms | 마커 크기 |\n",
        "| markeredgecolor | mec | 마커 선 색깔 |\n",
        "| markeredgewidth | mew | 마커 선 굵기 |\n",
        "| markerfacecolor | mfc | 마커 내부 색깔 |"
      ]
    },
    {
      "metadata": {
        "id": "UDWZWKl4Wvx3",
        "colab_type": "code",
        "outputId": "2c117e47-5d5f-4b08-b1a8-c53408d30d64",
        "colab": {
          "base_uri": "https://localhost:8080/",
          "height": 281
        }
      },
      "cell_type": "code",
      "source": [
        "plt.plot([10, 20, 30, 40], [1, 4, 9, 16], c=\"b\",\n",
        "         lw=5, ls=\"--\", marker=\"o\", ms=10, mec=\"g\", mew=5, mfc=\"r\")\n",
        "plt.title(\"스타일 적용 다른 예\")\n",
        "plt.show()"
      ],
      "execution_count": 18,
      "outputs": [
        {
          "output_type": "display_data",
          "data": {
            "image/png": "[encoded data removed]",
            "text/plain": [
              "<Figure size 432x288 with 1 Axes>"
            ]
          },
          "metadata": {
            "tags": []
          }
        }
      ]
    },
    {
      "metadata": {
        "id": "IEiRdQ1vaSdl",
        "colab_type": "text"
      },
      "cell_type": "markdown",
      "source": [
        "### 범례추가\n",
        "\n",
        "\n",
        "*   플롯에 여러 개의 라인들을 추가하기 위해서는 plt.plot()을 plt.show() 이전에 여러 번 사용\n",
        "*   각 라인에 대한 범례를 추가하기 위해서는 plt.legend([라인1범례, 라인2범례]) 함수를 사용\n",
        "\n"
      ]
    },
    {
      "metadata": {
        "id": "43DVYfoZagOE",
        "colab_type": "code",
        "outputId": "7651cc15-f952-4208-f91a-c4642cd5acf8",
        "colab": {
          "base_uri": "https://localhost:8080/",
          "height": 295
        }
      },
      "cell_type": "code",
      "source": [
        "plt.plot([1,2,3],[1,4,9])\n",
        "plt.plot([2,3,4],[5,6,7])\n",
        "plt.xlabel('Sequence')\n",
        "plt.ylabel('Time(secs)')\n",
        "plt.title('Legend 추가')\n",
        "plt.legend(['Cat', 'Mouse'])\n",
        "plt.show()"
      ],
      "execution_count": 19,
      "outputs": [
        {
          "output_type": "display_data",
          "data": {
            "image/png": "[encoded data removed]",
            "text/plain": [
              "<Figure size 432x288 with 1 Axes>"
            ]
          },
          "metadata": {
            "tags": []
          }
        }
      ]
    },
    {
      "metadata": {
        "id": "OMmga1nAbUca",
        "colab_type": "text"
      },
      "cell_type": "markdown",
      "source": [
        "## 바 차트(bar chart)\n",
        "\n",
        "> http://matplotlib.org/api/pyplot_api.html#matplotlib.pyplot.bar\n",
        "> http://matplotlib.org/api/pyplot_api.html#matplotlib.pyplot.barh"
      ]
    },
    {
      "metadata": {
        "id": "-LGElVvYbnbQ",
        "colab_type": "code",
        "outputId": "db1f3f87-15a5-45fd-b262-710b4c14044c",
        "colab": {
          "base_uri": "https://localhost:8080/",
          "height": 269
        }
      },
      "cell_type": "code",
      "source": [
        "y = [5, 3, 7, 10, 9, 5, 3.5, 8]\n",
        "x = range(len(y))\n",
        "# import numpy as np\n",
        "# x = np.arange(len(y)) 와 동일\n",
        "plt.bar(x, y, width=0.5, color=\"blue\")\n",
        "plt.show()"
      ],
      "execution_count": 20,
      "outputs": [
        {
          "output_type": "display_data",
          "data": {
            "image/png": "[encoded data removed]",
            "text/plain": [
              "<Figure size 432x288 with 1 Axes>"
            ]
          },
          "metadata": {
            "tags": []
          }
        }
      ]
    },
    {
      "metadata": {
        "id": "9Vi-bzSiY6jP",
        "colab_type": "text"
      },
      "cell_type": "markdown",
      "source": [
        "## 스템 플롯\n",
        "- 바 차트와 유사하지만 폭(width)이 없다.\n",
        "\n",
        "\n",
        "\n",
        "> http://matplotlib.org/api/pyplot_api.html#matplotlib.pyplot.stem\n",
        "\n"
      ]
    },
    {
      "metadata": {
        "id": "WnvCc1bGZCt9",
        "colab_type": "code",
        "outputId": "64a2cff6-976b-4c27-ba51-e07866b137c4",
        "colab": {
          "base_uri": "https://localhost:8080/",
          "height": 269
        }
      },
      "cell_type": "code",
      "source": [
        "import numpy as np\n",
        "x = range(5)\n",
        "plt.stem(x, np.cos(x), '--')\n",
        "plt.show()"
      ],
      "execution_count": 21,
      "outputs": [
        {
          "output_type": "display_data",
          "data": {
            "image/png": "[encoded data removed]",
            "text/plain": [
              "<Figure size 432x288 with 1 Axes>"
            ]
          },
          "metadata": {
            "tags": []
          }
        }
      ]
    },
    {
      "metadata": {
        "id": "yO6mjtn6Z-pT",
        "colab_type": "text"
      },
      "cell_type": "markdown",
      "source": [
        "## 파이 차트\n",
        "- 카테고리 별 값의 상대적인 비교\n",
        "- 원의 형태를 유지하기 위해 `plt.axis('equal')` 명령을 실행\n",
        "\n",
        "\n",
        "\n",
        "> http://matplotlib.org/api/pyplot_api.html#matplotlib.pyplot.pie"
      ]
    },
    {
      "metadata": {
        "id": "YCjR_i0yaR6k",
        "colab_type": "code",
        "outputId": "6dfc2775-8f2a-49b4-942b-deb175e7ce52",
        "colab": {
          "base_uri": "https://localhost:8080/",
          "height": 255
        }
      },
      "cell_type": "code",
      "source": [
        "data = [12, 16, 24, 28, 20]\n",
        "label = ['C', 'C++', 'Python', 'Java', 'C#']\n",
        "color = ['r', 'yellowgreen', 'gold', 'lightskyblue', 'm']\n",
        "plt.pie(data, labels=label, colors=color, autopct='%1.1f%%', shadow=True)\n",
        "plt.axis('equal')\n",
        "plt.show()"
      ],
      "execution_count": 22,
      "outputs": [
        {
          "output_type": "display_data",
          "data": {
            "image/png": "[encoded data removed]",
            "text/plain": [
              "<Figure size 432x288 with 1 Axes>"
            ]
          },
          "metadata": {
            "tags": []
          }
        }
      ]
    },
    {
      "metadata": {
        "id": "kpRDoKG_boX3",
        "colab_type": "text"
      },
      "cell_type": "markdown",
      "source": [
        "## 히스토그램\n",
        "- 카테고리 별 값의 상대적인 비교\n",
        "- 원의 형태를 유지하기 위해 `plt.axis('equal')` 명령을 실행\n",
        "\n",
        "\n",
        "\n",
        "> http://matplotlib.org/api/pyplot_api.html#matplotlib.pyplot.hist"
      ]
    },
    {
      "metadata": {
        "id": "CS17T1dIcMSp",
        "colab_type": "code",
        "outputId": "62ebbce0-4f5d-4ddd-b2d1-c1dababa9f8e",
        "colab": {
          "base_uri": "https://localhost:8080/",
          "height": 323
        }
      },
      "cell_type": "code",
      "source": [
        "import numpy as np\n",
        "x = np.random.rand(10000) # 난수: [0. 1)의 균등 분포(Uniform Distribution)\n",
        "print(x)\n",
        "arrays, bins, patches = plt.hist(x, bins=20) # bins는 데이터를 집계할 구간 정보\n",
        "plt.show()\n",
        "print(arrays)"
      ],
      "execution_count": 23,
      "outputs": [
        {
          "output_type": "stream",
          "text": [
            "[0.57643184 0.28624077 0.36252509 ... 0.36730687 0.22613346 0.51736252]\n"
          ],
          "name": "stdout"
        },
        {
          "output_type": "display_data",
          "data": {
            "image/png": "[encoded data removed]",
            "text/plain": [
              "<Figure size 432x288 with 1 Axes>"
            ]
          },
          "metadata": {
            "tags": []
          }
        },
        {
          "output_type": "stream",
          "text": [
            "[528. 539. 535. 449. 475. 512. 498. 475. 514. 488. 461. 547. 514. 489.\n",
            " 483. 488. 451. 488. 550. 516.]\n"
          ],
          "name": "stdout"
        }
      ]
    },
    {
      "metadata": {
        "id": "8dIz1SoPkOq6",
        "colab_type": "text"
      },
      "cell_type": "markdown",
      "source": [
        "## 스캐터 플롯\n",
        "- 두 개의 실수 데이터 집합의 상관관계을 살펴볼 때 유용\n",
        "\n",
        "\n",
        "\n",
        "> http://matplotlib.org/api/pyplot_api.html#matplotlib.pyplot.scatter"
      ]
    },
    {
      "metadata": {
        "id": "7TpSs3yskzHP",
        "colab_type": "code",
        "outputId": "cb90834a-280f-417b-ffea-2c57bc0d8042",
        "colab": {
          "base_uri": "https://localhost:8080/",
          "height": 881
        }
      },
      "cell_type": "code",
      "source": [
        "import numpy as np\n",
        "x = np.random.normal(1, 1, 100) # 평균:1, 표준편차:1, 크기:100\n",
        "print(x)\n",
        "y = np.random.normal(1, 1, 100) # 평균:1, 표준편차:1, 크기:100\n",
        "print(y)\n",
        "plt.scatter(x, y) \n",
        "plt.show()"
      ],
      "execution_count": 24,
      "outputs": [
        {
          "output_type": "stream",
          "text": [
            "[ 1.40253946  1.31364062 -0.16340857  0.73707897  0.71348583  0.98333213\n",
            "  2.76390818  0.91223058  0.64124505  2.21573358  0.93692558  1.27545747\n",
            "  1.21927143  1.54450384  1.80956552  0.55950091 -0.90603956 -0.80274599\n",
            "  0.22109859  1.87601181  1.39106014  1.07784057  0.20988386  1.19506732\n",
            "  1.44981989  2.15433996  2.26752712 -0.02550929  1.63006704  1.32307468\n",
            "  0.60533924 -0.20035194  0.10977058  1.1203958   0.05864038  1.51014917\n",
            "  0.67126888 -0.98080074  2.36347399 -0.27508662  1.32496955 -0.16084758\n",
            "  0.26362031  1.07893304  1.02064637  1.10052331  0.42836896  1.53778218\n",
            " -1.37760067  1.45112944  0.76430879  1.45886912  1.09795756  1.00313245\n",
            "  1.98042272  2.78661939  0.01854152 -0.59046889 -0.48153289  1.71101313\n",
            "  2.51420296 -0.3480644   0.38474118  1.69941809  1.34430696  1.18151438\n",
            "  0.72293588  0.89402872  1.34481479  1.43233866  1.39988104  0.53027734\n",
            "  0.51292198 -0.24658901  0.9195047   1.83927188  0.71281757  0.65100152\n",
            "  2.81110997  2.18637318  1.50972101 -0.23983152  3.47543724  0.28755555\n",
            "  0.5526008   1.48219614  0.93575965 -0.04329915  1.41318053  0.37463531\n",
            "  1.25216397  1.25125835  0.36164086  0.74152914  0.98042527 -0.15868652\n",
            "  1.79949213  1.7644411  -0.16472471  2.21428176]\n",
            "[ 1.53344921  0.91330015  1.92887642  0.31667886  1.20811854 -0.43942423\n",
            "  0.96990475  1.28949701  2.88070482  1.29090594  1.75704337  1.61791332\n",
            "  0.71431923  0.5325216   0.05600184  2.15793367 -0.79778072  2.22351689\n",
            "  0.93113435  0.29750191  2.03208017  0.93147372  1.4925322   0.64884865\n",
            "  0.46536945  0.9216337   0.92983943  1.97520483 -0.76398612 -1.08208187\n",
            "  0.47195549  0.94350721  1.15888794  1.04878391  0.41811257  1.23935743\n",
            " -0.29169259  0.31876377  1.50103649  1.52445009  0.53748688  2.38548044\n",
            "  1.44225588  0.89992532 -0.29918659  0.42944165  2.54260637  1.61051603\n",
            "  1.51856426  2.36454278  2.23833064  1.76128781  1.39102538  0.52512766\n",
            "  1.25077569  0.65267915  2.44454477 -0.27629601  0.56611514  1.40483496\n",
            "  1.86720563  2.49646786  1.83194405 -1.72973046  0.94687505  1.5445356\n",
            "  1.09230493  1.70789644 -3.0026994  -2.67885577 -0.39471322  0.6792691\n",
            "  1.24134877 -0.16736908 -0.27671283  0.0875564   2.13935573  0.16488465\n",
            "  2.29389317  0.55381346  2.38485947 -1.34087801  2.33600279  0.70444818\n",
            "  2.37608711  1.7695245  -0.07955292  1.28807822  1.82608634  1.17754233\n",
            "  1.23949076  2.6328331   0.10981303  1.07199081  0.44908755  0.95806434\n",
            "  1.22745112  2.17991458  1.10467471  2.94149259]\n"
          ],
          "name": "stdout"
        },
        {
          "output_type": "display_data",
          "data": {
            "image/png": "[encoded data removed]",
            "text/plain": [
              "<Figure size 432x288 with 1 Axes>"
            ]
          },
          "metadata": {
            "tags": []
          }
        }
      ]
    },
    {
      "metadata": {
        "id": "aDilCNJwtDqT",
        "colab_type": "text"
      },
      "cell_type": "markdown",
      "source": [
        "## Imshow\n",
        "\n",
        "*   이미지 데이터처럼 행과 열을 가진 행렬 형태의 2차원 데이터 표시\n",
        "*   2차원 자료의 크기를 색깔로 표시\n",
        "\n",
        "\n",
        "> http://matplotlib.org/api/pyplot_api.html#matplotlib.pyplot.imshow\n",
        "\n",
        "\n"
      ]
    },
    {
      "metadata": {
        "id": "2YF2-A_fskct",
        "colab_type": "code",
        "outputId": "085da744-5acc-48e3-dd8a-1bcc89ba1a29",
        "colab": {
          "base_uri": "https://localhost:8080/",
          "height": 161
        }
      },
      "cell_type": "code",
      "source": [
        "from sklearn.datasets import load_digits\n",
        "digits = load_digits()\n",
        "X = digits.images[1]\n",
        "X"
      ],
      "execution_count": 25,
      "outputs": [
        {
          "output_type": "execute_result",
          "data": {
            "text/plain": [
              "array([[ 0.,  0.,  0., 12., 13.,  5.,  0.,  0.],\n",
              "       [ 0.,  0.,  0., 11., 16.,  9.,  0.,  0.],\n",
              "       [ 0.,  0.,  3., 15., 16.,  6.,  0.,  0.],\n",
              "       [ 0.,  7., 15., 16., 16.,  2.,  0.,  0.],\n",
              "       [ 0.,  0.,  1., 16., 16.,  3.,  0.,  0.],\n",
              "       [ 0.,  0.,  1., 16., 16.,  6.,  0.,  0.],\n",
              "       [ 0.,  0.,  1., 16., 16.,  6.,  0.,  0.],\n",
              "       [ 0.,  0.,  0., 11., 16., 10.,  0.,  0.]])"
            ]
          },
          "metadata": {
            "tags": []
          },
          "execution_count": 25
        }
      ]
    },
    {
      "metadata": {
        "id": "K9Y6mAV9srmy",
        "colab_type": "code",
        "outputId": "a61958b1-14e3-49c3-87e3-83b089ac5564",
        "colab": {
          "base_uri": "https://localhost:8080/",
          "height": 269
        }
      },
      "cell_type": "code",
      "source": [
        "plt.imshow(X)\n",
        "plt.show()"
      ],
      "execution_count": 26,
      "outputs": [
        {
          "output_type": "display_data",
          "data": {
            "image/png": "[encoded data removed]",
            "text/plain": [
              "<Figure size 432x288 with 1 Axes>"
            ]
          },
          "metadata": {
            "tags": []
          }
        }
      ]
    }
  ]
}