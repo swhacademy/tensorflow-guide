{
  "nbformat": 4,
  "nbformat_minor": 0,
  "metadata": {
    "colab": {
      "name": "0_2_Matplotlib.ipynb",
      "version": "0.3.2",
      "provenance": [],
      "collapsed_sections": [],
      "toc_visible": true,
      "include_colab_link": true
    },
    "kernelspec": {
      "name": "python3",
      "display_name": "Python 3"
    },
    "accelerator": "GPU"
  },
  "cells": [
    {
      "cell_type": "markdown",
      "metadata": {
        "id": "view-in-github",
        "colab_type": "text"
      },
      "source": [
        "<a href=\"https://colab.research.google.com/github/swhacademy/tensorflow-guide/blob/master/0_2_Matplotlib.ipynb\" target=\"_parent\"><img src=\"https://colab.research.google.com/assets/colab-badge.svg\" alt=\"Open In Colab\"/></a>"
      ]
    },
    {
      "metadata": {
        "id": "y2ISyMXVGJPA",
        "colab_type": "text"
      },
      "cell_type": "markdown",
      "source": [
        "# matplotlib\n",
        "\n",
        "- 데이타를 차트나 플롯(Plot)으로 그려주는 라이브러리 패키지\n",
        "- 라인 플롯, 바 차트, 파이차트, 히스토그램, Box Plot, Scatter Plot 등 다양한 차트와 플롯 스타일을 지원\n",
        "- [matplotlib 홈페이지](https://matplotlib.org/gallery.html)\n",
        "\n",
        "---"
      ]
    },
    {
      "metadata": {
        "id": "tVKzs-xzGFAE",
        "colab_type": "code",
        "colab": {}
      },
      "cell_type": "code",
      "source": [
        "import matplotlib.pyplot as plt\n",
        "# 출력방식 결정. 'inline'은 현 노트에 그림 출력. 생략 가능\n",
        "%matplotlib inline"
      ],
      "execution_count": 0,
      "outputs": []
    },
    {
      "metadata": {
        "id": "JPhO3KJfC6I5",
        "colab_type": "text"
      },
      "cell_type": "markdown",
      "source": [
        "## 라인 플롯(line plot)\n",
        "- 선을 그리기\n",
        "- 데이터가 시간, 순서 등에 따라 어떻게 변화하는지 보여주기 위해 사용"
      ]
    },
    {
      "metadata": {
        "id": "O7UqH0mNCDC_",
        "colab_type": "code",
        "colab": {
          "base_uri": "https://localhost:8080/",
          "height": 269
        },
        "outputId": "82b19bac-b431-4a4d-93be-9856f5d51d55"
      },
      "cell_type": "code",
      "source": [
        "# plot함수 내 리스트나 ndarray(numpy 모듈의 array) 객체\n",
        "# x 축의 자료위치 즉, 틱(tick)은 자동으로 0, 1, 2, 3\n",
        "plt.plot([1, 4, 9, 16])\n",
        "# import numpy as np\n",
        "# a = np.array([1, 4, 9, 16])\n",
        "# plt.plot(a) # plot함수 내 리스트나 ndarray(numpy 모듈의 array) 객체\n",
        "\n",
        "plt.show()"
      ],
      "execution_count": 2,
      "outputs": [
        {
          "output_type": "display_data",
          "data": {
            "image/png": "[encoded data removed]",
            "text/plain": [
              "<Figure size 432x288 with 1 Axes>"
            ]
          },
          "metadata": {
            "tags": []
          }
        }
      ]
    },
    {
      "metadata": {
        "id": "oRuAqD2IGbbh",
        "colab_type": "code",
        "outputId": "d58e5d3e-9f69-4073-9790-ec53db678ba9",
        "colab": {
          "base_uri": "https://localhost:8080/",
          "height": 295
        }
      },
      "cell_type": "code",
      "source": [
        "plt.plot([\"코야\",\"레종\",\"유키\"], [3.0,4.7,2.7]) # x축 자료위치, y축 값\n",
        "plt.xlabel('이름') # x축 이름\n",
        "plt.ylabel('체중') # y축 이름\n",
        "plt.title('우리집 고양이')\n",
        "plt.show()"
      ],
      "execution_count": 3,
      "outputs": [
        {
          "output_type": "display_data",
          "data": {
            "image/png": "[encoded data removed]",
            "text/plain": [
              "<Figure size 432x288 with 1 Axes>"
            ]
          },
          "metadata": {
            "tags": []
          }
        }
      ]
    },
    {
      "metadata": {
        "id": "8iFgSx5jQDiB",
        "colab_type": "text"
      },
      "cell_type": "markdown",
      "source": [
        "## Matplotlib 한글폰트 설정\n",
        "[참고 사이트](https://programmers.co.kr/learn/courses/21/lessons/950)"
      ]
    },
    {
      "metadata": {
        "id": "HHPQKEcpWGiB",
        "colab_type": "code",
        "outputId": "67fbb53c-1b0f-49a1-b811-6030b7918660",
        "colab": {
          "base_uri": "https://localhost:8080/",
          "height": 89
        }
      },
      "cell_type": "code",
      "source": [
        "import matplotlib as mpl\n",
        "# matplotlib 설치경로 및 버전\n",
        "print(mpl.__version__)\n",
        "print(mpl.__file__)\n",
        "print(mpl.get_configdir())\n",
        "print(mpl.get_cachedir())"
      ],
      "execution_count": 4,
      "outputs": [
        {
          "output_type": "stream",
          "text": [
            "3.0.3\n",
            "/usr/local/lib/python3.6/dist-packages/matplotlib/__init__.py\n",
            "/root/.config/matplotlib\n",
            "/root/.cache/matplotlib\n"
          ],
          "name": "stdout"
        }
      ]
    },
    {
      "metadata": {
        "id": "Bv_dwOKhWJLX",
        "colab_type": "code",
        "outputId": "4b01d43d-e173-49e4-fa76-940c7770e922",
        "colab": {
          "base_uri": "https://localhost:8080/",
          "height": 91
        }
      },
      "cell_type": "code",
      "source": [
        "import matplotlib.font_manager as fm  # 폰트 관련 용도\n",
        "\n",
        "sys_font=fm.findSystemFonts()\n",
        "print(f\"sys_font number: {len(sys_font)}\")\n",
        "print(sys_font)\n",
        "\n",
        "nanum_font = [f for f in sys_font if 'Nanum' in f] # 나눔체 폰트 조회\n",
        "print(f\"nanum_font number: {len(nanum_font)}\")"
      ],
      "execution_count": 5,
      "outputs": [
        {
          "output_type": "stream",
          "text": [
            "sys_font number: 47\n",
            "['/usr/share/fonts/truetype/nanum/NanumMyeongjoBold.ttf', '/usr/share/fonts/truetype/nanum/NanumSquareRoundB.ttf', '/usr/share/fonts/truetype/nanum/NanumMyeongjoEcoBold.ttf', '/usr/share/fonts/truetype/liberation/LiberationSansNarrow-Italic.ttf', '/usr/share/fonts/truetype/liberation/LiberationSans-Bold.ttf', '/usr/share/fonts/truetype/nanum/NanumBarunpenR.ttf', '/usr/share/fonts/truetype/nanum/NanumBarunGothic.ttf', '/usr/share/fonts/truetype/nanum/NanumBarunGothicBold.ttf', '/usr/share/fonts/truetype/nanum/NanumSquareRoundR.ttf', '/usr/share/fonts/truetype/liberation/LiberationSerif-BoldItalic.ttf', '/usr/share/fonts/truetype/liberation/LiberationSansNarrow-Bold.ttf', '/usr/share/fonts/truetype/nanum/NanumGothicExtraBold.ttf', '/usr/share/fonts/truetype/nanum/NanumBarunpenB.ttf', '/usr/share/fonts/truetype/nanum/NanumMyeongjoEcoExtraBold.ttf', '/usr/share/fonts/truetype/nanum/NanumGothicEcoExtraBold.ttf', '/usr/share/fonts/truetype/nanum/NanumBrush.ttf', '/usr/share/fonts/truetype/liberation/LiberationSans-Regular.ttf', '/usr/share/fonts/truetype/nanum/NanumMyeongjoEco.ttf', '/usr/share/fonts/truetype/liberation/LiberationMono-BoldItalic.ttf', '/usr/share/fonts/truetype/nanum/NanumGothic.ttf', '/usr/share/fonts/truetype/liberation/LiberationSerif-Italic.ttf', '/usr/share/fonts/truetype/nanum/NanumSquareRoundL.ttf', '/usr/share/fonts/truetype/liberation/LiberationMono-Italic.ttf', '/usr/share/fonts/truetype/nanum/NanumSquareL.ttf', '/usr/share/fonts/truetype/nanum/NanumBarunGothicUltraLight.ttf', '/usr/share/fonts/truetype/nanum/NanumMyeongjoExtraBold.ttf', '/usr/share/fonts/truetype/liberation/LiberationMono-Bold.ttf', '/usr/share/fonts/truetype/liberation/LiberationSerif-Bold.ttf', '/usr/share/fonts/truetype/nanum/NanumGothicCoding.ttf', '/usr/share/fonts/truetype/nanum/NanumSquareEB.ttf', '/usr/share/fonts/truetype/nanum/NanumSquareB.ttf', '/usr/share/fonts/truetype/nanum/NanumSquareR.ttf', '/usr/share/fonts/truetype/liberation/LiberationSans-Italic.ttf', '/usr/share/fonts/truetype/liberation/LiberationSansNarrow-BoldItalic.ttf', '/usr/share/fonts/truetype/nanum/NanumGothicCoding-Bold.ttf', '/usr/share/fonts/truetype/nanum/NanumPen.ttf', '/usr/share/fonts/truetype/nanum/NanumMyeongjo.ttf', '/usr/share/fonts/truetype/liberation/LiberationSansNarrow-Regular.ttf', '/usr/share/fonts/truetype/liberation/LiberationMono-Regular.ttf', '/usr/share/fonts/truetype/nanum/NanumGothicLight.ttf', '/usr/share/fonts/truetype/nanum/NanumGothicEcoBold.ttf', '/usr/share/fonts/truetype/nanum/NanumBarunGothicLight.ttf', '/usr/share/fonts/truetype/liberation/LiberationSerif-Regular.ttf', '/usr/share/fonts/truetype/nanum/NanumGothicBold.ttf', '/usr/share/fonts/truetype/liberation/LiberationSans-BoldItalic.ttf', '/usr/share/fonts/truetype/nanum/NanumGothicEco.ttf', '/usr/share/fonts/truetype/nanum/NanumSquareRoundEB.ttf']\n",
            "nanum_font number: 31\n"
          ],
          "name": "stdout"
        }
      ]
    },
    {
      "metadata": {
        "id": "8ikM4rYtWLxu",
        "colab_type": "code",
        "colab": {}
      },
      "cell_type": "code",
      "source": [
        "# 폰트(나눔체) 설치\n",
        "!apt-get update -qq\n",
        "!apt-get install fonts-nanum* -qq"
      ],
      "execution_count": 0,
      "outputs": []
    },
    {
      "metadata": {
        "id": "yJQbdj0bWNof",
        "colab_type": "code",
        "outputId": "13d57d0c-4f2d-4463-c598-1300c6abb7c0",
        "colab": {
          "base_uri": "https://localhost:8080/",
          "height": 611
        }
      },
      "cell_type": "code",
      "source": [
        "# 폰트설치 확인\n",
        "sys_font=fm.findSystemFonts()\n",
        "print(f\"sys_font number: {len(sys_font)}\")\n",
        "\n",
        "nanum_font = [f for f in sys_font if 'Nanum' in f]\n",
        "print(f\"nanum_font number: {len(nanum_font)}\")\n",
        "nanum_font"
      ],
      "execution_count": 7,
      "outputs": [
        {
          "output_type": "stream",
          "text": [
            "sys_font number: 47\n",
            "nanum_font number: 31\n"
          ],
          "name": "stdout"
        },
        {
          "output_type": "execute_result",
          "data": {
            "text/plain": [
              "['/usr/share/fonts/truetype/nanum/NanumMyeongjoBold.ttf',\n",
              " '/usr/share/fonts/truetype/nanum/NanumSquareRoundB.ttf',\n",
              " '/usr/share/fonts/truetype/nanum/NanumMyeongjoEcoBold.ttf',\n",
              " '/usr/share/fonts/truetype/nanum/NanumBarunpenR.ttf',\n",
              " '/usr/share/fonts/truetype/nanum/NanumBarunGothic.ttf',\n",
              " '/usr/share/fonts/truetype/nanum/NanumBarunGothicBold.ttf',\n",
              " '/usr/share/fonts/truetype/nanum/NanumSquareRoundR.ttf',\n",
              " '/usr/share/fonts/truetype/nanum/NanumGothicExtraBold.ttf',\n",
              " '/usr/share/fonts/truetype/nanum/NanumBarunpenB.ttf',\n",
              " '/usr/share/fonts/truetype/nanum/NanumMyeongjoEcoExtraBold.ttf',\n",
              " '/usr/share/fonts/truetype/nanum/NanumGothicEcoExtraBold.ttf',\n",
              " '/usr/share/fonts/truetype/nanum/NanumBrush.ttf',\n",
              " '/usr/share/fonts/truetype/nanum/NanumMyeongjoEco.ttf',\n",
              " '/usr/share/fonts/truetype/nanum/NanumGothic.ttf',\n",
              " '/usr/share/fonts/truetype/nanum/NanumSquareRoundL.ttf',\n",
              " '/usr/share/fonts/truetype/nanum/NanumSquareL.ttf',\n",
              " '/usr/share/fonts/truetype/nanum/NanumBarunGothicUltraLight.ttf',\n",
              " '/usr/share/fonts/truetype/nanum/NanumMyeongjoExtraBold.ttf',\n",
              " '/usr/share/fonts/truetype/nanum/NanumGothicCoding.ttf',\n",
              " '/usr/share/fonts/truetype/nanum/NanumSquareEB.ttf',\n",
              " '/usr/share/fonts/truetype/nanum/NanumSquareB.ttf',\n",
              " '/usr/share/fonts/truetype/nanum/NanumSquareR.ttf',\n",
              " '/usr/share/fonts/truetype/nanum/NanumGothicCoding-Bold.ttf',\n",
              " '/usr/share/fonts/truetype/nanum/NanumPen.ttf',\n",
              " '/usr/share/fonts/truetype/nanum/NanumMyeongjo.ttf',\n",
              " '/usr/share/fonts/truetype/nanum/NanumGothicLight.ttf',\n",
              " '/usr/share/fonts/truetype/nanum/NanumGothicEcoBold.ttf',\n",
              " '/usr/share/fonts/truetype/nanum/NanumBarunGothicLight.ttf',\n",
              " '/usr/share/fonts/truetype/nanum/NanumGothicBold.ttf',\n",
              " '/usr/share/fonts/truetype/nanum/NanumGothicEco.ttf',\n",
              " '/usr/share/fonts/truetype/nanum/NanumSquareRoundEB.ttf']"
            ]
          },
          "metadata": {
            "tags": []
          },
          "execution_count": 7
        }
      ]
    },
    {
      "metadata": {
        "id": "Ismagp0_WP_f",
        "colab_type": "code",
        "outputId": "0904400f-b969-4e8a-b8bd-b1a8f8f7ff00",
        "colab": {
          "base_uri": "https://localhost:8080/",
          "height": 53
        }
      },
      "cell_type": "code",
      "source": [
        "# 현재 설정되어 있는 폰트 사이즈와 글꼴을 알아보자\n",
        "!python --version\n",
        "print(f\"설정 폰트 글꼴: {plt.rcParams['font.family']}, 설정 폰트 사이즈: {plt.rcParams['font.size']}\")  # 파이썬 3.6 이상 사용가능하다"
      ],
      "execution_count": 8,
      "outputs": [
        {
          "output_type": "stream",
          "text": [
            "Python 3.6.7\n",
            "설정 폰트 글꼴: ['sans-serif'], 설정 폰트 사이즈: 10.0\n"
          ],
          "name": "stdout"
        }
      ]
    },
    {
      "metadata": {
        "id": "AtoGOQisWRqP",
        "colab_type": "code",
        "outputId": "b9917ff6-153f-4261-bd8d-c979e4b96aea",
        "colab": {
          "base_uri": "https://localhost:8080/",
          "height": 35
        }
      },
      "cell_type": "code",
      "source": [
        "# 설치한 나눔체로 현재 폰트를 설정\n",
        "path = '/usr/share/fonts/truetype/nanum/NanumGothicEco.ttf'  # 설치된 나눔글꼴중 원하는 녀석의 전체 경로를 가져오자\n",
        "font_name = fm.FontProperties(fname=path, size=10).get_name()\n",
        "print(font_name)\n",
        "plt.rc('font', family=font_name)"
      ],
      "execution_count": 9,
      "outputs": [
        {
          "output_type": "stream",
          "text": [
            "NanumGothic Eco\n"
          ],
          "name": "stdout"
        }
      ]
    },
    {
      "metadata": {
        "id": "i6Q9AgmIWT2e",
        "colab_type": "code",
        "outputId": "f1e9322d-c7c6-446b-dec9-c33784741dd7",
        "colab": {
          "base_uri": "https://localhost:8080/",
          "height": 293
        }
      },
      "cell_type": "code",
      "source": [
        "# 우선 fm._rebuild() 를 해주고\n",
        "fm._rebuild()\n",
        "\n",
        "plt.plot([\"코야\",\"레종\",\"유키\"], [3.0,4.7,2.7])\n",
        "plt.xlabel('이름')\n",
        "plt.ylabel('체중')\n",
        "plt.title('우리집 고양이')\n",
        "plt.show()"
      ],
      "execution_count": 10,
      "outputs": [
        {
          "output_type": "display_data",
          "data": {
            "image/png": "[encoded data removed]",
            "text/plain": [
              "<Figure size 432x288 with 1 Axes>"
            ]
          },
          "metadata": {
            "tags": []
          }
        }
      ]
    },
    {
      "metadata": {
        "id": "0_bC8hj3R43f",
        "colab_type": "text"
      },
      "cell_type": "markdown",
      "source": [
        "## plot 스타일 지정\n",
        "- 색깔(color), 데이터 위치를 나타내는 마커(marker), 선 종류(line style)의 순서로 지정\n",
        "\n",
        "---\n",
        "\n",
        "1.   색깔\n",
        "\n",
        "> https://matplotlib.org/examples/color/named_colors.html\n",
        "\n",
        "\n",
        "\n",
        "2.   마커\n",
        "\n",
        "> https://matplotlib.org/examples/lines_bars_and_markers/marker_reference.html\n",
        "\n",
        "3.   선 종류\n",
        "\n",
        "> https://matplotlib.org/examples/lines_bars_and_markers/line_styles_reference.html"
      ]
    },
    {
      "metadata": {
        "id": "itR7DqdwFkJ2",
        "colab_type": "code",
        "colab": {
          "base_uri": "https://localhost:8080/",
          "height": 279
        },
        "outputId": "b46e8c36-3c6c-4b8c-b926-53c96faf575d"
      },
      "cell_type": "code",
      "source": [
        "plt.title(\"스타일 적용\")\n",
        "plt.plot([10, 20, 30, 40], [1, 4, 9, 16], 'bs--')\n",
        "plt.show()"
      ],
      "execution_count": 11,
      "outputs": [
        {
          "output_type": "display_data",
          "data": {
            "image/png": "[encoded data removed]",
            "text/plain": [
              "<Figure size 432x288 with 1 Axes>"
            ]
          },
          "metadata": {
            "tags": []
          }
        }
      ]
    },
    {
      "metadata": {
        "id": "q0Itlw52SoDp",
        "colab_type": "text"
      },
      "cell_type": "markdown",
      "source": [
        "### 라인 플롯에서 자주 사용되는 스타일\n",
        "| 스타일 | 문자열\t약자 | 의미 |\n",
        "|---|---|---|\n",
        "| color | c | 선 색깔 |\n",
        "| linewidth | lw | 선 굵기 |\n",
        "| linestyle | ls | 선 스타일 |\n",
        "| marker |  | 마커종류 |\n",
        "| markersize | ms | 마커 크기 |\n",
        "| markeredgecolor | mec | 마커 선 색깔 |\n",
        "| markeredgewidth | mew | 마커 선 굵기 |\n",
        "| markerfacecolor | mfc | 마커 내부 색깔 |"
      ]
    },
    {
      "metadata": {
        "id": "UDWZWKl4Wvx3",
        "colab_type": "code",
        "colab": {
          "base_uri": "https://localhost:8080/",
          "height": 279
        },
        "outputId": "1d033eaf-bc1f-41b5-9545-66f6bdd4c7de"
      },
      "cell_type": "code",
      "source": [
        "plt.plot([10, 20, 30, 40], [1, 4, 9, 16], c=\"b\",\n",
        "         lw=5, ls=\"--\", marker=\"o\", ms=10, mec=\"g\", mew=5, mfc=\"r\")\n",
        "plt.title(\"스타일 적용 다른 예\")\n",
        "plt.show()"
      ],
      "execution_count": 12,
      "outputs": [
        {
          "output_type": "display_data",
          "data": {
            "image/png": "[encoded data removed]",
            "text/plain": [
              "<Figure size 432x288 with 1 Axes>"
            ]
          },
          "metadata": {
            "tags": []
          }
        }
      ]
    },
    {
      "metadata": {
        "id": "IEiRdQ1vaSdl",
        "colab_type": "text"
      },
      "cell_type": "markdown",
      "source": [
        "### 범례추가\n",
        "\n",
        "\n",
        "*   플롯에 여러 개의 라인들을 추가하기 위해서는 plt.plot()을 plt.show() 이전에 여러 번 사용\n",
        "*   각 라인에 대한 범례를 추가하기 위해서는 plt.legend([라인1범례, 라인2범례]) 함수를 사용\n",
        "\n"
      ]
    },
    {
      "metadata": {
        "id": "43DVYfoZagOE",
        "colab_type": "code",
        "colab": {
          "base_uri": "https://localhost:8080/",
          "height": 292
        },
        "outputId": "56535037-1408-44dd-a2c1-62b1e010e360"
      },
      "cell_type": "code",
      "source": [
        "plt.plot([1,2,3],[1,4,9])\n",
        "plt.plot([2,3,4],[5,6,7])\n",
        "plt.xlabel('Sequence')\n",
        "plt.ylabel('Time(secs)')\n",
        "plt.title('Legend 추가')\n",
        "plt.legend(['Cat', 'Mouse'])\n",
        "plt.show()"
      ],
      "execution_count": 13,
      "outputs": [
        {
          "output_type": "display_data",
          "data": {
            "image/png": "[encoded data removed]",
            "text/plain": [
              "<Figure size 432x288 with 1 Axes>"
            ]
          },
          "metadata": {
            "tags": []
          }
        }
      ]
    },
    {
      "metadata": {
        "id": "OMmga1nAbUca",
        "colab_type": "text"
      },
      "cell_type": "markdown",
      "source": [
        "## 바 차트(bar chart)\n",
        "\n",
        "> http://matplotlib.org/api/pyplot_api.html#matplotlib.pyplot.bar\n",
        "> http://matplotlib.org/api/pyplot_api.html#matplotlib.pyplot.barh"
      ]
    },
    {
      "metadata": {
        "id": "-LGElVvYbnbQ",
        "colab_type": "code",
        "colab": {
          "base_uri": "https://localhost:8080/",
          "height": 268
        },
        "outputId": "4552ba89-f311-4a3c-a45f-1989726453ad"
      },
      "cell_type": "code",
      "source": [
        "y = [5, 3, 7, 10, 9, 5, 3.5, 8]\n",
        "x = range(len(y))\n",
        "# import numpy as np\n",
        "# x = np.arange(len(y)) 와 동일\n",
        "plt.bar(x, y, width=0.5, color=\"blue\")\n",
        "plt.show()"
      ],
      "execution_count": 14,
      "outputs": [
        {
          "output_type": "display_data",
          "data": {
            "image/png": "[encoded data removed]",
            "text/plain": [
              "<Figure size 432x288 with 1 Axes>"
            ]
          },
          "metadata": {
            "tags": []
          }
        }
      ]
    },
    {
      "metadata": {
        "id": "9Vi-bzSiY6jP",
        "colab_type": "text"
      },
      "cell_type": "markdown",
      "source": [
        "## 스템 플롯\n",
        "- 바 차트와 유사하지만 폭(width)이 없다.\n",
        "\n",
        "\n",
        "\n",
        "> http://matplotlib.org/api/pyplot_api.html#matplotlib.pyplot.stem\n",
        "\n"
      ]
    },
    {
      "metadata": {
        "id": "WnvCc1bGZCt9",
        "colab_type": "code",
        "colab": {
          "base_uri": "https://localhost:8080/",
          "height": 268
        },
        "outputId": "02183af9-afff-4d30-95c1-a3ea771c6583"
      },
      "cell_type": "code",
      "source": [
        "import numpy as np\n",
        "x = range(5)\n",
        "plt.stem(x, np.cos(x), '--')\n",
        "plt.show()"
      ],
      "execution_count": 15,
      "outputs": [
        {
          "output_type": "display_data",
          "data": {
            "image/png": "[encoded data removed]",
            "text/plain": [
              "<Figure size 432x288 with 1 Axes>"
            ]
          },
          "metadata": {
            "tags": []
          }
        }
      ]
    },
    {
      "metadata": {
        "id": "yO6mjtn6Z-pT",
        "colab_type": "text"
      },
      "cell_type": "markdown",
      "source": [
        "## 파이 차트\n",
        "- 카테고리 별 값의 상대적인 비교\n",
        "- 원의 형태를 유지하기 위해 `plt.axis('equal')` 명령을 실행\n",
        "\n",
        "\n",
        "\n",
        "> http://matplotlib.org/api/pyplot_api.html#matplotlib.pyplot.pie"
      ]
    },
    {
      "metadata": {
        "id": "YCjR_i0yaR6k",
        "colab_type": "code",
        "colab": {
          "base_uri": "https://localhost:8080/",
          "height": 255
        },
        "outputId": "ad4892ed-2246-4227-e809-ecb014eceb0c"
      },
      "cell_type": "code",
      "source": [
        "data = [12, 16, 24, 28, 20]\n",
        "label = ['C', 'C++', 'Python', 'Java', 'C#']\n",
        "color = ['r', 'yellowgreen', 'gold', 'lightskyblue', 'm']\n",
        "plt.pie(data, labels=label, colors=color, autopct='%1.1f%%', shadow=True)\n",
        "plt.axis('equal')\n",
        "plt.show()"
      ],
      "execution_count": 16,
      "outputs": [
        {
          "output_type": "display_data",
          "data": {
            "image/png": "[encoded data removed]",
            "text/plain": [
              "<Figure size 432x288 with 1 Axes>"
            ]
          },
          "metadata": {
            "tags": []
          }
        }
      ]
    },
    {
      "metadata": {
        "id": "kpRDoKG_boX3",
        "colab_type": "text"
      },
      "cell_type": "markdown",
      "source": [
        "## 히스토그램\n",
        "- 카테고리 별 값의 상대적인 비교\n",
        "- 원의 형태를 유지하기 위해 `plt.axis('equal')` 명령을 실행\n",
        "\n",
        "\n",
        "\n",
        "> http://matplotlib.org/api/pyplot_api.html#matplotlib.pyplot.hist"
      ]
    },
    {
      "metadata": {
        "id": "CS17T1dIcMSp",
        "colab_type": "code",
        "colab": {
          "base_uri": "https://localhost:8080/",
          "height": 322
        },
        "outputId": "e65e2dea-20f0-4cf6-b526-cf27fdcd7ff8"
      },
      "cell_type": "code",
      "source": [
        "import numpy as np\n",
        "x = np.random.rand(10000) # 난수: [0. 1)의 균등 분포(Uniform Distribution)\n",
        "print(x)\n",
        "arrays, bins, patches = plt.hist(x, bins=20) # bins는 데이터를 집계할 구간 정보\n",
        "plt.show()\n",
        "print(arrays)"
      ],
      "execution_count": 17,
      "outputs": [
        {
          "output_type": "stream",
          "text": [
            "[0.33537829 0.29341954 0.67567144 ... 0.55405383 0.95216137 0.7491355 ]\n"
          ],
          "name": "stdout"
        },
        {
          "output_type": "display_data",
          "data": {
            "image/png": "[encoded data removed]",
            "text/plain": [
              "<Figure size 432x288 with 1 Axes>"
            ]
          },
          "metadata": {
            "tags": []
          }
        },
        {
          "output_type": "stream",
          "text": [
            "[496. 518. 521. 518. 453. 501. 495. 494. 530. 459. 503. 531. 492. 506.\n",
            " 508. 486. 495. 497. 489. 508.]\n"
          ],
          "name": "stdout"
        }
      ]
    },
    {
      "metadata": {
        "id": "8dIz1SoPkOq6",
        "colab_type": "text"
      },
      "cell_type": "markdown",
      "source": [
        "## 스캐터 플롯\n",
        "- 두 개의 실수 데이터 집합의 상관관계을 살펴볼 때 유용\n",
        "\n",
        "\n",
        "\n",
        "> http://matplotlib.org/api/pyplot_api.html#matplotlib.pyplot.scatter"
      ]
    },
    {
      "metadata": {
        "id": "7TpSs3yskzHP",
        "colab_type": "code",
        "colab": {
          "base_uri": "https://localhost:8080/",
          "height": 880
        },
        "outputId": "a1fb8913-014e-40b5-9b2e-22d4b53bd0f0"
      },
      "cell_type": "code",
      "source": [
        "import numpy as np\n",
        "x = np.random.normal(1, 1, 100) # 평균:1, 표준편차:1, 크기:100\n",
        "print(x)\n",
        "y = np.random.normal(1, 1, 100) # 평균:1, 표준편차:1, 크기:100\n",
        "print(y)\n",
        "plt.scatter(x, y) \n",
        "plt.show()"
      ],
      "execution_count": 18,
      "outputs": [
        {
          "output_type": "stream",
          "text": [
            "[ 1.16594758  1.06427132 -0.63156721  1.4354158   2.16291483  1.65041268\n",
            "  1.06423172  1.09094809  0.59939847  1.08684868  2.48795868 -0.54043053\n",
            "  0.80019523 -0.37893148  0.50159506  1.28828563  0.42597048  0.34429081\n",
            "  0.73639829  4.00095527  0.93089095  1.84384049  0.07581958 -0.58950057\n",
            "  3.85201904 -0.26479146  1.39290079  1.42504912  2.12950909  1.33029992\n",
            "  1.0726882  -0.20087688  0.29935306  1.71729719  1.29306545  1.9096673\n",
            "  0.70086441  0.80352456  0.49003812  0.73628752  1.7157763   2.38696452\n",
            "  1.47015376  1.15091812  0.92951311  0.4222342  -0.2663825   2.20189033\n",
            "  0.64992514  1.10280598  1.50151935  1.58709963  2.02922405  0.18841522\n",
            "  0.04130615  1.63226319  0.53092377  1.70571144  1.03752025 -0.35413918\n",
            "  1.20829143  0.1120939   0.4223519  -1.80498939  0.38535562  0.44398797\n",
            "  1.25567965  1.86870713  2.87288848  0.24112642  2.24283242  1.16995425\n",
            "  0.62339975  2.29478028  2.39183786  0.95307744  2.97404392  1.76268485\n",
            "  2.27284846 -0.42127646  3.17409393  2.34695896  0.18759594  0.1800909\n",
            "  1.3189919   2.4093477  -0.30671928  1.33196235  2.42695138  0.26428755\n",
            "  0.54257169  0.5571501   2.7503338   2.21192442  1.70168068  1.06734616\n",
            "  0.28444474  0.88464332  2.88561084  2.27107538]\n",
            "[ 2.13712114  0.61011027  2.60520379 -0.27458186 -0.27490437  1.56740379\n",
            "  0.99872504  1.91904262  1.37528961  1.22231203  0.62162305  0.95112626\n",
            "  2.28545734  1.12611626  0.01101508  3.80734099  2.55237952  2.10633879\n",
            "  0.27201288  1.00443385  0.93042771  1.84187574  0.11969166 -0.02552134\n",
            " -0.13497987  1.803008   -0.17134283  2.43335384  0.04838517  0.33696181\n",
            "  0.34427115  1.52855164  2.26257844  0.32130405 -0.42366952  1.17067408\n",
            "  1.81565088  0.30124806 -1.00128393 -0.25006484  2.09354913  1.30257412\n",
            "  1.95215581  0.21051587  2.08212968  0.6230447   0.1880759   1.2447384\n",
            " -0.04745116  0.55217301  1.95145079  2.34737059  0.21103172  3.34300605\n",
            "  1.05466406  0.11777055  1.62418131  0.54349184  0.93868745  2.44956956\n",
            "  0.03771464  1.33331196  0.4729987   1.49254884  1.16630648 -1.2988811\n",
            "  2.59427073  1.14071542  0.76773807  2.43804397  0.43468856  1.69819488\n",
            " -0.36635523 -0.67893567  1.35745954  1.69408281  1.13740283  2.01557686\n",
            " -0.21955477  2.45418239 -0.75542801  0.38006104  1.87206936  0.64234582\n",
            " -0.35929784  0.16083946 -0.47429332  1.76659264  0.39841652  0.5418026\n",
            "  1.37782884  0.27740788  0.78433993  0.74576885  2.25120893  1.85982878\n",
            "  0.77367345  0.66315518  0.71400773  1.27167866]\n"
          ],
          "name": "stdout"
        },
        {
          "output_type": "display_data",
          "data": {
            "image/png": "[encoded data removed]",
            "text/plain": [
              "<Figure size 432x288 with 1 Axes>"
            ]
          },
          "metadata": {
            "tags": []
          }
        }
      ]
    },
    {
      "metadata": {
        "id": "aDilCNJwtDqT",
        "colab_type": "text"
      },
      "cell_type": "markdown",
      "source": [
        "## Imshow\n",
        "\n",
        "*   이미지 데이터처럼 행과 열을 가진 행렬 형태의 2차원 데이터 표시\n",
        "*   2차원 자료의 크기를 색깔로 표시\n",
        "\n",
        "\n",
        "> http://matplotlib.org/api/pyplot_api.html#matplotlib.pyplot.imshow\n",
        "\n",
        "\n"
      ]
    },
    {
      "metadata": {
        "id": "2YF2-A_fskct",
        "colab_type": "code",
        "colab": {
          "base_uri": "https://localhost:8080/",
          "height": 161
        },
        "outputId": "605f0964-3008-4686-8d91-8b07ecc8e7e8"
      },
      "cell_type": "code",
      "source": [
        "from sklearn.datasets import load_digits\n",
        "digits = load_digits()\n",
        "X = digits.images[1]\n",
        "X"
      ],
      "execution_count": 19,
      "outputs": [
        {
          "output_type": "execute_result",
          "data": {
            "text/plain": [
              "array([[ 0.,  0.,  0., 12., 13.,  5.,  0.,  0.],\n",
              "       [ 0.,  0.,  0., 11., 16.,  9.,  0.,  0.],\n",
              "       [ 0.,  0.,  3., 15., 16.,  6.,  0.,  0.],\n",
              "       [ 0.,  7., 15., 16., 16.,  2.,  0.,  0.],\n",
              "       [ 0.,  0.,  1., 16., 16.,  3.,  0.,  0.],\n",
              "       [ 0.,  0.,  1., 16., 16.,  6.,  0.,  0.],\n",
              "       [ 0.,  0.,  1., 16., 16.,  6.,  0.,  0.],\n",
              "       [ 0.,  0.,  0., 11., 16., 10.,  0.,  0.]])"
            ]
          },
          "metadata": {
            "tags": []
          },
          "execution_count": 19
        }
      ]
    },
    {
      "metadata": {
        "id": "K9Y6mAV9srmy",
        "colab_type": "code",
        "colab": {
          "base_uri": "https://localhost:8080/",
          "height": 268
        },
        "outputId": "386df5ba-a436-432d-d226-ee4bf1c2b682"
      },
      "cell_type": "code",
      "source": [
        "plt.imshow(X)\n",
        "plt.show()"
      ],
      "execution_count": 20,
      "outputs": [
        {
          "output_type": "display_data",
          "data": {
            "image/png": "[encoded data removed]",
            "text/plain": [
              "<Figure size 432x288 with 1 Axes>"
            ]
          },
          "metadata": {
            "tags": []
          }
        }
      ]
    }
  ]
}