{
  "nbformat": 4,
  "nbformat_minor": 0,
  "metadata": {
    "colab": {
      "name": "0_2_SciPy.ipynb",
      "version": "0.3.2",
      "provenance": [],
      "collapsed_sections": [],
      "include_colab_link": true
    },
    "kernelspec": {
      "name": "python3",
      "display_name": "Python 3"
    }
  },
  "cells": [
    {
      "cell_type": "markdown",
      "metadata": {
        "id": "view-in-github",
        "colab_type": "text"
      },
      "source": [
        "<a href=\"https://colab.research.google.com/github/swhacademy/tensorflow-guide/blob/master/0_2_SciPy.ipynb\" target=\"_parent\"><img src=\"https://colab.research.google.com/assets/colab-badge.svg\" alt=\"Open In Colab\"/></a>"
      ]
    },
    {
      "metadata": {
        "id": "jAjo4ljkp3Rc",
        "colab_type": "text"
      },
      "cell_type": "markdown",
      "source": [
        "# scipy\n",
        "\n",
        "- numpy 배열에서 작동하며 과학 및 엔지니어링 응용 프로그램의 다른 유형에 유용한 많은 기능을 제공\n",
        "\n",
        "---\n",
        "\n",
        "https://docs.scipy.org/doc/scipy/reference/index.html"
      ]
    }
  ]
}