{
  "nbformat": 4,
  "nbformat_minor": 0,
  "metadata": {
    "colab": {
      "name": "0_3_Pandas.ipynb",
      "version": "0.3.2",
      "provenance": [],
      "collapsed_sections": [],
      "toc_visible": true,
      "include_colab_link": true
    },
    "kernelspec": {
      "name": "python3",
      "display_name": "Python 3"
    },
    "accelerator": "GPU"
  },
  "cells": [
    {
      "cell_type": "markdown",
      "metadata": {
        "id": "view-in-github",
        "colab_type": "text"
      },
      "source": [
        "<a href=\"https://colab.research.google.com/github/swhacademy/tensorflow-guide/blob/master/0_3_Pandas.ipynb\" target=\"_parent\"><img src=\"https://colab.research.google.com/assets/colab-badge.svg\" alt=\"Open In Colab\"/></a>"
      ]
    },
    {
      "metadata": {
        "id": "0XMweAwZ30qj",
        "colab_type": "text"
      },
      "cell_type": "markdown",
      "source": [
        "# 참고 사이트\n",
        "\n",
        "\n",
        "*   https://pandas.pydata.org/pandas-docs/stable/getting_started/10min.html"
      ]
    },
    {
      "metadata": {
        "id": "jAjo4ljkp3Rc",
        "colab_type": "text"
      },
      "cell_type": "markdown",
      "source": [
        "# Pandas\n",
        "\n",
        "- 데이타 분석(Data Analysis)을 위해 널리 사용되는 파이썬 라이브러리 패키지\n",
        "\n",
        "## Pandas 자료구조\n",
        "\n",
        "1.   1차원 자료구조인 Series\n",
        "2.   2차원 자료구조인 DataFrame\n",
        "3.   3차원 자료구조인 Panel"
      ]
    },
    {
      "metadata": {
        "id": "-w-quMC_6z7V",
        "colab_type": "text"
      },
      "cell_type": "markdown",
      "source": [
        "## Pandas 모듈"
      ]
    },
    {
      "metadata": {
        "id": "5F9JT58N7BMl",
        "colab_type": "code",
        "outputId": "8b98f1cc-3a31-44e9-96b5-c1545027fef9",
        "colab": {
          "base_uri": "https://localhost:8080/",
          "height": 35
        }
      },
      "cell_type": "code",
      "source": [
        "import pandas as pd\n",
        "pd.__version__"
      ],
      "execution_count": 9,
      "outputs": [
        {
          "output_type": "execute_result",
          "data": {
            "text/plain": [
              "'0.24.2'"
            ]
          },
          "metadata": {
            "tags": []
          },
          "execution_count": 9
        }
      ]
    },
    {
      "metadata": {
        "id": "k7B0ztt0y5sM",
        "colab_type": "text"
      },
      "cell_type": "markdown",
      "source": [
        "## Series\n",
        "\n",
        "*   1차원 데이터에 행방향으로 인덱스를 붙인 것\n",
        "*   시리즈(series) = 값(value) + 인덱스(index)\n",
        "*   값(value) = NumPy의 1차원 배열 or 리스트\n",
        "*   인덱스와 값의 길이가 동일\n",
        "\n"
      ]
    },
    {
      "metadata": {
        "id": "EiEFLLQ5f6rL",
        "colab_type": "code",
        "colab": {}
      },
      "cell_type": "code",
      "source": [
        "import pandas as pd\n",
        "import numpy as np"
      ],
      "execution_count": 0,
      "outputs": []
    },
    {
      "metadata": {
        "id": "daPhTY-SD8X1",
        "colab_type": "text"
      },
      "cell_type": "markdown",
      "source": [
        "### Series 만들기"
      ]
    },
    {
      "metadata": {
        "id": "Kgj0kwMRy--E",
        "colab_type": "code",
        "outputId": "24169847-e768-4848-db47-943906be1cfc",
        "colab": {
          "base_uri": "https://localhost:8080/",
          "height": 125
        }
      },
      "cell_type": "code",
      "source": [
        "# 리스트로 만들기\n",
        "a = [1, 3, 5, 7, 9]\n",
        "s = pd.Series(a) # 인덱스를 지정하지 않으면 0부터 시작하는 정수값\n",
        "s"
      ],
      "execution_count": 70,
      "outputs": [
        {
          "output_type": "execute_result",
          "data": {
            "text/plain": [
              "0    1\n",
              "1    3\n",
              "2    5\n",
              "3    7\n",
              "4    9\n",
              "dtype: int64"
            ]
          },
          "metadata": {
            "tags": []
          },
          "execution_count": 70
        }
      ]
    },
    {
      "metadata": {
        "id": "J2cOfkagBJe7",
        "colab_type": "code",
        "colab": {
          "base_uri": "https://localhost:8080/",
          "height": 89
        },
        "outputId": "827583b2-1c04-4855-87ca-dacd9c1aa17c"
      },
      "cell_type": "code",
      "source": [
        "# Numpy Array로 만들기\n",
        "a = np.array([3.0, 4.7, 2.7])\n",
        "b = np.array([\"코야\", \"레종\", \"유키\"])\n",
        "s = pd.Series(a, b) # 값과 리스트 모두 리스트 뿐만 아니라 Numpy의 Array형태도 가능\n",
        "s"
      ],
      "execution_count": 71,
      "outputs": [
        {
          "output_type": "execute_result",
          "data": {
            "text/plain": [
              "코야    3.0\n",
              "레종    4.7\n",
              "유키    2.7\n",
              "dtype: float64"
            ]
          },
          "metadata": {
            "tags": []
          },
          "execution_count": 71
        }
      ]
    },
    {
      "metadata": {
        "id": "ryG-dd6Ffdl8",
        "colab_type": "code",
        "colab": {
          "base_uri": "https://localhost:8080/",
          "height": 89
        },
        "outputId": "87222721-d3b9-49dd-bfd4-aafc3b6847c2"
      },
      "cell_type": "code",
      "source": [
        "# 딕셔너리로 만들기\n",
        "s1 = pd.Series({\"코야\":4.0, \"레종\":5.6, \"유키\":4.1}) # 5년 뒤\n",
        "s1"
      ],
      "execution_count": 90,
      "outputs": [
        {
          "output_type": "execute_result",
          "data": {
            "text/plain": [
              "코야    4.0\n",
              "레종    5.6\n",
              "유키    4.1\n",
              "dtype: float64"
            ]
          },
          "metadata": {
            "tags": []
          },
          "execution_count": 90
        }
      ]
    },
    {
      "metadata": {
        "id": "LNnaGgmyCo44",
        "colab_type": "code",
        "colab": {
          "base_uri": "https://localhost:8080/",
          "height": 53
        },
        "outputId": "5aa1bbe0-db4a-4bd0-9d21-f55c291b2943"
      },
      "cell_type": "code",
      "source": [
        "# 속성으로 인덱스와 값에 접근가능\n",
        "print(s.index)\n",
        "print(s.values)"
      ],
      "execution_count": 95,
      "outputs": [
        {
          "output_type": "stream",
          "text": [
            "Index(['코야', '레종', '유키'], dtype='object', name='No.')\n",
            "[3.  4.7 2.7]\n"
          ],
          "name": "stdout"
        }
      ]
    },
    {
      "metadata": {
        "id": "JmCmaxu7DIVK",
        "colab_type": "code",
        "colab": {
          "base_uri": "https://localhost:8080/",
          "height": 107
        },
        "outputId": "34474367-bd11-4b4d-d834-0f41328b0826"
      },
      "cell_type": "code",
      "source": [
        "s.name = \"체중\"\n",
        "s.index.name = \"No.\"\n",
        "s"
      ],
      "execution_count": 74,
      "outputs": [
        {
          "output_type": "execute_result",
          "data": {
            "text/plain": [
              "No.\n",
              "코야    3.0\n",
              "레종    4.7\n",
              "유키    2.7\n",
              "Name: 체중, dtype: float64"
            ]
          },
          "metadata": {
            "tags": []
          },
          "execution_count": 74
        }
      ]
    },
    {
      "metadata": {
        "id": "wLYEd6_rKVe5",
        "colab_type": "text"
      },
      "cell_type": "markdown",
      "source": [
        "### Series 연산\n",
        "\n",
        "*   NumPy 배열처럼 시리즈도 벡터화 연산\n",
        "\n"
      ]
    },
    {
      "metadata": {
        "id": "FKvJAf4FKK4Z",
        "colab_type": "code",
        "colab": {
          "base_uri": "https://localhost:8080/",
          "height": 107
        },
        "outputId": "d5c0ae4a-40c1-4ee0-9779-f9b203bf1e25"
      },
      "cell_type": "code",
      "source": [
        "s * 10"
      ],
      "execution_count": 75,
      "outputs": [
        {
          "output_type": "execute_result",
          "data": {
            "text/plain": [
              "No.\n",
              "코야    30.0\n",
              "레종    47.0\n",
              "유키    27.0\n",
              "Name: 체중, dtype: float64"
            ]
          },
          "metadata": {
            "tags": []
          },
          "execution_count": 75
        }
      ]
    },
    {
      "metadata": {
        "id": "j8vrNRalRo1f",
        "colab_type": "code",
        "colab": {
          "base_uri": "https://localhost:8080/",
          "height": 89
        },
        "outputId": "3bac662d-414b-4a09-e12d-4fad5dac90f0"
      },
      "cell_type": "code",
      "source": [
        "# 인덱스 기반 연산\n",
        "s1 - s # 5년 뒤 체중 변화"
      ],
      "execution_count": 86,
      "outputs": [
        {
          "output_type": "execute_result",
          "data": {
            "text/plain": [
              "코야    1.0\n",
              "레종    0.9\n",
              "유키    1.4\n",
              "dtype: float64"
            ]
          },
          "metadata": {
            "tags": []
          },
          "execution_count": 86
        }
      ]
    },
    {
      "metadata": {
        "id": "KBTgj8JQ_4RU",
        "colab_type": "code",
        "colab": {
          "base_uri": "https://localhost:8080/",
          "height": 89
        },
        "outputId": "57562c08-a966-47ba-b9f7-ae0e669ac5d6"
      },
      "cell_type": "code",
      "source": [
        "# 연산\n",
        "print(s[s > 3.0])\n",
        "print(s['레종' in s])"
      ],
      "execution_count": 116,
      "outputs": [
        {
          "output_type": "stream",
          "text": [
            "No.\n",
            "레종    4.7\n",
            "Name: 체중, dtype: float64\n",
            "4.7\n"
          ],
          "name": "stdout"
        }
      ]
    },
    {
      "metadata": {
        "id": "4NWK5-rkd2VW",
        "colab_type": "text"
      },
      "cell_type": "markdown",
      "source": [
        "### Series 인덱싱\n",
        "\n",
        "*   Numpy 배열처럼 위치를 통한 인덱싱\n",
        "*   인덱스(딕셔너리의 key)을 통한 인덱싱\n",
        "*   인덱스의 배열 또는 리스트를 넣으면 부분적인 Series 리턴\n",
        "\n"
      ]
    },
    {
      "metadata": {
        "id": "yFJQYw8TNoTb",
        "colab_type": "code",
        "colab": {
          "base_uri": "https://localhost:8080/",
          "height": 197
        },
        "outputId": "615a1761-47d8-4a2d-d12a-a6c6a34eba53"
      },
      "cell_type": "code",
      "source": [
        "# 위치를 통한 인덱싱\n",
        "print(s[2])\n",
        "\n",
        "# 인덱스를 통한 인덱싱\n",
        "print(s['유키'])\n",
        "\n",
        "# 인덱스의 배열 또는 리스트을 통한 인덱싱\n",
        "print(s[[2, 0]])\n",
        "print(s[['레종', '코야']])"
      ],
      "execution_count": 124,
      "outputs": [
        {
          "output_type": "stream",
          "text": [
            "2.7\n",
            "2.7\n",
            "No.\n",
            "유키    2.7\n",
            "코야    3.0\n",
            "Name: 체중, dtype: float64\n",
            "No.\n",
            "레종    4.7\n",
            "코야    3.0\n",
            "Name: 체중, dtype: float64\n"
          ],
          "name": "stdout"
        }
      ]
    },
    {
      "metadata": {
        "id": "9O2L9nzGd4-H",
        "colab_type": "text"
      },
      "cell_type": "markdown",
      "source": [
        "### Series 슬라이싱\n",
        "\n",
        "*   인덱스(딕셔너리의 key)을 통한 슬라이싱"
      ]
    },
    {
      "metadata": {
        "id": "dscpyHDqMpBF",
        "colab_type": "code",
        "colab": {
          "base_uri": "https://localhost:8080/",
          "height": 107
        },
        "outputId": "f88daa51-fa6a-4fcd-eae3-835607cc48f7"
      },
      "cell_type": "code",
      "source": [
        "print(s['레종':'유키'])\n",
        "print(s['유키':'레종'])"
      ],
      "execution_count": 87,
      "outputs": [
        {
          "output_type": "stream",
          "text": [
            "No.\n",
            "레종    4.7\n",
            "유키    2.7\n",
            "Name: 체중, dtype: float64\n",
            "Series([], Name: 체중, dtype: float64)\n"
          ],
          "name": "stdout"
        }
      ]
    },
    {
      "metadata": {
        "id": "gcZPWQNshSUL",
        "colab_type": "text"
      },
      "cell_type": "markdown",
      "source": [
        "### 데이터 추가 / 수정/ 삭제"
      ]
    },
    {
      "metadata": {
        "id": "B1KkXTuthb4B",
        "colab_type": "code",
        "colab": {
          "base_uri": "https://localhost:8080/",
          "height": 143
        },
        "outputId": "afbaec58-cd8f-4f7c-e8a6-c83c258c9fcd"
      },
      "cell_type": "code",
      "source": [
        "s1['레종'] = 1.1 # 추가 및 수정 다 가능\n",
        "print(s1)\n",
        "del s1['레종'] # 삭제\n",
        "print(s1)"
      ],
      "execution_count": 91,
      "outputs": [
        {
          "output_type": "stream",
          "text": [
            "코야    4.0\n",
            "레종    1.1\n",
            "유키    4.1\n",
            "dtype: float64\n",
            "코야    4.0\n",
            "유키    4.1\n",
            "dtype: float64\n"
          ],
          "name": "stdout"
        }
      ]
    },
    {
      "metadata": {
        "id": "on0tt1R2e91d",
        "colab_type": "text"
      },
      "cell_type": "markdown",
      "source": [
        "### Series 와 딕셔너리 자료형\n",
        "\n",
        "*   Series는 딕셔너리 자료형과 유사하여 `item`메소드처럼 딕셔너리에서 제공되는 메소드를 사용"
      ]
    },
    {
      "metadata": {
        "id": "S0okkpoBe_s1",
        "colab_type": "code",
        "colab": {
          "base_uri": "https://localhost:8080/",
          "height": 71
        },
        "outputId": "886583b3-09fd-4d09-89b8-563a636a4cba"
      },
      "cell_type": "code",
      "source": [
        "# 딕셔너리 자료형\n",
        "for k, v in s.items():\n",
        "    print(\"%s = %d\" % (k, v))"
      ],
      "execution_count": 82,
      "outputs": [
        {
          "output_type": "stream",
          "text": [
            "코야 = 3\n",
            "레종 = 4\n",
            "유키 = 2\n"
          ],
          "name": "stdout"
        }
      ]
    },
    {
      "metadata": {
        "id": "7mEnWejSzXDz",
        "colab_type": "text"
      },
      "cell_type": "markdown",
      "source": [
        "## DataFrame\n",
        "\n",
        "*   2차원 데이터에 인덱스를 붙인 것\n",
        "*   행과 열 모두 인덱스를 붙인 형태"
      ]
    },
    {
      "metadata": {
        "id": "Dr99HWov0qF3",
        "colab_type": "text"
      },
      "cell_type": "markdown",
      "source": [
        "### DataFrame 만들기"
      ]
    },
    {
      "metadata": {
        "id": "wK8V-Wc1zYQT",
        "colab_type": "code",
        "outputId": "d659ea35-c712-47ba-ce6e-566bab7ede07",
        "colab": {
          "base_uri": "https://localhost:8080/",
          "height": 142
        }
      },
      "cell_type": "code",
      "source": [
        "data = {\n",
        "    '고양이': ['코야', '레종', '유키'],\n",
        "    '체중': [3.0, 4.7, 2.8],\n",
        "    '생년월일': ['2010.6', '2013.2', '2015.10']\n",
        "}\n",
        " \n",
        "df = pd.DataFrame(data)\n",
        "df"
      ],
      "execution_count": 100,
      "outputs": [
        {
          "output_type": "execute_result",
          "data": {
            "text/html": [
              "<div>\n",
              "<style scoped>\n",
              "    .dataframe tbody tr th:only-of-type {\n",
              "        vertical-align: middle;\n",
              "    }\n",
              "\n",
              "    .dataframe tbody tr th {\n",
              "        vertical-align: top;\n",
              "    }\n",
              "\n",
              "    .dataframe thead th {\n",
              "        text-align: right;\n",
              "    }\n",
              "</style>\n",
              "<table border=\"1\" class=\"dataframe\">\n",
              "  <thead>\n",
              "    <tr style=\"text-align: right;\">\n",
              "      <th></th>\n",
              "      <th>고양이</th>\n",
              "      <th>체중</th>\n",
              "      <th>생년월일</th>\n",
              "    </tr>\n",
              "  </thead>\n",
              "  <tbody>\n",
              "    <tr>\n",
              "      <th>0</th>\n",
              "      <td>코야</td>\n",
              "      <td>3.0</td>\n",
              "      <td>2010.6</td>\n",
              "    </tr>\n",
              "    <tr>\n",
              "      <th>1</th>\n",
              "      <td>레종</td>\n",
              "      <td>4.7</td>\n",
              "      <td>2013.2</td>\n",
              "    </tr>\n",
              "    <tr>\n",
              "      <th>2</th>\n",
              "      <td>유키</td>\n",
              "      <td>2.8</td>\n",
              "      <td>2015.10</td>\n",
              "    </tr>\n",
              "  </tbody>\n",
              "</table>\n",
              "</div>"
            ],
            "text/plain": [
              "  고양이   체중     생년월일\n",
              "0  코야  3.0   2010.6\n",
              "1  레종  4.7   2013.2\n",
              "2  유키  2.8  2015.10"
            ]
          },
          "metadata": {
            "tags": []
          },
          "execution_count": 100
        }
      ]
    },
    {
      "metadata": {
        "id": "rcat_QN7DIlW",
        "colab_type": "code",
        "colab": {
          "base_uri": "https://localhost:8080/",
          "height": 142
        },
        "outputId": "a8e57e1a-6920-4e44-a8c3-cb813c884dda"
      },
      "cell_type": "code",
      "source": [
        "columns = [\"고양이\", \"체중\", \"생년월일\"]\n",
        "index = [\"No1\", \"No2\", \"No3\"]\n",
        "df = pd.DataFrame(data, index=index, columns=columns) # data의 키 값이 columns이므로 columns는 생략 가능\n",
        "df"
      ],
      "execution_count": 130,
      "outputs": [
        {
          "output_type": "execute_result",
          "data": {
            "text/html": [
              "<div>\n",
              "<style scoped>\n",
              "    .dataframe tbody tr th:only-of-type {\n",
              "        vertical-align: middle;\n",
              "    }\n",
              "\n",
              "    .dataframe tbody tr th {\n",
              "        vertical-align: top;\n",
              "    }\n",
              "\n",
              "    .dataframe thead th {\n",
              "        text-align: right;\n",
              "    }\n",
              "</style>\n",
              "<table border=\"1\" class=\"dataframe\">\n",
              "  <thead>\n",
              "    <tr style=\"text-align: right;\">\n",
              "      <th></th>\n",
              "      <th>고양이</th>\n",
              "      <th>체중</th>\n",
              "      <th>생년월일</th>\n",
              "    </tr>\n",
              "  </thead>\n",
              "  <tbody>\n",
              "    <tr>\n",
              "      <th>No1</th>\n",
              "      <td>코야</td>\n",
              "      <td>3.0</td>\n",
              "      <td>2010.6</td>\n",
              "    </tr>\n",
              "    <tr>\n",
              "      <th>No2</th>\n",
              "      <td>레종</td>\n",
              "      <td>4.7</td>\n",
              "      <td>2013.2</td>\n",
              "    </tr>\n",
              "    <tr>\n",
              "      <th>No3</th>\n",
              "      <td>유키</td>\n",
              "      <td>2.8</td>\n",
              "      <td>2015.10</td>\n",
              "    </tr>\n",
              "  </tbody>\n",
              "</table>\n",
              "</div>"
            ],
            "text/plain": [
              "    고양이   체중     생년월일\n",
              "No1  코야  3.0   2010.6\n",
              "No2  레종  4.7   2013.2\n",
              "No3  유키  2.8  2015.10"
            ]
          },
          "metadata": {
            "tags": []
          },
          "execution_count": 130
        }
      ]
    },
    {
      "metadata": {
        "id": "yPTIvOKBjSWA",
        "colab_type": "code",
        "colab": {
          "base_uri": "https://localhost:8080/",
          "height": 107
        },
        "outputId": "cf99c3b0-8801-4cbb-9ae0-56216e0d75e5"
      },
      "cell_type": "code",
      "source": [
        "# 속성으로 인덱스와 값에 접근가능\n",
        "print(df.index)\n",
        "print(df.values)\n",
        "print(df.columns)"
      ],
      "execution_count": 131,
      "outputs": [
        {
          "output_type": "stream",
          "text": [
            "Index(['No1', 'No2', 'No3'], dtype='object')\n",
            "[['코야' 3.0 '2010.6']\n",
            " ['레종' 4.7 '2013.2']\n",
            " ['유키' 2.8 '2015.10']]\n",
            "Index(['고양이', '체중', '생년월일'], dtype='object')\n"
          ],
          "name": "stdout"
        }
      ]
    },
    {
      "metadata": {
        "id": "kmaZlXwIj01w",
        "colab_type": "code",
        "colab": {
          "base_uri": "https://localhost:8080/",
          "height": 173
        },
        "outputId": "7fbb9f0f-b763-42e6-c5fd-7cdc64b43cf0"
      },
      "cell_type": "code",
      "source": [
        "df.index.name = 'No.'\n",
        "df.columns.name = '구분'\n",
        "df"
      ],
      "execution_count": 132,
      "outputs": [
        {
          "output_type": "execute_result",
          "data": {
            "text/html": [
              "<div>\n",
              "<style scoped>\n",
              "    .dataframe tbody tr th:only-of-type {\n",
              "        vertical-align: middle;\n",
              "    }\n",
              "\n",
              "    .dataframe tbody tr th {\n",
              "        vertical-align: top;\n",
              "    }\n",
              "\n",
              "    .dataframe thead th {\n",
              "        text-align: right;\n",
              "    }\n",
              "</style>\n",
              "<table border=\"1\" class=\"dataframe\">\n",
              "  <thead>\n",
              "    <tr style=\"text-align: right;\">\n",
              "      <th>구분</th>\n",
              "      <th>고양이</th>\n",
              "      <th>체중</th>\n",
              "      <th>생년월일</th>\n",
              "    </tr>\n",
              "    <tr>\n",
              "      <th>No.</th>\n",
              "      <th></th>\n",
              "      <th></th>\n",
              "      <th></th>\n",
              "    </tr>\n",
              "  </thead>\n",
              "  <tbody>\n",
              "    <tr>\n",
              "      <th>No1</th>\n",
              "      <td>코야</td>\n",
              "      <td>3.0</td>\n",
              "      <td>2010.6</td>\n",
              "    </tr>\n",
              "    <tr>\n",
              "      <th>No2</th>\n",
              "      <td>레종</td>\n",
              "      <td>4.7</td>\n",
              "      <td>2013.2</td>\n",
              "    </tr>\n",
              "    <tr>\n",
              "      <th>No3</th>\n",
              "      <td>유키</td>\n",
              "      <td>2.8</td>\n",
              "      <td>2015.10</td>\n",
              "    </tr>\n",
              "  </tbody>\n",
              "</table>\n",
              "</div>"
            ],
            "text/plain": [
              "구분  고양이   체중     생년월일\n",
              "No.                  \n",
              "No1  코야  3.0   2010.6\n",
              "No2  레종  4.7   2013.2\n",
              "No3  유키  2.8  2015.10"
            ]
          },
          "metadata": {
            "tags": []
          },
          "execution_count": 132
        }
      ]
    },
    {
      "metadata": {
        "id": "zbX_1xTx1QFw",
        "colab_type": "text"
      },
      "cell_type": "markdown",
      "source": [
        "### DataFrame 연산\n",
        "\n",
        "*   Series와 유사\n",
        "\n"
      ]
    },
    {
      "metadata": {
        "id": "JWFgo_E50xO3",
        "colab_type": "code",
        "colab": {
          "base_uri": "https://localhost:8080/",
          "height": 173
        },
        "outputId": "e999fa90-94be-48eb-c27e-a73d1b0a918a"
      },
      "cell_type": "code",
      "source": [
        "df1 = df * 2\n",
        "df1"
      ],
      "execution_count": 133,
      "outputs": [
        {
          "output_type": "execute_result",
          "data": {
            "text/html": [
              "<div>\n",
              "<style scoped>\n",
              "    .dataframe tbody tr th:only-of-type {\n",
              "        vertical-align: middle;\n",
              "    }\n",
              "\n",
              "    .dataframe tbody tr th {\n",
              "        vertical-align: top;\n",
              "    }\n",
              "\n",
              "    .dataframe thead th {\n",
              "        text-align: right;\n",
              "    }\n",
              "</style>\n",
              "<table border=\"1\" class=\"dataframe\">\n",
              "  <thead>\n",
              "    <tr style=\"text-align: right;\">\n",
              "      <th>구분</th>\n",
              "      <th>고양이</th>\n",
              "      <th>체중</th>\n",
              "      <th>생년월일</th>\n",
              "    </tr>\n",
              "    <tr>\n",
              "      <th>No.</th>\n",
              "      <th></th>\n",
              "      <th></th>\n",
              "      <th></th>\n",
              "    </tr>\n",
              "  </thead>\n",
              "  <tbody>\n",
              "    <tr>\n",
              "      <th>No1</th>\n",
              "      <td>코야코야</td>\n",
              "      <td>6.0</td>\n",
              "      <td>2010.62010.6</td>\n",
              "    </tr>\n",
              "    <tr>\n",
              "      <th>No2</th>\n",
              "      <td>레종레종</td>\n",
              "      <td>9.4</td>\n",
              "      <td>2013.22013.2</td>\n",
              "    </tr>\n",
              "    <tr>\n",
              "      <th>No3</th>\n",
              "      <td>유키유키</td>\n",
              "      <td>5.6</td>\n",
              "      <td>2015.102015.10</td>\n",
              "    </tr>\n",
              "  </tbody>\n",
              "</table>\n",
              "</div>"
            ],
            "text/plain": [
              "구분    고양이   체중            생년월일\n",
              "No.                           \n",
              "No1  코야코야  6.0    2010.62010.6\n",
              "No2  레종레종  9.4    2013.22013.2\n",
              "No3  유키유키  5.6  2015.102015.10"
            ]
          },
          "metadata": {
            "tags": []
          },
          "execution_count": 133
        }
      ]
    },
    {
      "metadata": {
        "id": "1Hr1D2nF0-9o",
        "colab_type": "code",
        "colab": {
          "base_uri": "https://localhost:8080/",
          "height": 173
        },
        "outputId": "47b72a40-aa4e-4233-fbc2-0cb81a19e3d2"
      },
      "cell_type": "code",
      "source": [
        "df + df1 # '-' 연산은 안된다. 문자열 때문."
      ],
      "execution_count": 134,
      "outputs": [
        {
          "output_type": "execute_result",
          "data": {
            "text/html": [
              "<div>\n",
              "<style scoped>\n",
              "    .dataframe tbody tr th:only-of-type {\n",
              "        vertical-align: middle;\n",
              "    }\n",
              "\n",
              "    .dataframe tbody tr th {\n",
              "        vertical-align: top;\n",
              "    }\n",
              "\n",
              "    .dataframe thead th {\n",
              "        text-align: right;\n",
              "    }\n",
              "</style>\n",
              "<table border=\"1\" class=\"dataframe\">\n",
              "  <thead>\n",
              "    <tr style=\"text-align: right;\">\n",
              "      <th>구분</th>\n",
              "      <th>고양이</th>\n",
              "      <th>체중</th>\n",
              "      <th>생년월일</th>\n",
              "    </tr>\n",
              "    <tr>\n",
              "      <th>No.</th>\n",
              "      <th></th>\n",
              "      <th></th>\n",
              "      <th></th>\n",
              "    </tr>\n",
              "  </thead>\n",
              "  <tbody>\n",
              "    <tr>\n",
              "      <th>No1</th>\n",
              "      <td>코야코야코야</td>\n",
              "      <td>9.0</td>\n",
              "      <td>2010.62010.62010.6</td>\n",
              "    </tr>\n",
              "    <tr>\n",
              "      <th>No2</th>\n",
              "      <td>레종레종레종</td>\n",
              "      <td>14.1</td>\n",
              "      <td>2013.22013.22013.2</td>\n",
              "    </tr>\n",
              "    <tr>\n",
              "      <th>No3</th>\n",
              "      <td>유키유키유키</td>\n",
              "      <td>8.4</td>\n",
              "      <td>2015.102015.102015.10</td>\n",
              "    </tr>\n",
              "  </tbody>\n",
              "</table>\n",
              "</div>"
            ],
            "text/plain": [
              "구분      고양이    체중                   생년월일\n",
              "No.                                     \n",
              "No1  코야코야코야   9.0     2010.62010.62010.6\n",
              "No2  레종레종레종  14.1     2013.22013.22013.2\n",
              "No3  유키유키유키   8.4  2015.102015.102015.10"
            ]
          },
          "metadata": {
            "tags": []
          },
          "execution_count": 134
        }
      ]
    },
    {
      "metadata": {
        "id": "7vue0g5Q1UtH",
        "colab_type": "text"
      },
      "cell_type": "markdown",
      "source": [
        "### DataFrame 열 인덱싱\n",
        "\n",
        "* 열 이름(딕셔너리의 key)을 통한 인덱싱\n",
        "* 열 이름의 배열 또는 리스트를 넣으면 부분적인 DataFrame 리턴"
      ]
    },
    {
      "metadata": {
        "id": "22mTSFBZ1X5h",
        "colab_type": "code",
        "colab": {
          "base_uri": "https://localhost:8080/",
          "height": 323
        },
        "outputId": "80295577-964e-44cf-e8ed-0787957ce414"
      },
      "cell_type": "code",
      "source": [
        "# 열 이름\n",
        "print(df['고양이'])\n",
        "print(df['생년월일'])\n",
        "print(type(df['고양이'])) # 열 이름으로 인덱싱하면 'Series'\n",
        "\n",
        "# 열 이름의 배열\n",
        "print(df[['고양이','체중']])\n",
        "print(type(df[['고양이']])) # 열 이름을 배열로 인덱싱하면 열이 하나라도 'DataFrame'"
      ],
      "execution_count": 163,
      "outputs": [
        {
          "output_type": "stream",
          "text": [
            "No.\n",
            "No1    코야\n",
            "No2    레종\n",
            "No3    유키\n",
            "Name: 고양이, dtype: object\n",
            "No.\n",
            "No1     2010.6\n",
            "No2     2013.2\n",
            "No3    2015.10\n",
            "Name: 생년월일, dtype: object\n",
            "<class 'pandas.core.series.Series'>\n",
            "구분  고양이   체중\n",
            "No.         \n",
            "No1  코야  3.0\n",
            "No2  레종  4.7\n",
            "No3  유키  2.8\n",
            "<class 'pandas.core.frame.DataFrame'>\n"
          ],
          "name": "stdout"
        }
      ]
    },
    {
      "metadata": {
        "id": "RsTUrTd3CgDA",
        "colab_type": "code",
        "colab": {
          "base_uri": "https://localhost:8080/",
          "height": 736
        },
        "outputId": "e688df13-d273-4d43-96b2-9f4edd91872f"
      },
      "cell_type": "code",
      "source": [
        "# 위치을 통한 인덱싱\n",
        "print(df[0])"
      ],
      "execution_count": 136,
      "outputs": [
        {
          "output_type": "error",
          "ename": "KeyError",
          "evalue": "ignored",
          "traceback": [
            "\u001b[0;31m---------------------------------------------------------------------------\u001b[0m",
            "\u001b[0;31mKeyError\u001b[0m                                  Traceback (most recent call last)",
            "\u001b[0;32m/usr/local/lib/python3.6/dist-packages/pandas/core/indexes/base.py\u001b[0m in \u001b[0;36mget_loc\u001b[0;34m(self, key, method, tolerance)\u001b[0m\n\u001b[1;32m   2656\u001b[0m             \u001b[0;32mtry\u001b[0m\u001b[0;34m:\u001b[0m\u001b[0;34m\u001b[0m\u001b[0;34m\u001b[0m\u001b[0m\n\u001b[0;32m-> 2657\u001b[0;31m                 \u001b[0;32mreturn\u001b[0m \u001b[0mself\u001b[0m\u001b[0;34m.\u001b[0m\u001b[0m_engine\u001b[0m\u001b[0;34m.\u001b[0m\u001b[0mget_loc\u001b[0m\u001b[0;34m(\u001b[0m\u001b[0mkey\u001b[0m\u001b[0;34m)\u001b[0m\u001b[0;34m\u001b[0m\u001b[0;34m\u001b[0m\u001b[0m\n\u001b[0m\u001b[1;32m   2658\u001b[0m             \u001b[0;32mexcept\u001b[0m \u001b[0mKeyError\u001b[0m\u001b[0;34m:\u001b[0m\u001b[0;34m\u001b[0m\u001b[0;34m\u001b[0m\u001b[0m\n",
            "\u001b[0;32mpandas/_libs/index.pyx\u001b[0m in \u001b[0;36mpandas._libs.index.IndexEngine.get_loc\u001b[0;34m()\u001b[0m\n",
            "\u001b[0;32mpandas/_libs/index.pyx\u001b[0m in \u001b[0;36mpandas._libs.index.IndexEngine.get_loc\u001b[0;34m()\u001b[0m\n",
            "\u001b[0;32mpandas/_libs/hashtable_class_helper.pxi\u001b[0m in \u001b[0;36mpandas._libs.hashtable.PyObjectHashTable.get_item\u001b[0;34m()\u001b[0m\n",
            "\u001b[0;32mpandas/_libs/hashtable_class_helper.pxi\u001b[0m in \u001b[0;36mpandas._libs.hashtable.PyObjectHashTable.get_item\u001b[0;34m()\u001b[0m\n",
            "\u001b[0;31mKeyError\u001b[0m: 0",
            "\nDuring handling of the above exception, another exception occurred:\n",
            "\u001b[0;31mKeyError\u001b[0m                                  Traceback (most recent call last)",
            "\u001b[0;32m<ipython-input-136-cccbe0f2f7d8>\u001b[0m in \u001b[0;36m<module>\u001b[0;34m()\u001b[0m\n\u001b[0;32m----> 1\u001b[0;31m \u001b[0mprint\u001b[0m\u001b[0;34m(\u001b[0m\u001b[0mdf\u001b[0m\u001b[0;34m[\u001b[0m\u001b[0;36m0\u001b[0m\u001b[0;34m]\u001b[0m\u001b[0;34m)\u001b[0m\u001b[0;34m\u001b[0m\u001b[0;34m\u001b[0m\u001b[0m\n\u001b[0m",
            "\u001b[0;32m/usr/local/lib/python3.6/dist-packages/pandas/core/frame.py\u001b[0m in \u001b[0;36m__getitem__\u001b[0;34m(self, key)\u001b[0m\n\u001b[1;32m   2925\u001b[0m             \u001b[0;32mif\u001b[0m \u001b[0mself\u001b[0m\u001b[0;34m.\u001b[0m\u001b[0mcolumns\u001b[0m\u001b[0;34m.\u001b[0m\u001b[0mnlevels\u001b[0m \u001b[0;34m>\u001b[0m \u001b[0;36m1\u001b[0m\u001b[0;34m:\u001b[0m\u001b[0;34m\u001b[0m\u001b[0;34m\u001b[0m\u001b[0m\n\u001b[1;32m   2926\u001b[0m                 \u001b[0;32mreturn\u001b[0m \u001b[0mself\u001b[0m\u001b[0;34m.\u001b[0m\u001b[0m_getitem_multilevel\u001b[0m\u001b[0;34m(\u001b[0m\u001b[0mkey\u001b[0m\u001b[0;34m)\u001b[0m\u001b[0;34m\u001b[0m\u001b[0;34m\u001b[0m\u001b[0m\n\u001b[0;32m-> 2927\u001b[0;31m             \u001b[0mindexer\u001b[0m \u001b[0;34m=\u001b[0m \u001b[0mself\u001b[0m\u001b[0;34m.\u001b[0m\u001b[0mcolumns\u001b[0m\u001b[0;34m.\u001b[0m\u001b[0mget_loc\u001b[0m\u001b[0;34m(\u001b[0m\u001b[0mkey\u001b[0m\u001b[0;34m)\u001b[0m\u001b[0;34m\u001b[0m\u001b[0;34m\u001b[0m\u001b[0m\n\u001b[0m\u001b[1;32m   2928\u001b[0m             \u001b[0;32mif\u001b[0m \u001b[0mis_integer\u001b[0m\u001b[0;34m(\u001b[0m\u001b[0mindexer\u001b[0m\u001b[0;34m)\u001b[0m\u001b[0;34m:\u001b[0m\u001b[0;34m\u001b[0m\u001b[0;34m\u001b[0m\u001b[0m\n\u001b[1;32m   2929\u001b[0m                 \u001b[0mindexer\u001b[0m \u001b[0;34m=\u001b[0m \u001b[0;34m[\u001b[0m\u001b[0mindexer\u001b[0m\u001b[0;34m]\u001b[0m\u001b[0;34m\u001b[0m\u001b[0;34m\u001b[0m\u001b[0m\n",
            "\u001b[0;32m/usr/local/lib/python3.6/dist-packages/pandas/core/indexes/base.py\u001b[0m in \u001b[0;36mget_loc\u001b[0;34m(self, key, method, tolerance)\u001b[0m\n\u001b[1;32m   2657\u001b[0m                 \u001b[0;32mreturn\u001b[0m \u001b[0mself\u001b[0m\u001b[0;34m.\u001b[0m\u001b[0m_engine\u001b[0m\u001b[0;34m.\u001b[0m\u001b[0mget_loc\u001b[0m\u001b[0;34m(\u001b[0m\u001b[0mkey\u001b[0m\u001b[0;34m)\u001b[0m\u001b[0;34m\u001b[0m\u001b[0;34m\u001b[0m\u001b[0m\n\u001b[1;32m   2658\u001b[0m             \u001b[0;32mexcept\u001b[0m \u001b[0mKeyError\u001b[0m\u001b[0;34m:\u001b[0m\u001b[0;34m\u001b[0m\u001b[0;34m\u001b[0m\u001b[0m\n\u001b[0;32m-> 2659\u001b[0;31m                 \u001b[0;32mreturn\u001b[0m \u001b[0mself\u001b[0m\u001b[0;34m.\u001b[0m\u001b[0m_engine\u001b[0m\u001b[0;34m.\u001b[0m\u001b[0mget_loc\u001b[0m\u001b[0;34m(\u001b[0m\u001b[0mself\u001b[0m\u001b[0;34m.\u001b[0m\u001b[0m_maybe_cast_indexer\u001b[0m\u001b[0;34m(\u001b[0m\u001b[0mkey\u001b[0m\u001b[0;34m)\u001b[0m\u001b[0;34m)\u001b[0m\u001b[0;34m\u001b[0m\u001b[0;34m\u001b[0m\u001b[0m\n\u001b[0m\u001b[1;32m   2660\u001b[0m         \u001b[0mindexer\u001b[0m \u001b[0;34m=\u001b[0m \u001b[0mself\u001b[0m\u001b[0;34m.\u001b[0m\u001b[0mget_indexer\u001b[0m\u001b[0;34m(\u001b[0m\u001b[0;34m[\u001b[0m\u001b[0mkey\u001b[0m\u001b[0;34m]\u001b[0m\u001b[0;34m,\u001b[0m \u001b[0mmethod\u001b[0m\u001b[0;34m=\u001b[0m\u001b[0mmethod\u001b[0m\u001b[0;34m,\u001b[0m \u001b[0mtolerance\u001b[0m\u001b[0;34m=\u001b[0m\u001b[0mtolerance\u001b[0m\u001b[0;34m)\u001b[0m\u001b[0;34m\u001b[0m\u001b[0;34m\u001b[0m\u001b[0m\n\u001b[1;32m   2661\u001b[0m         \u001b[0;32mif\u001b[0m \u001b[0mindexer\u001b[0m\u001b[0;34m.\u001b[0m\u001b[0mndim\u001b[0m \u001b[0;34m>\u001b[0m \u001b[0;36m1\u001b[0m \u001b[0;32mor\u001b[0m \u001b[0mindexer\u001b[0m\u001b[0;34m.\u001b[0m\u001b[0msize\u001b[0m \u001b[0;34m>\u001b[0m \u001b[0;36m1\u001b[0m\u001b[0;34m:\u001b[0m\u001b[0;34m\u001b[0m\u001b[0;34m\u001b[0m\u001b[0m\n",
            "\u001b[0;32mpandas/_libs/index.pyx\u001b[0m in \u001b[0;36mpandas._libs.index.IndexEngine.get_loc\u001b[0;34m()\u001b[0m\n",
            "\u001b[0;32mpandas/_libs/index.pyx\u001b[0m in \u001b[0;36mpandas._libs.index.IndexEngine.get_loc\u001b[0;34m()\u001b[0m\n",
            "\u001b[0;32mpandas/_libs/hashtable_class_helper.pxi\u001b[0m in \u001b[0;36mpandas._libs.hashtable.PyObjectHashTable.get_item\u001b[0;34m()\u001b[0m\n",
            "\u001b[0;32mpandas/_libs/hashtable_class_helper.pxi\u001b[0m in \u001b[0;36mpandas._libs.hashtable.PyObjectHashTable.get_item\u001b[0;34m()\u001b[0m\n",
            "\u001b[0;31mKeyError\u001b[0m: 0"
          ]
        }
      ]
    },
    {
      "metadata": {
        "id": "pVWGL33-C1O3",
        "colab_type": "code",
        "colab": {
          "base_uri": "https://localhost:8080/",
          "height": 142
        },
        "outputId": "610ccd6a-c58c-4967-eb11-feb886a10cf8"
      },
      "cell_type": "code",
      "source": [
        "data1 = {\n",
        "    1: ['코야', '레종', '유키'],\n",
        "    2: [3.0, 4.7, 2.8],\n",
        "    3: ['2010.6', '2013.2', '2015.10']\n",
        "}\n",
        " \n",
        "df1 = pd.DataFrame(data1)\n",
        "df1"
      ],
      "execution_count": 137,
      "outputs": [
        {
          "output_type": "execute_result",
          "data": {
            "text/html": [
              "<div>\n",
              "<style scoped>\n",
              "    .dataframe tbody tr th:only-of-type {\n",
              "        vertical-align: middle;\n",
              "    }\n",
              "\n",
              "    .dataframe tbody tr th {\n",
              "        vertical-align: top;\n",
              "    }\n",
              "\n",
              "    .dataframe thead th {\n",
              "        text-align: right;\n",
              "    }\n",
              "</style>\n",
              "<table border=\"1\" class=\"dataframe\">\n",
              "  <thead>\n",
              "    <tr style=\"text-align: right;\">\n",
              "      <th></th>\n",
              "      <th>1</th>\n",
              "      <th>2</th>\n",
              "      <th>3</th>\n",
              "    </tr>\n",
              "  </thead>\n",
              "  <tbody>\n",
              "    <tr>\n",
              "      <th>0</th>\n",
              "      <td>코야</td>\n",
              "      <td>3.0</td>\n",
              "      <td>2010.6</td>\n",
              "    </tr>\n",
              "    <tr>\n",
              "      <th>1</th>\n",
              "      <td>레종</td>\n",
              "      <td>4.7</td>\n",
              "      <td>2013.2</td>\n",
              "    </tr>\n",
              "    <tr>\n",
              "      <th>2</th>\n",
              "      <td>유키</td>\n",
              "      <td>2.8</td>\n",
              "      <td>2015.10</td>\n",
              "    </tr>\n",
              "  </tbody>\n",
              "</table>\n",
              "</div>"
            ],
            "text/plain": [
              "    1    2        3\n",
              "0  코야  3.0   2010.6\n",
              "1  레종  4.7   2013.2\n",
              "2  유키  2.8  2015.10"
            ]
          },
          "metadata": {
            "tags": []
          },
          "execution_count": 137
        }
      ]
    },
    {
      "metadata": {
        "id": "AxGMFwCfDw9V",
        "colab_type": "code",
        "colab": {
          "base_uri": "https://localhost:8080/",
          "height": 89
        },
        "outputId": "212de233-524c-46c4-8902-166e1ff0d0ad"
      },
      "cell_type": "code",
      "source": [
        "# 위치을 통한 인덱싱. 열 이름이 문자열이 아니고 정수형이면 가능\n",
        "print(df1[1])"
      ],
      "execution_count": 140,
      "outputs": [
        {
          "output_type": "stream",
          "text": [
            "0    코야\n",
            "1    레종\n",
            "2    유키\n",
            "Name: 1, dtype: object\n"
          ],
          "name": "stdout"
        }
      ]
    },
    {
      "metadata": {
        "id": "NP1lAcM2ExZY",
        "colab_type": "text"
      },
      "cell_type": "markdown",
      "source": [
        "### DataFrame 행 인덱싱\n",
        "\n",
        "* 행 단위로의 인덱싱은 항상 슬라이싱"
      ]
    },
    {
      "metadata": {
        "id": "inzSa-_PEZtd",
        "colab_type": "code",
        "colab": {
          "base_uri": "https://localhost:8080/",
          "height": 142
        },
        "outputId": "d1af35e2-b4b4-4045-b271-22390bb4fe15"
      },
      "cell_type": "code",
      "source": [
        "df[:2]"
      ],
      "execution_count": 151,
      "outputs": [
        {
          "output_type": "execute_result",
          "data": {
            "text/html": [
              "<div>\n",
              "<style scoped>\n",
              "    .dataframe tbody tr th:only-of-type {\n",
              "        vertical-align: middle;\n",
              "    }\n",
              "\n",
              "    .dataframe tbody tr th {\n",
              "        vertical-align: top;\n",
              "    }\n",
              "\n",
              "    .dataframe thead th {\n",
              "        text-align: right;\n",
              "    }\n",
              "</style>\n",
              "<table border=\"1\" class=\"dataframe\">\n",
              "  <thead>\n",
              "    <tr style=\"text-align: right;\">\n",
              "      <th>구분</th>\n",
              "      <th>고양이</th>\n",
              "      <th>체중</th>\n",
              "      <th>생년월일</th>\n",
              "    </tr>\n",
              "    <tr>\n",
              "      <th>No.</th>\n",
              "      <th></th>\n",
              "      <th></th>\n",
              "      <th></th>\n",
              "    </tr>\n",
              "  </thead>\n",
              "  <tbody>\n",
              "    <tr>\n",
              "      <th>No1</th>\n",
              "      <td>코야</td>\n",
              "      <td>3.0</td>\n",
              "      <td>2010.6</td>\n",
              "    </tr>\n",
              "    <tr>\n",
              "      <th>No2</th>\n",
              "      <td>레종</td>\n",
              "      <td>4.7</td>\n",
              "      <td>2013.2</td>\n",
              "    </tr>\n",
              "  </tbody>\n",
              "</table>\n",
              "</div>"
            ],
            "text/plain": [
              "구분  고양이   체중    생년월일\n",
              "No.                 \n",
              "No1  코야  3.0  2010.6\n",
              "No2  레종  4.7  2013.2"
            ]
          },
          "metadata": {
            "tags": []
          },
          "execution_count": 151
        }
      ]
    },
    {
      "metadata": {
        "id": "3lmYtRge1nGd",
        "colab_type": "code",
        "colab": {
          "base_uri": "https://localhost:8080/",
          "height": 143
        },
        "outputId": "6154ccfa-44d1-440b-eb85-12bbd85978de"
      },
      "cell_type": "code",
      "source": [
        "print(df['No1':'No3']) # 인덱스 값이 문자열이면 (시작<= <=끝)\n",
        "print(df1[1:2]) # 인덱스 값이 숫자라면 (시작<= <끝)"
      ],
      "execution_count": 158,
      "outputs": [
        {
          "output_type": "stream",
          "text": [
            "구분  고양이   체중     생년월일\n",
            "No.                  \n",
            "No1  코야  3.0   2010.6\n",
            "No2  레종  4.7   2013.2\n",
            "No3  유키  2.8  2015.10\n",
            "    1    2       3\n",
            "1  레종  4.7  2013.2\n"
          ],
          "name": "stdout"
        }
      ]
    },
    {
      "metadata": {
        "id": "MtT7hdEvH0eG",
        "colab_type": "text"
      },
      "cell_type": "markdown",
      "source": [
        "### DataFrame 개별 데이터 인덱싱\n",
        "\n",
        "*   DataFrame을 열 이름으로 인덱싱하면 Series. 해당 Series을 행 이름(인덱스)으로 인덱싱."
      ]
    },
    {
      "metadata": {
        "id": "YPXhal4XG8JH",
        "colab_type": "code",
        "colab": {
          "base_uri": "https://localhost:8080/",
          "height": 107
        },
        "outputId": "3876c4c4-9710-498f-d0d7-153fbf3dbc6e"
      },
      "cell_type": "code",
      "source": [
        "y = df['고양이'] # 열이름\n",
        "y['No2'] # 인덱스"
      ],
      "execution_count": 171,
      "outputs": [
        {
          "output_type": "execute_result",
          "data": {
            "text/plain": [
              "No.\n",
              "No1    코야\n",
              "No2    레종\n",
              "No3    유키\n",
              "Name: 고양이, dtype: object"
            ]
          },
          "metadata": {
            "tags": []
          },
          "execution_count": 171
        }
      ]
    },
    {
      "metadata": {
        "id": "vKPf0CUFMIYY",
        "colab_type": "text"
      },
      "cell_type": "markdown",
      "source": [
        "### DataFrame 인덱싱 정리"
      ]
    },
    {
      "metadata": {
        "id": "26ttqfmIIxfa",
        "colab_type": "text"
      },
      "cell_type": "markdown",
      "source": [
        "| 행/열 | 인덱싱 값 | 가능 | 자료형 | 추가사항 |\n",
        "|---|---|---|---|---|---|\n",
        "| 열 | 이름 | O | Series |  |\n",
        "| 열 | 이름 리스트 | O | DataFrame |  |\n",
        "| 열 | 정수형 인덱스  | X |  | 열 이름이 정수인 경우에는 가능 |\n",
        "| 행 | 정수형 슬라이스  | O | DataFrame |  |\n",
        "| 행 | 인덱스 값을 통한 슬라이스(문자열)  | O | DataFrame |  |"
      ]
    }
  ]
}