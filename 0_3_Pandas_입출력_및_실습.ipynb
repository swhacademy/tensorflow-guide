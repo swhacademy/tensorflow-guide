{
  "nbformat": 4,
  "nbformat_minor": 0,
  "metadata": {
    "colab": {
      "name": "0_3_Pandas 입출력 및 실습.ipynb",
      "version": "0.3.2",
      "provenance": [],
      "collapsed_sections": [],
      "include_colab_link": true
    },
    "kernelspec": {
      "name": "python3",
      "display_name": "Python 3"
    },
    "accelerator": "GPU"
  },
  "cells": [
    {
      "cell_type": "markdown",
      "metadata": {
        "id": "view-in-github",
        "colab_type": "text"
      },
      "source": [
        "<a href=\"https://colab.research.google.com/github/swhacademy/tensorflow-guide/blob/master/0_3_Pandas_%EC%9E%85%EC%B6%9C%EB%A0%A5_%EB%B0%8F_%EC%8B%A4%EC%8A%B5.ipynb\" target=\"_parent\"><img src=\"https://colab.research.google.com/assets/colab-badge.svg\" alt=\"Open In Colab\"/></a>"
      ]
    },
    {
      "metadata": {
        "id": "B1Wc4qDCQHTP",
        "colab_type": "text"
      },
      "cell_type": "markdown",
      "source": [
        "# Pandas 입출력\n",
        "\n",
        "*   데이터 파일을 읽어와 DataFrame으로 또는 DataFrame을 파일로 저장할 수 있다.\n",
        " *   CSV\n",
        " *   Excel\n",
        " *   HTML\n",
        " *   JSON\n",
        " *   SQL 등"
      ]
    }
  ]
}