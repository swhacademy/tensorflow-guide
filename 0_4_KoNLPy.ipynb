{
  "nbformat": 4,
  "nbformat_minor": 0,
  "metadata": {
    "colab": {
      "name": "0_4_KoNLPy.ipynb",
      "version": "0.3.2",
      "provenance": [],
      "collapsed_sections": [],
      "toc_visible": true,
      "include_colab_link": true
    },
    "kernelspec": {
      "name": "python3",
      "display_name": "Python 3"
    },
    "accelerator": "GPU"
  },
  "cells": [
    {
      "cell_type": "markdown",
      "metadata": {
        "id": "view-in-github",
        "colab_type": "text"
      },
      "source": [
        "<a href=\"https://colab.research.google.com/github/swhacademy/tensorflow-guide/blob/master/0_4_KoNLPy.ipynb\" target=\"_parent\"><img src=\"https://colab.research.google.com/assets/colab-badge.svg\" alt=\"Open In Colab\"/></a>"
      ]
    },
    {
      "metadata": {
        "id": "mSbVnBRob9UK",
        "colab_type": "text"
      },
      "cell_type": "markdown",
      "source": [
        "# 참고 사이트\n",
        "\n",
        "\n",
        "*   https://github.com/KoNLPy/KoNLPy\n",
        "*   http://KoNLPy.org/ko/latest/\n",
        "*   https://konlpy-ko.readthedocs.io/ko/v0.5.1/morph/"
      ]
    },
    {
      "metadata": {
        "id": "BH4ZDxAvbuCi",
        "colab_type": "text"
      },
      "cell_type": "markdown",
      "source": [
        "# KoNLPy\n",
        "\n",
        "\n",
        "*   한글 형태소 분석을 위한 파이썬 패키지\n",
        "\n",
        "\n",
        "> ### 형태소 분석\n",
        ">> 언어를 가장 최소단위인 형태소로 분석하여 어근, 접두사/접미사, 각종 품사들을 통해 구조를 파악\n",
        "\n",
        "> ### 자연어 처리\n",
        ">> 인간의 언어를 컴퓨터와 같은 기계를 이용하여 흉내낼 수 있도록 연구하고 구현하는 인공지능의 분야\n",
        "\n",
        "*   아래의 형태소 분석을 위한 라이브러리를 모두 포함\n",
        "\n",
        "> * Hannanum: 한나눔 http://semanticweb.kaist.ac.kr/hannanum/\n",
        "> * Kkma: 꼬꼬마. http://kkma.snu.ac.kr/\n",
        "> * Mecab: 메카브. https://bitbucket.org/eunjeon/mecab-ko\n",
        "> * Komoran: 코모란. https://github.com/shin285/KOMORAN\n",
        "> * Open Korean Text: 오픈 소스 한국어 분석기(previous Twitter). https://github.com/open-korean-text/open-korean-text\n",
        "\n",
        "![성능비교](https://konlpy-ko.readthedocs.io/ko/v0.5.1/_images/time.png)"
      ]
    },
    {
      "metadata": {
        "id": "yQ4hLYfeB6vY",
        "colab_type": "text"
      },
      "cell_type": "markdown",
      "source": [
        "## KoNLPy 설치\n",
        "[Mecab 설치](https://colab.research.google.com/drive/1ny8AKkcuocsm8A45xHfI05OsqLqSEHjd)"
      ]
    },
    {
      "metadata": {
        "id": "yhmijgavUZR7",
        "colab_type": "code",
        "colab": {}
      },
      "cell_type": "code",
      "source": [
        "from konlpy.tag import Mecab\n",
        "from konlpy.tag import Hannanum\n",
        "mecab = Mecab()\n",
        "hannanum = Hannanum()"
      ],
      "execution_count": 0,
      "outputs": []
    },
    {
      "metadata": {
        "id": "vfyI1fW1UBcX",
        "colab_type": "text"
      },
      "cell_type": "markdown",
      "source": [
        "## KoNLPy 예제 말뭉치\n",
        "\n",
        "\n",
        "*   대한민국 헌법 말뭉치인 kolaw와 국회법안 말뭉치인 kobill을 제공\n",
        "*   말뭉치가 포함하는 파일의 이름은 fields 메서드로 알 수 있고 open 메서드로 해당 파일의 텍스트을 읽어옴\n",
        "\n"
      ]
    },
    {
      "metadata": {
        "id": "mOR-r-deMRm_",
        "colab_type": "code",
        "colab": {
          "base_uri": "https://localhost:8080/",
          "height": 35
        },
        "outputId": "b2fb4dd8-1723-43d5-f0c5-2d8136015183"
      },
      "cell_type": "code",
      "source": [
        "from konlpy.corpus import kolaw\n",
        "kolaw.fileids()"
      ],
      "execution_count": 6,
      "outputs": [
        {
          "output_type": "execute_result",
          "data": {
            "text/plain": [
              "['constitution.txt']"
            ]
          },
          "metadata": {
            "tags": []
          },
          "execution_count": 6
        }
      ]
    },
    {
      "metadata": {
        "id": "TmCmVFoBeWBD",
        "colab_type": "code",
        "colab": {
          "base_uri": "https://localhost:8080/",
          "height": 71
        },
        "outputId": "9ec732ed-ce2f-4eca-a1f1-e064bcf3b624"
      },
      "cell_type": "code",
      "source": [
        "c = kolaw.open('constitution.txt').read()\n",
        "print(c[:40])"
      ],
      "execution_count": 8,
      "outputs": [
        {
          "output_type": "stream",
          "text": [
            "대한민국헌법\n",
            "\n",
            "유구한 역사와 전통에 빛나는 우리 대한국민은 3·1운동으로\n"
          ],
          "name": "stdout"
        }
      ]
    },
    {
      "metadata": {
        "id": "RD7azNzuVBMe",
        "colab_type": "text"
      },
      "cell_type": "markdown",
      "source": [
        "## 명사 / 형태소 추출"
      ]
    },
    {
      "metadata": {
        "id": "S1iA9j6AUoEg",
        "colab_type": "code",
        "colab": {
          "base_uri": "https://localhost:8080/",
          "height": 35
        },
        "outputId": "97812809-90be-4b6d-d89e-3a85c0e044f6"
      },
      "cell_type": "code",
      "source": [
        "mecab.nouns(c[:40]) # 명사"
      ],
      "execution_count": 12,
      "outputs": [
        {
          "output_type": "execute_result",
          "data": {
            "text/plain": [
              "['대한민국', '헌법', '역사', '전통', '우리', '국민', '운동']"
            ]
          },
          "metadata": {
            "tags": []
          },
          "execution_count": 12
        }
      ]
    },
    {
      "metadata": {
        "id": "-yOBDgvtU87-",
        "colab_type": "code",
        "colab": {
          "base_uri": "https://localhost:8080/",
          "height": 35
        },
        "outputId": "fdbce661-3689-453b-9cab-f2d3b38d5122"
      },
      "cell_type": "code",
      "source": [
        "hannanum.nouns(c[:40])"
      ],
      "execution_count": 13,
      "outputs": [
        {
          "output_type": "execute_result",
          "data": {
            "text/plain": [
              "['대한민국헌법', '유구', '역사', '전통', '빛', '우리', '대한국민', '3·1운동']"
            ]
          },
          "metadata": {
            "tags": []
          },
          "execution_count": 13
        }
      ]
    },
    {
      "metadata": {
        "id": "13KF0jwZVKNe",
        "colab_type": "code",
        "colab": {
          "base_uri": "https://localhost:8080/",
          "height": 359
        },
        "outputId": "cd14172f-0e2b-4b91-c5f2-d45c32c39ff8"
      },
      "cell_type": "code",
      "source": [
        "mecab.morphs(c[:40]) # 형태소"
      ],
      "execution_count": 14,
      "outputs": [
        {
          "output_type": "execute_result",
          "data": {
            "text/plain": [
              "['대한민국',\n",
              " '헌법',\n",
              " '유구',\n",
              " '한',\n",
              " '역사',\n",
              " '와',\n",
              " '전통',\n",
              " '에',\n",
              " '빛나',\n",
              " '는',\n",
              " '우리',\n",
              " '대한',\n",
              " '국민',\n",
              " '은',\n",
              " '3',\n",
              " '·',\n",
              " '1',\n",
              " '운동',\n",
              " '으로']"
            ]
          },
          "metadata": {
            "tags": []
          },
          "execution_count": 14
        }
      ]
    },
    {
      "metadata": {
        "id": "AW9Ay5v0VNf-",
        "colab_type": "code",
        "colab": {
          "base_uri": "https://localhost:8080/",
          "height": 287
        },
        "outputId": "0232d19b-89e3-44af-f774-eede30cf6167"
      },
      "cell_type": "code",
      "source": [
        "hannanum.morphs(c[:40]) # 형태소"
      ],
      "execution_count": 15,
      "outputs": [
        {
          "output_type": "execute_result",
          "data": {
            "text/plain": [
              "['대한민국헌법',\n",
              " '유구',\n",
              " '하',\n",
              " 'ㄴ',\n",
              " '역사',\n",
              " '와',\n",
              " '전통',\n",
              " '에',\n",
              " '빛',\n",
              " '나는',\n",
              " '우리',\n",
              " '대한국민',\n",
              " '은',\n",
              " '3·1운동',\n",
              " '으로']"
            ]
          },
          "metadata": {
            "tags": []
          },
          "execution_count": 15
        }
      ]
    },
    {
      "metadata": {
        "id": "DajWTU97VX0f",
        "colab_type": "text"
      },
      "cell_type": "markdown",
      "source": [
        "## 품사 부착"
      ]
    },
    {
      "metadata": {
        "id": "btVXUT-vVbtH",
        "colab_type": "code",
        "colab": {
          "base_uri": "https://localhost:8080/",
          "height": 359
        },
        "outputId": "3105a30c-dd65-49b6-b529-ef6eb9fca9f8"
      },
      "cell_type": "code",
      "source": [
        "mecab.pos(c[:40]) # 품사"
      ],
      "execution_count": 16,
      "outputs": [
        {
          "output_type": "execute_result",
          "data": {
            "text/plain": [
              "[('대한민국', 'NNP'),\n",
              " ('헌법', 'NNG'),\n",
              " ('유구', 'XR'),\n",
              " ('한', 'XSA+ETM'),\n",
              " ('역사', 'NNG'),\n",
              " ('와', 'JC'),\n",
              " ('전통', 'NNG'),\n",
              " ('에', 'JKB'),\n",
              " ('빛나', 'VV'),\n",
              " ('는', 'ETM'),\n",
              " ('우리', 'NP'),\n",
              " ('대한', 'VV+ETM'),\n",
              " ('국민', 'NNG'),\n",
              " ('은', 'JX'),\n",
              " ('3', 'SN'),\n",
              " ('·', 'SC'),\n",
              " ('1', 'SN'),\n",
              " ('운동', 'NNG'),\n",
              " ('으로', 'JKB')]"
            ]
          },
          "metadata": {
            "tags": []
          },
          "execution_count": 16
        }
      ]
    },
    {
      "metadata": {
        "id": "F0syKpeDVfW-",
        "colab_type": "code",
        "colab": {
          "base_uri": "https://localhost:8080/",
          "height": 287
        },
        "outputId": "dccfa490-734c-4352-e577-42d7c0253adf"
      },
      "cell_type": "code",
      "source": [
        "hannanum.pos(c[:40]) # 품사"
      ],
      "execution_count": 17,
      "outputs": [
        {
          "output_type": "execute_result",
          "data": {
            "text/plain": [
              "[('대한민국헌법', 'N'),\n",
              " ('유구', 'N'),\n",
              " ('하', 'X'),\n",
              " ('ㄴ', 'E'),\n",
              " ('역사', 'N'),\n",
              " ('와', 'J'),\n",
              " ('전통', 'N'),\n",
              " ('에', 'J'),\n",
              " ('빛', 'N'),\n",
              " ('나는', 'J'),\n",
              " ('우리', 'N'),\n",
              " ('대한국민', 'N'),\n",
              " ('은', 'J'),\n",
              " ('3·1운동', 'N'),\n",
              " ('으로', 'J')]"
            ]
          },
          "metadata": {
            "tags": []
          },
          "execution_count": 17
        }
      ]
    },
    {
      "metadata": {
        "id": "4r0CfU-2Vx1m",
        "colab_type": "code",
        "colab": {
          "base_uri": "https://localhost:8080/",
          "height": 791
        },
        "outputId": "88f03c4c-b7e9-4f8b-d6df-5d6d9d632f00"
      },
      "cell_type": "code",
      "source": [
        "mecab.tagset # 품사 정보"
      ],
      "execution_count": 18,
      "outputs": [
        {
          "output_type": "execute_result",
          "data": {
            "text/plain": [
              "{'EC': '연결 어미',\n",
              " 'EF': '종결 어미',\n",
              " 'EP': '선어말어미',\n",
              " 'ETM': '관형형 전성 어미',\n",
              " 'ETN': '명사형 전성 어미',\n",
              " 'IC': '감탄사',\n",
              " 'JC': '접속 조사',\n",
              " 'JKB': '부사격 조사',\n",
              " 'JKC': '보격 조사',\n",
              " 'JKG': '관형격 조사',\n",
              " 'JKO': '목적격 조사',\n",
              " 'JKQ': '인용격 조사',\n",
              " 'JKS': '주격 조사',\n",
              " 'JKV': '호격 조사',\n",
              " 'JX': '보조사',\n",
              " 'MAG': '일반 부사',\n",
              " 'MAJ': '접속 부사',\n",
              " 'MM': '관형사',\n",
              " 'NNB': '의존 명사',\n",
              " 'NNBC': '단위를 나타내는 명사',\n",
              " 'NNG': '일반 명사',\n",
              " 'NNP': '고유 명사',\n",
              " 'NP': '대명사',\n",
              " 'NR': '수사',\n",
              " 'SC': '구분자 , · / :',\n",
              " 'SE': '줄임표 …',\n",
              " 'SF': '마침표, 물음표, 느낌표',\n",
              " 'SH': '한자',\n",
              " 'SL': '외국어',\n",
              " 'SN': '숫자',\n",
              " 'SSC': '닫는 괄호 ), ]',\n",
              " 'SSO': '여는 괄호 (, [',\n",
              " 'SY': '기타 기호',\n",
              " 'VA': '형용사',\n",
              " 'VCN': '부정 지정사',\n",
              " 'VCP': '긍정 지정사',\n",
              " 'VV': '동사',\n",
              " 'VX': '보조 용언',\n",
              " 'XPN': '체언 접두사',\n",
              " 'XR': '어근',\n",
              " 'XSA': '형용사 파생 접미사',\n",
              " 'XSN': '명사파생 접미사',\n",
              " 'XSV': '동사 파생 접미사'}"
            ]
          },
          "metadata": {
            "tags": []
          },
          "execution_count": 18
        }
      ]
    },
    {
      "metadata": {
        "id": "VUzK7na2WHLl",
        "colab_type": "code",
        "colab": {
          "base_uri": "https://localhost:8080/",
          "height": 1599
        },
        "outputId": "5a4e9499-3b27-4dad-cc2a-a87bfa2a6ae4"
      },
      "cell_type": "code",
      "source": [
        "import pandas as pd\n",
        "tagsets = pd.DataFrame()\n",
        "N = 50\n",
        "tagsets[\"Mecab-기호\"] = list(mecab.tagset.keys()) + list(\"*\" * (N - len(mecab.tagset)))\n",
        "tagsets[\"Mecab-품사\"] = list(mecab.tagset.values()) + list(\"*\" * (N - len(mecab.tagset)))\n",
        "tagsets"
      ],
      "execution_count": 23,
      "outputs": [
        {
          "output_type": "execute_result",
          "data": {
            "text/html": [
              "<div>\n",
              "<style scoped>\n",
              "    .dataframe tbody tr th:only-of-type {\n",
              "        vertical-align: middle;\n",
              "    }\n",
              "\n",
              "    .dataframe tbody tr th {\n",
              "        vertical-align: top;\n",
              "    }\n",
              "\n",
              "    .dataframe thead th {\n",
              "        text-align: right;\n",
              "    }\n",
              "</style>\n",
              "<table border=\"1\" class=\"dataframe\">\n",
              "  <thead>\n",
              "    <tr style=\"text-align: right;\">\n",
              "      <th></th>\n",
              "      <th>Mecab-기호</th>\n",
              "      <th>Mecab-품사</th>\n",
              "    </tr>\n",
              "  </thead>\n",
              "  <tbody>\n",
              "    <tr>\n",
              "      <th>0</th>\n",
              "      <td>EC</td>\n",
              "      <td>연결 어미</td>\n",
              "    </tr>\n",
              "    <tr>\n",
              "      <th>1</th>\n",
              "      <td>EF</td>\n",
              "      <td>종결 어미</td>\n",
              "    </tr>\n",
              "    <tr>\n",
              "      <th>2</th>\n",
              "      <td>EP</td>\n",
              "      <td>선어말어미</td>\n",
              "    </tr>\n",
              "    <tr>\n",
              "      <th>3</th>\n",
              "      <td>ETM</td>\n",
              "      <td>관형형 전성 어미</td>\n",
              "    </tr>\n",
              "    <tr>\n",
              "      <th>4</th>\n",
              "      <td>ETN</td>\n",
              "      <td>명사형 전성 어미</td>\n",
              "    </tr>\n",
              "    <tr>\n",
              "      <th>5</th>\n",
              "      <td>IC</td>\n",
              "      <td>감탄사</td>\n",
              "    </tr>\n",
              "    <tr>\n",
              "      <th>6</th>\n",
              "      <td>JC</td>\n",
              "      <td>접속 조사</td>\n",
              "    </tr>\n",
              "    <tr>\n",
              "      <th>7</th>\n",
              "      <td>JKB</td>\n",
              "      <td>부사격 조사</td>\n",
              "    </tr>\n",
              "    <tr>\n",
              "      <th>8</th>\n",
              "      <td>JKC</td>\n",
              "      <td>보격 조사</td>\n",
              "    </tr>\n",
              "    <tr>\n",
              "      <th>9</th>\n",
              "      <td>JKG</td>\n",
              "      <td>관형격 조사</td>\n",
              "    </tr>\n",
              "    <tr>\n",
              "      <th>10</th>\n",
              "      <td>JKO</td>\n",
              "      <td>목적격 조사</td>\n",
              "    </tr>\n",
              "    <tr>\n",
              "      <th>11</th>\n",
              "      <td>JKQ</td>\n",
              "      <td>인용격 조사</td>\n",
              "    </tr>\n",
              "    <tr>\n",
              "      <th>12</th>\n",
              "      <td>JKS</td>\n",
              "      <td>주격 조사</td>\n",
              "    </tr>\n",
              "    <tr>\n",
              "      <th>13</th>\n",
              "      <td>JKV</td>\n",
              "      <td>호격 조사</td>\n",
              "    </tr>\n",
              "    <tr>\n",
              "      <th>14</th>\n",
              "      <td>JX</td>\n",
              "      <td>보조사</td>\n",
              "    </tr>\n",
              "    <tr>\n",
              "      <th>15</th>\n",
              "      <td>MAG</td>\n",
              "      <td>일반 부사</td>\n",
              "    </tr>\n",
              "    <tr>\n",
              "      <th>16</th>\n",
              "      <td>MAJ</td>\n",
              "      <td>접속 부사</td>\n",
              "    </tr>\n",
              "    <tr>\n",
              "      <th>17</th>\n",
              "      <td>MM</td>\n",
              "      <td>관형사</td>\n",
              "    </tr>\n",
              "    <tr>\n",
              "      <th>18</th>\n",
              "      <td>NNB</td>\n",
              "      <td>의존 명사</td>\n",
              "    </tr>\n",
              "    <tr>\n",
              "      <th>19</th>\n",
              "      <td>NNBC</td>\n",
              "      <td>단위를 나타내는 명사</td>\n",
              "    </tr>\n",
              "    <tr>\n",
              "      <th>20</th>\n",
              "      <td>NNG</td>\n",
              "      <td>일반 명사</td>\n",
              "    </tr>\n",
              "    <tr>\n",
              "      <th>21</th>\n",
              "      <td>NNP</td>\n",
              "      <td>고유 명사</td>\n",
              "    </tr>\n",
              "    <tr>\n",
              "      <th>22</th>\n",
              "      <td>NP</td>\n",
              "      <td>대명사</td>\n",
              "    </tr>\n",
              "    <tr>\n",
              "      <th>23</th>\n",
              "      <td>NR</td>\n",
              "      <td>수사</td>\n",
              "    </tr>\n",
              "    <tr>\n",
              "      <th>24</th>\n",
              "      <td>SC</td>\n",
              "      <td>구분자 , · / :</td>\n",
              "    </tr>\n",
              "    <tr>\n",
              "      <th>25</th>\n",
              "      <td>SE</td>\n",
              "      <td>줄임표 …</td>\n",
              "    </tr>\n",
              "    <tr>\n",
              "      <th>26</th>\n",
              "      <td>SF</td>\n",
              "      <td>마침표, 물음표, 느낌표</td>\n",
              "    </tr>\n",
              "    <tr>\n",
              "      <th>27</th>\n",
              "      <td>SH</td>\n",
              "      <td>한자</td>\n",
              "    </tr>\n",
              "    <tr>\n",
              "      <th>28</th>\n",
              "      <td>SL</td>\n",
              "      <td>외국어</td>\n",
              "    </tr>\n",
              "    <tr>\n",
              "      <th>29</th>\n",
              "      <td>SN</td>\n",
              "      <td>숫자</td>\n",
              "    </tr>\n",
              "    <tr>\n",
              "      <th>30</th>\n",
              "      <td>SSC</td>\n",
              "      <td>닫는 괄호 ), ]</td>\n",
              "    </tr>\n",
              "    <tr>\n",
              "      <th>31</th>\n",
              "      <td>SSO</td>\n",
              "      <td>여는 괄호 (, [</td>\n",
              "    </tr>\n",
              "    <tr>\n",
              "      <th>32</th>\n",
              "      <td>SY</td>\n",
              "      <td>기타 기호</td>\n",
              "    </tr>\n",
              "    <tr>\n",
              "      <th>33</th>\n",
              "      <td>VA</td>\n",
              "      <td>형용사</td>\n",
              "    </tr>\n",
              "    <tr>\n",
              "      <th>34</th>\n",
              "      <td>VCN</td>\n",
              "      <td>부정 지정사</td>\n",
              "    </tr>\n",
              "    <tr>\n",
              "      <th>35</th>\n",
              "      <td>VCP</td>\n",
              "      <td>긍정 지정사</td>\n",
              "    </tr>\n",
              "    <tr>\n",
              "      <th>36</th>\n",
              "      <td>VV</td>\n",
              "      <td>동사</td>\n",
              "    </tr>\n",
              "    <tr>\n",
              "      <th>37</th>\n",
              "      <td>VX</td>\n",
              "      <td>보조 용언</td>\n",
              "    </tr>\n",
              "    <tr>\n",
              "      <th>38</th>\n",
              "      <td>XPN</td>\n",
              "      <td>체언 접두사</td>\n",
              "    </tr>\n",
              "    <tr>\n",
              "      <th>39</th>\n",
              "      <td>XR</td>\n",
              "      <td>어근</td>\n",
              "    </tr>\n",
              "    <tr>\n",
              "      <th>40</th>\n",
              "      <td>XSA</td>\n",
              "      <td>형용사 파생 접미사</td>\n",
              "    </tr>\n",
              "    <tr>\n",
              "      <th>41</th>\n",
              "      <td>XSN</td>\n",
              "      <td>명사파생 접미사</td>\n",
              "    </tr>\n",
              "    <tr>\n",
              "      <th>42</th>\n",
              "      <td>XSV</td>\n",
              "      <td>동사 파생 접미사</td>\n",
              "    </tr>\n",
              "    <tr>\n",
              "      <th>43</th>\n",
              "      <td>*</td>\n",
              "      <td>*</td>\n",
              "    </tr>\n",
              "    <tr>\n",
              "      <th>44</th>\n",
              "      <td>*</td>\n",
              "      <td>*</td>\n",
              "    </tr>\n",
              "    <tr>\n",
              "      <th>45</th>\n",
              "      <td>*</td>\n",
              "      <td>*</td>\n",
              "    </tr>\n",
              "    <tr>\n",
              "      <th>46</th>\n",
              "      <td>*</td>\n",
              "      <td>*</td>\n",
              "    </tr>\n",
              "    <tr>\n",
              "      <th>47</th>\n",
              "      <td>*</td>\n",
              "      <td>*</td>\n",
              "    </tr>\n",
              "    <tr>\n",
              "      <th>48</th>\n",
              "      <td>*</td>\n",
              "      <td>*</td>\n",
              "    </tr>\n",
              "    <tr>\n",
              "      <th>49</th>\n",
              "      <td>*</td>\n",
              "      <td>*</td>\n",
              "    </tr>\n",
              "  </tbody>\n",
              "</table>\n",
              "</div>"
            ],
            "text/plain": [
              "   Mecab-기호       Mecab-품사\n",
              "0        EC          연결 어미\n",
              "1        EF          종결 어미\n",
              "2        EP          선어말어미\n",
              "3       ETM      관형형 전성 어미\n",
              "4       ETN      명사형 전성 어미\n",
              "5        IC            감탄사\n",
              "6        JC          접속 조사\n",
              "7       JKB         부사격 조사\n",
              "8       JKC          보격 조사\n",
              "9       JKG         관형격 조사\n",
              "10      JKO         목적격 조사\n",
              "11      JKQ         인용격 조사\n",
              "12      JKS          주격 조사\n",
              "13      JKV          호격 조사\n",
              "14       JX            보조사\n",
              "15      MAG          일반 부사\n",
              "16      MAJ          접속 부사\n",
              "17       MM            관형사\n",
              "18      NNB          의존 명사\n",
              "19     NNBC    단위를 나타내는 명사\n",
              "20      NNG          일반 명사\n",
              "21      NNP          고유 명사\n",
              "22       NP            대명사\n",
              "23       NR             수사\n",
              "24       SC    구분자 , · / :\n",
              "25       SE          줄임표 …\n",
              "26       SF  마침표, 물음표, 느낌표\n",
              "27       SH             한자\n",
              "28       SL            외국어\n",
              "29       SN             숫자\n",
              "30      SSC     닫는 괄호 ), ]\n",
              "31      SSO     여는 괄호 (, [\n",
              "32       SY          기타 기호\n",
              "33       VA            형용사\n",
              "34      VCN         부정 지정사\n",
              "35      VCP         긍정 지정사\n",
              "36       VV             동사\n",
              "37       VX          보조 용언\n",
              "38      XPN         체언 접두사\n",
              "39       XR             어근\n",
              "40      XSA     형용사 파생 접미사\n",
              "41      XSN       명사파생 접미사\n",
              "42      XSV      동사 파생 접미사\n",
              "43        *              *\n",
              "44        *              *\n",
              "45        *              *\n",
              "46        *              *\n",
              "47        *              *\n",
              "48        *              *\n",
              "49        *              *"
            ]
          },
          "metadata": {
            "tags": []
          },
          "execution_count": 23
        }
      ]
    },
    {
      "metadata": {
        "id": "gpd5tRZwYfYo",
        "colab_type": "text"
      },
      "cell_type": "markdown",
      "source": [
        "## 형태소 분석"
      ]
    },
    {
      "metadata": {
        "id": "Fq7Tui4NXwzK",
        "colab_type": "code",
        "colab": {
          "base_uri": "https://localhost:8080/",
          "height": 297
        },
        "outputId": "9c11c46b-d133-4af6-e8c4-1f127d6e97ae"
      },
      "cell_type": "code",
      "source": [
        "from nltk import Text\n",
        "\n",
        "kolaw = Text(mecab.nouns(c), name=\"kolaw\")\n",
        "kolaw.plot(30)\n",
        "plt.show()"
      ],
      "execution_count": 30,
      "outputs": [
        {
          "output_type": "display_data",
          "data": {
            "image/png": "[encoded data removed]",
            "text/plain": [
              "<Figure size 432x288 with 1 Axes>"
            ]
          },
          "metadata": {
            "tags": []
          }
        }
      ]
    },
    {
      "metadata": {
        "id": "zA8aUyL3W-yL",
        "colab_type": "code",
        "colab": {
          "base_uri": "https://localhost:8080/",
          "height": 253
        },
        "outputId": "5f59e68f-3369-4e1a-a844-71630002497e"
      },
      "cell_type": "code",
      "source": [
        "from wordcloud import WordCloud\n",
        "import matplotlib.pyplot as plt\n",
        "\n",
        "font_path = '/usr/share/fonts/truetype/nanum/NanumGothic.ttf'\n",
        "wc = WordCloud(width = 1000, height = 600, background_color=\"white\", font_path=font_path)\n",
        "plt.imshow(wc.generate_from_frequencies(kolaw.vocab()))\n",
        "plt.axis(\"off\")\n",
        "plt.show()"
      ],
      "execution_count": 31,
      "outputs": [
        {
          "output_type": "display_data",
          "data": {
            "image/png": "[encoded data removed]",
            "text/plain": [
              "<Figure size 432x288 with 1 Axes>"
            ]
          },
          "metadata": {
            "tags": []
          }
        }
      ]
    }
  ]
}