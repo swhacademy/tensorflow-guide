{
  "nbformat": 4,
  "nbformat_minor": 0,
  "metadata": {
    "colab": {
      "name": "1_1_두 수 더하기.ipynb",
      "version": "0.3.2",
      "provenance": [],
      "collapsed_sections": [],
      "include_colab_link": true
    },
    "kernelspec": {
      "name": "python3",
      "display_name": "Python 3"
    }
  },
  "cells": [
    {
      "cell_type": "markdown",
      "metadata": {
        "id": "view-in-github",
        "colab_type": "text"
      },
      "source": [
        "<a href=\"https://colab.research.google.com/github/swhacademy/tensorflow-guide/blob/master/1_1_%EB%91%90_%EC%88%98_%EB%8D%94%ED%95%98%EA%B8%B0.ipynb\" target=\"_parent\"><img src=\"https://colab.research.google.com/assets/colab-badge.svg\" alt=\"Open In Colab\"/></a>"
      ]
    },
    {
      "metadata": {
        "id": "FLFkiDxgqv9-",
        "colab_type": "code",
        "colab": {}
      },
      "cell_type": "code",
      "source": [
        "# 텐서플로우 모듈 import\n",
        "import tensorflow as tf"
      ],
      "execution_count": 0,
      "outputs": []
    },
    {
      "metadata": {
        "id": "XB46xvZeq6oz",
        "colab_type": "code",
        "colab": {
          "base_uri": "https://localhost:8080/",
          "height": 53
        },
        "outputId": "95f75e2d-4fed-4580-8482-f412f75478d4"
      },
      "cell_type": "code",
      "source": [
        "# tf.constant 함수를 사용하여 상수 오퍼레이션 2개 생성\n",
        "# `name`은 오퍼레이션은 구분하기 위한 이름\n",
        "tensor_a = tf.constant(1, name=\"a\")\n",
        "tensor_b = tf.constant(2, name=\"b\")\n",
        "print(tensor_a)\n",
        "print(tensor_b)"
      ],
      "execution_count": 2,
      "outputs": [
        {
          "output_type": "stream",
          "text": [
            "Tensor(\"a:0\", shape=(), dtype=int32)\n",
            "Tensor(\"b:0\", shape=(), dtype=int32)\n"
          ],
          "name": "stdout"
        }
      ]
    },
    {
      "metadata": {
        "id": "8xm1JjdXq8ap",
        "colab_type": "code",
        "colab": {}
      },
      "cell_type": "code",
      "source": [
        "# tf.constant 함수를 사용하여 연산 오퍼레이션 생성\n",
        "tensor_c = tensor_a + tensor_b"
      ],
      "execution_count": 0,
      "outputs": []
    },
    {
      "metadata": {
        "id": "hgmgxdRPq-Bh",
        "colab_type": "code",
        "colab": {
          "base_uri": "https://localhost:8080/",
          "height": 35
        },
        "outputId": "63dd6ca7-e715-4b7a-f289-8d0e7932288f"
      },
      "cell_type": "code",
      "source": [
        "# 단순 print함수로 텐서를 실행할 땐 tensor정보 출력\n",
        "print(tensor_c)"
      ],
      "execution_count": 4,
      "outputs": [
        {
          "output_type": "stream",
          "text": [
            "Tensor(\"add:0\", shape=(), dtype=int32)\n"
          ],
          "name": "stdout"
        }
      ]
    },
    {
      "metadata": {
        "id": "-6tOH2s8rAiB",
        "colab_type": "code",
        "colab": {
          "base_uri": "https://localhost:8080/",
          "height": 35
        },
        "outputId": "80bcf3d5-7bf5-4136-bbcc-2977e2d25895"
      },
      "cell_type": "code",
      "source": [
        "# 실제 연산을 위해서는 세션을 생성한 후, 실행하고자 하는 tensor을 Session의 run함수 매개변수로 넣어야 수행\n",
        "sess = tf.Session()\n",
        "print(sess.run(tensor_c))\n",
        "sess.close()"
      ],
      "execution_count": 5,
      "outputs": [
        {
          "output_type": "stream",
          "text": [
            "3\n"
          ],
          "name": "stdout"
        }
      ]
    }
  ]
}