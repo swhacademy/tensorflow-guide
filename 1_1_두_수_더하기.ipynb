{
  "nbformat": 4,
  "nbformat_minor": 0,
  "metadata": {
    "colab": {
      "name": "1_1_두 수 더하기.ipynb",
      "version": "0.3.2",
      "provenance": [],
      "collapsed_sections": [],
      "include_colab_link": true
    },
    "kernelspec": {
      "name": "python3",
      "display_name": "Python 3"
    }
  },
  "cells": [
    {
      "cell_type": "markdown",
      "metadata": {
        "id": "view-in-github",
        "colab_type": "text"
      },
      "source": [
        "<a href=\"https://colab.research.google.com/github/swhacademy/tensorflow-guide/blob/master/1_1_%EB%91%90_%EC%88%98_%EB%8D%94%ED%95%98%EA%B8%B0.ipynb\" target=\"_parent\"><img src=\"https://colab.research.google.com/assets/colab-badge.svg\" alt=\"Open In Colab\"/></a>"
      ]
    },
    {
      "metadata": {
        "id": "FLFkiDxgqv9-",
        "colab_type": "code",
        "colab": {
          "base_uri": "https://localhost:8080/",
          "height": 35
        },
        "outputId": "4d961138-c00c-4881-fc08-d972df4a59c7"
      },
      "cell_type": "code",
      "source": [
        "# 텐서플로우 모듈 import\n",
        "import tensorflow as tf\n",
        "tf.__version__"
      ],
      "execution_count": 1,
      "outputs": [
        {
          "output_type": "execute_result",
          "data": {
            "text/plain": [
              "'1.13.1'"
            ]
          },
          "metadata": {
            "tags": []
          },
          "execution_count": 1
        }
      ]
    },
    {
      "metadata": {
        "id": "XB46xvZeq6oz",
        "colab_type": "code",
        "outputId": "6e963af5-7b7d-4f0f-c04c-2d7f023edf07",
        "colab": {
          "base_uri": "https://localhost:8080/",
          "height": 53
        }
      },
      "cell_type": "code",
      "source": [
        "# tf.constant 함수를 사용하여 상수 오퍼레이션 2개 생성\n",
        "# `name`은 오퍼레이션은 구분하기 위한 이름\n",
        "tensor_a = tf.constant(1, name=\"a\")\n",
        "tensor_b = tf.constant(2, name=\"b\")\n",
        "print(tensor_a)\n",
        "print(tensor_b)"
      ],
      "execution_count": 2,
      "outputs": [
        {
          "output_type": "stream",
          "text": [
            "Tensor(\"a:0\", shape=(), dtype=int32)\n",
            "Tensor(\"b:0\", shape=(), dtype=int32)\n"
          ],
          "name": "stdout"
        }
      ]
    },
    {
      "metadata": {
        "id": "8xm1JjdXq8ap",
        "colab_type": "code",
        "colab": {}
      },
      "cell_type": "code",
      "source": [
        "# tf.constant 함수를 사용하여 연산 오퍼레이션 생성\n",
        "tensor_c = tensor_a + tensor_b"
      ],
      "execution_count": 0,
      "outputs": []
    },
    {
      "metadata": {
        "id": "hgmgxdRPq-Bh",
        "colab_type": "code",
        "outputId": "e7e9b615-4339-4fdd-e8f8-32a7507388c1",
        "colab": {
          "base_uri": "https://localhost:8080/",
          "height": 35
        }
      },
      "cell_type": "code",
      "source": [
        "# 단순 print함수로 텐서를 실행할 땐 tensor정보 출력\n",
        "print(tensor_c)"
      ],
      "execution_count": 4,
      "outputs": [
        {
          "output_type": "stream",
          "text": [
            "Tensor(\"add:0\", shape=(), dtype=int32)\n"
          ],
          "name": "stdout"
        }
      ]
    },
    {
      "metadata": {
        "id": "-6tOH2s8rAiB",
        "colab_type": "code",
        "outputId": "9a123bb2-f7cd-4c0b-9555-7e470becb486",
        "colab": {
          "base_uri": "https://localhost:8080/",
          "height": 35
        }
      },
      "cell_type": "code",
      "source": [
        "# 실제 연산을 위해서는 세션을 생성한 후, 실행하고자 하는 tensor을 Session의 run함수 매개변수로 넣어야 수행\n",
        "sess = tf.Session()\n",
        "print(sess.run(tensor_c))\n",
        "sess.close()"
      ],
      "execution_count": 5,
      "outputs": [
        {
          "output_type": "stream",
          "text": [
            "3\n"
          ],
          "name": "stdout"
        }
      ]
    },
    {
      "metadata": {
        "id": "ftLiwhNmvAGF",
        "colab_type": "code",
        "colab": {}
      },
      "cell_type": "code",
      "source": [
        "# tensorboard : 계산 그래프를 시각화\n",
        "# jupyter에서 tensorboard을 실행하여 확인\n",
        "writer = tf.summary.FileWriter('.')\n",
        "writer.add_graph(tf.get_default_graph())\n",
        "writer.flush()"
      ],
      "execution_count": 0,
      "outputs": []
    }
  ]
}