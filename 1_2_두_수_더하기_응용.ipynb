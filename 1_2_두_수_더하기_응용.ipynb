{
  "nbformat": 4,
  "nbformat_minor": 0,
  "metadata": {
    "colab": {
      "name": "1_2_두 수 더하기 응용.ipynb",
      "version": "0.3.2",
      "provenance": [],
      "collapsed_sections": [],
      "include_colab_link": true
    },
    "kernelspec": {
      "name": "python3",
      "display_name": "Python 3"
    }
  },
  "cells": [
    {
      "cell_type": "markdown",
      "metadata": {
        "id": "view-in-github",
        "colab_type": "text"
      },
      "source": [
        "<a href=\"https://colab.research.google.com/github/swhacademy/tensorflow-guide/blob/master/1_2_%EB%91%90_%EC%88%98_%EB%8D%94%ED%95%98%EA%B8%B0_%EC%9D%91%EC%9A%A9.ipynb\" target=\"_parent\"><img src=\"https://colab.research.google.com/assets/colab-badge.svg\" alt=\"Open In Colab\"/></a>"
      ]
    },
    {
      "metadata": {
        "id": "mTC2wnhZr5CZ",
        "colab_type": "code",
        "colab": {}
      },
      "cell_type": "code",
      "source": [
        "import tensorflow as tf"
      ],
      "execution_count": 0,
      "outputs": []
    },
    {
      "metadata": {
        "id": "bJHItQqfr-uB",
        "colab_type": "code",
        "colab": {
          "base_uri": "https://localhost:8080/",
          "height": 35
        },
        "outputId": "4d7d9842-f216-4359-b85c-7c829ed39ed0"
      },
      "cell_type": "code",
      "source": [
        "# 오퍼레이션 객체를 리스트로 출력(오퍼레이션이 없다)\n",
        "tf.get_default_graph().get_operations()"
      ],
      "execution_count": 2,
      "outputs": [
        {
          "output_type": "execute_result",
          "data": {
            "text/plain": [
              "[]"
            ]
          },
          "metadata": {
            "tags": []
          },
          "execution_count": 2
        }
      ]
    },
    {
      "metadata": {
        "id": "LFoGuhx2sBkA",
        "colab_type": "code",
        "colab": {}
      },
      "cell_type": "code",
      "source": [
        "# 오퍼레이션을 생성하여 그래프에 추가한 뒤, \n",
        "# 각각의 오퍼레이션 출력텐서를 'tensor_a', 'tensor_b'가 가르킴(파이썬은 모두 객체)\n",
        "tensor_a = tf.constant(1.1, name=\"a\")\n",
        "tensor_b = tf.constant(2.0, name=\"b\")"
      ],
      "execution_count": 0,
      "outputs": []
    },
    {
      "metadata": {
        "id": "Aud7aidUsDt4",
        "colab_type": "code",
        "colab": {}
      },
      "cell_type": "code",
      "source": [
        "# tensor_c = tf.add(tensor_a, tensor_b) 와 같은 의미\n",
        "# 앞에서 정의한 상수텐서들을 연산할 오퍼레이션 추가, 해당 오퍼레이션의 출력텐서를 'tensor_c'가 가르킴\n",
        "tensor_c = tensor_a + tensor_b"
      ],
      "execution_count": 0,
      "outputs": []
    },
    {
      "metadata": {
        "id": "GnH4uCq1sFsY",
        "colab_type": "code",
        "colab": {
          "base_uri": "https://localhost:8080/",
          "height": 71
        },
        "outputId": "7c48960f-dc8a-4bd3-f4e8-c7d625c05c18"
      },
      "cell_type": "code",
      "source": [
        "# Tensor(\"a:0\", shape=(), dtype=float32)\n",
        "# 1. 'a:0'는 a의 첫번째 출력텐서\n",
        "# 2. 'shape=()'는 스칼라 텐서\n",
        "# 3. 'dtype=float32'는 32비트 부동소수형\n",
        "print(tensor_a)\n",
        "print(tensor_b)\n",
        "print(tensor_c)"
      ],
      "execution_count": 5,
      "outputs": [
        {
          "output_type": "stream",
          "text": [
            "Tensor(\"a:0\", shape=(), dtype=float32)\n",
            "Tensor(\"b:0\", shape=(), dtype=float32)\n",
            "Tensor(\"add:0\", shape=(), dtype=float32)\n"
          ],
          "name": "stdout"
        }
      ]
    },
    {
      "metadata": {
        "id": "0P5OYffGsJEw",
        "colab_type": "code",
        "colab": {
          "base_uri": "https://localhost:8080/",
          "height": 773
        },
        "outputId": "f06b27ef-b43a-4619-cedc-fc9e2f760892"
      },
      "cell_type": "code",
      "source": [
        "print(tensor_a.op)\t\t\t\t# 텐서에 대한 오퍼레이션 정보\n",
        "print(tensor_a.op.node_def)\t\t# 텐서에 대한 오퍼레이션 정보\n",
        "print(tensor_a.op.inputs)\t\t# 상수 오퍼레이션의 입력은 출력해볼 수 없다.\n",
        "print(tensor_a.op.outputs)\t\t# 상수 오퍼레이션의 출력텐서"
      ],
      "execution_count": 6,
      "outputs": [
        {
          "output_type": "stream",
          "text": [
            "name: \"a\"\n",
            "op: \"Const\"\n",
            "attr {\n",
            "  key: \"dtype\"\n",
            "  value {\n",
            "    type: DT_FLOAT\n",
            "  }\n",
            "}\n",
            "attr {\n",
            "  key: \"value\"\n",
            "  value {\n",
            "    tensor {\n",
            "      dtype: DT_FLOAT\n",
            "      tensor_shape {\n",
            "      }\n",
            "      float_val: 1.100000023841858\n",
            "    }\n",
            "  }\n",
            "}\n",
            "\n",
            "name: \"a\"\n",
            "op: \"Const\"\n",
            "attr {\n",
            "  key: \"dtype\"\n",
            "  value {\n",
            "    type: DT_FLOAT\n",
            "  }\n",
            "}\n",
            "attr {\n",
            "  key: \"value\"\n",
            "  value {\n",
            "    tensor {\n",
            "      dtype: DT_FLOAT\n",
            "      tensor_shape {\n",
            "      }\n",
            "      float_val: 1.100000023841858\n",
            "    }\n",
            "  }\n",
            "}\n",
            "\n",
            "<tensorflow.python.framework.ops.Operation._InputList object at 0x7f7f3f3b5da0>\n",
            "[<tf.Tensor 'a:0' shape=() dtype=float32>]\n"
          ],
          "name": "stdout"
        }
      ]
    },
    {
      "metadata": {
        "id": "2L9wPyemsNHA",
        "colab_type": "code",
        "colab": {
          "base_uri": "https://localhost:8080/",
          "height": 287
        },
        "outputId": "88bbea80-00d1-4904-c786-32beade71bac"
      },
      "cell_type": "code",
      "source": [
        "print(tensor_c.op.inputs)\t\t# 연산 오퍼레이션은 상수 오퍼레이션과 달리 입력 텐서도 출력가능\n",
        "print(tensor_c.op.inputs[0])\t# tensor_a\n",
        "print(tensor_c.op.inputs[1])\t# tensor_b\n",
        "print(tensor_c.op.outputs)\t\t# 연산 오퍼레이션의 출력텐서\n",
        "print(tensor_c.op)\t\t\t\t# 텐서에 대한 오퍼레이션 정보"
      ],
      "execution_count": 7,
      "outputs": [
        {
          "output_type": "stream",
          "text": [
            "<tensorflow.python.framework.ops.Operation._InputList object at 0x7f7f2a261dd8>\n",
            "Tensor(\"a:0\", shape=(), dtype=float32)\n",
            "Tensor(\"b:0\", shape=(), dtype=float32)\n",
            "[<tf.Tensor 'add:0' shape=() dtype=float32>]\n",
            "name: \"add\"\n",
            "op: \"Add\"\n",
            "input: \"a\"\n",
            "input: \"b\"\n",
            "attr {\n",
            "  key: \"T\"\n",
            "  value {\n",
            "    type: DT_FLOAT\n",
            "  }\n",
            "}\n",
            "\n"
          ],
          "name": "stdout"
        }
      ]
    },
    {
      "metadata": {
        "id": "i7RQ2FL5sQCX",
        "colab_type": "code",
        "colab": {
          "base_uri": "https://localhost:8080/",
          "height": 71
        },
        "outputId": "fc31240b-22b3-4340-cb55-49f153715ec3"
      },
      "cell_type": "code",
      "source": [
        "tf.get_default_graph().get_operations()"
      ],
      "execution_count": 8,
      "outputs": [
        {
          "output_type": "execute_result",
          "data": {
            "text/plain": [
              "[<tf.Operation 'a' type=Const>,\n",
              " <tf.Operation 'b' type=Const>,\n",
              " <tf.Operation 'add' type=Add>]"
            ]
          },
          "metadata": {
            "tags": []
          },
          "execution_count": 8
        }
      ]
    },
    {
      "metadata": {
        "id": "kLazlTt-sUyY",
        "colab_type": "code",
        "colab": {
          "base_uri": "https://localhost:8080/",
          "height": 35
        },
        "outputId": "79d3ee95-7273-4f86-d131-ca31a5aba655"
      },
      "cell_type": "code",
      "source": [
        "# tensor_c 변수가 가리키고있는 텐서 객체의 값을 연산한 뒤, 결과값을 정수로 출력\n",
        "with tf.Session() as sess:\n",
        "\tprint(\"%d\" % sess.run(tensor_c))"
      ],
      "execution_count": 9,
      "outputs": [
        {
          "output_type": "stream",
          "text": [
            "3\n"
          ],
          "name": "stdout"
        }
      ]
    }
  ]
}