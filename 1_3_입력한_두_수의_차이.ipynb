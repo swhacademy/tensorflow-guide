{
  "nbformat": 4,
  "nbformat_minor": 0,
  "metadata": {
    "colab": {
      "name": "1_3_입력한 두 수의 차이.ipynb",
      "version": "0.3.2",
      "provenance": [],
      "collapsed_sections": [],
      "include_colab_link": true
    },
    "kernelspec": {
      "name": "python3",
      "display_name": "Python 3"
    }
  },
  "cells": [
    {
      "cell_type": "markdown",
      "metadata": {
        "id": "view-in-github",
        "colab_type": "text"
      },
      "source": [
        "<a href=\"https://colab.research.google.com/github/swhacademy/tensorflow-guide/blob/master/1_3_%EC%9E%85%EB%A0%A5%ED%95%9C_%EB%91%90_%EC%88%98%EC%9D%98_%EC%B0%A8%EC%9D%B4.ipynb\" target=\"_parent\"><img src=\"https://colab.research.google.com/assets/colab-badge.svg\" alt=\"Open In Colab\"/></a>"
      ]
    },
    {
      "metadata": {
        "id": "tviSdXuOstsp",
        "colab_type": "code",
        "colab": {}
      },
      "cell_type": "code",
      "source": [
        "import tensorflow as tf"
      ],
      "execution_count": 0,
      "outputs": []
    },
    {
      "metadata": {
        "id": "9fwXqV5ks0xP",
        "colab_type": "code",
        "colab": {}
      },
      "cell_type": "code",
      "source": [
        "# tf.placeholder(dtype, shape=None, name=None)\n",
        "# None : 정하지 않은 것. 어떤 것도 가능하다는 의미\n",
        "tensor_a = tf.placeholder(tf.float32)\n",
        "tensor_b = tf.placeholder(tf.float32)"
      ],
      "execution_count": 0,
      "outputs": []
    },
    {
      "metadata": {
        "id": "QFa718Z9s2kA",
        "colab_type": "code",
        "colab": {}
      },
      "cell_type": "code",
      "source": [
        "# tensor_c = tensor_a - tensor_b 와 같은 의미\n",
        "tensor_c = tf.subtract(tensor_a, tensor_b)"
      ],
      "execution_count": 0,
      "outputs": []
    },
    {
      "metadata": {
        "id": "ef9JP-eLs48m",
        "colab_type": "code",
        "colab": {
          "base_uri": "https://localhost:8080/",
          "height": 71
        },
        "outputId": "7042a1fa-0a7b-44ca-bbbc-32b30c81e452"
      },
      "cell_type": "code",
      "source": [
        "# 상수 오퍼레이션이 아닌 Placeholder 오퍼레이션\n",
        "tf.get_default_graph().get_operations()"
      ],
      "execution_count": 4,
      "outputs": [
        {
          "output_type": "execute_result",
          "data": {
            "text/plain": [
              "[<tf.Operation 'Placeholder' type=Placeholder>,\n",
              " <tf.Operation 'Placeholder_1' type=Placeholder>,\n",
              " <tf.Operation 'Sub' type=Sub>]"
            ]
          },
          "metadata": {
            "tags": []
          },
          "execution_count": 4
        }
      ]
    },
    {
      "metadata": {
        "id": "5uSxeP2cs84G",
        "colab_type": "code",
        "colab": {
          "base_uri": "https://localhost:8080/",
          "height": 53
        },
        "outputId": "9aa42449-10ad-45fc-d499-1b45bb0e37e6"
      },
      "cell_type": "code",
      "source": [
        "sess = tf.Session()\n",
        "print(sess.run(tensor_c, feed_dict={tensor_a: 3, tensor_b: 2.5}))\n",
        "print(sess.run(tensor_c, feed_dict={tensor_a: [3,4], tensor_b: [2,1]}))   # share가 [2, 2] 형태도 가능"
      ],
      "execution_count": 5,
      "outputs": [
        {
          "output_type": "stream",
          "text": [
            "0.5\n",
            "[1. 3.]\n"
          ],
          "name": "stdout"
        }
      ]
    }
  ]
}