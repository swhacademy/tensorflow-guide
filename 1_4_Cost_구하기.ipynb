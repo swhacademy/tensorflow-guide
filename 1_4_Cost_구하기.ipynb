{
  "nbformat": 4,
  "nbformat_minor": 0,
  "metadata": {
    "colab": {
      "name": "1_4_Cost 구하기.ipynb",
      "version": "0.3.2",
      "provenance": [],
      "collapsed_sections": [],
      "include_colab_link": true
    },
    "kernelspec": {
      "name": "python3",
      "display_name": "Python 3"
    }
  },
  "cells": [
    {
      "cell_type": "markdown",
      "metadata": {
        "id": "view-in-github",
        "colab_type": "text"
      },
      "source": [
        "<a href=\"https://colab.research.google.com/github/swhacademy/tensorflow-guide/blob/master/1_4_Cost_%EA%B5%AC%ED%95%98%EA%B8%B0.ipynb\" target=\"_parent\"><img src=\"https://colab.research.google.com/assets/colab-badge.svg\" alt=\"Open In Colab\"/></a>"
      ]
    },
    {
      "metadata": {
        "id": "mIZR-GVttTPC",
        "colab_type": "code",
        "colab": {}
      },
      "cell_type": "code",
      "source": [
        "import tensorflow as tf\n",
        "import matplotlib.pyplot as plt"
      ],
      "execution_count": 0,
      "outputs": []
    },
    {
      "metadata": {
        "id": "8A885EDqtXpm",
        "colab_type": "code",
        "colab": {}
      },
      "cell_type": "code",
      "source": [
        "# 학습 데이터\n",
        "xData = [1, 2, 3]\n",
        "yData = [1, 2, 3]"
      ],
      "execution_count": 0,
      "outputs": []
    },
    {
      "metadata": {
        "id": "0O37kvN7tZLN",
        "colab_type": "code",
        "colab": {
          "base_uri": "https://localhost:8080/",
          "height": 269
        },
        "outputId": "a1313a32-b94f-4866-bff4-f357a97f5330"
      },
      "cell_type": "code",
      "source": [
        "plt.plot(xData,yData,'bo')\n",
        "plt.show()"
      ],
      "execution_count": 3,
      "outputs": [
        {
          "output_type": "display_data",
          "data": {
            "image/png": "[encoded data removed]",
            "text/plain": [
              "<Figure size 432x288 with 1 Axes>"
            ]
          },
          "metadata": {
            "tags": []
          }
        }
      ]
    },
    {
      "metadata": {
        "id": "fy1oTdN4tc99",
        "colab_type": "code",
        "colab": {
          "base_uri": "https://localhost:8080/",
          "height": 127
        },
        "outputId": "61cc7e2e-7eb5-4b06-cda6-1571f621dcd8"
      },
      "cell_type": "code",
      "source": [
        "# tf.Variable : 텐서플로우가 학습하는 과정에서 변경되는 변수(텐서플로우 전용 변수)\n",
        "# tf.random_normal(shape)\n",
        "W = tf.Variable(tf.random_normal([1]), name=\"weight\")   # Rank가 1이며 Shape는 값을 하나만 가지는 Vector\n",
        "b = tf.Variable(tf.random_normal([1]), name=\"bias\")\n",
        "print(W)\n",
        "print(b)"
      ],
      "execution_count": 4,
      "outputs": [
        {
          "output_type": "stream",
          "text": [
            "WARNING:tensorflow:From /usr/local/lib/python3.6/dist-packages/tensorflow/python/framework/op_def_library.py:263: colocate_with (from tensorflow.python.framework.ops) is deprecated and will be removed in a future version.\n",
            "Instructions for updating:\n",
            "Colocations handled automatically by placer.\n",
            "<tf.Variable 'weight:0' shape=(1,) dtype=float32_ref>\n",
            "<tf.Variable 'bias:0' shape=(1,) dtype=float32_ref>\n"
          ],
          "name": "stdout"
        }
      ]
    },
    {
      "metadata": {
        "id": "3aa9VEnJtfgm",
        "colab_type": "code",
        "colab": {
          "base_uri": "https://localhost:8080/",
          "height": 35
        },
        "outputId": "3cf6e40b-f247-488e-e7f7-972ee5bba8a5"
      },
      "cell_type": "code",
      "source": [
        "# 가설 만들기\n",
        "# H(x) = Wx + b\n",
        "H = W * xData + b\n",
        "print(H)"
      ],
      "execution_count": 5,
      "outputs": [
        {
          "output_type": "stream",
          "text": [
            "Tensor(\"add:0\", shape=(3,), dtype=float32)\n"
          ],
          "name": "stdout"
        }
      ]
    },
    {
      "metadata": {
        "id": "C3lCQfiCthM2",
        "colab_type": "code",
        "colab": {
          "base_uri": "https://localhost:8080/",
          "height": 53
        },
        "outputId": "7b5555b8-61fe-42b6-f7c7-0f3fdbe357fe"
      },
      "cell_type": "code",
      "source": [
        "# Cost / Loss 구하기\n",
        "# tf.square(x, y) : x와 y의 거리를 제곱\n",
        "# tf.reduce_mean(x) : x를 평균\n",
        "diff = tf.square(H - yData)\n",
        "cost = tf.reduce_mean(diff)\n",
        "print(diff)\n",
        "print(cost)"
      ],
      "execution_count": 6,
      "outputs": [
        {
          "output_type": "stream",
          "text": [
            "Tensor(\"Square:0\", shape=(3,), dtype=float32)\n",
            "Tensor(\"Mean:0\", shape=(), dtype=float32)\n"
          ],
          "name": "stdout"
        }
      ]
    },
    {
      "metadata": {
        "id": "MGr-G40etjdN",
        "colab_type": "code",
        "colab": {}
      },
      "cell_type": "code",
      "source": [
        "# tf.Variable 인 Variable오퍼레이션을 사용할 땐 반드시 미리 초기화\n",
        "sess = tf.Session()\n",
        "sess.run(tf.global_variables_initializer())"
      ],
      "execution_count": 0,
      "outputs": []
    },
    {
      "metadata": {
        "id": "1XSNLBz3tlie",
        "colab_type": "code",
        "colab": {
          "base_uri": "https://localhost:8080/",
          "height": 107
        },
        "outputId": "107601c7-7c32-47f3-d512-a58a6b73bc7e"
      },
      "cell_type": "code",
      "source": [
        "print(sess.run(W))\n",
        "print(sess.run(b))\n",
        "print(sess.run(H))\n",
        "print(sess.run(diff))\n",
        "print(sess.run(cost))"
      ],
      "execution_count": 8,
      "outputs": [
        {
          "output_type": "stream",
          "text": [
            "[1.0684698]\n",
            "[1.5138075]\n",
            "[2.5822773 3.650747  4.719217 ]\n",
            "[2.5036016 2.7249658 2.9557066]\n",
            "2.7280912\n"
          ],
          "name": "stdout"
        }
      ]
    }
  ]
}