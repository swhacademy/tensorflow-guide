{
  "nbformat": 4,
  "nbformat_minor": 0,
  "metadata": {
    "colab": {
      "name": "Untitled0.ipynb",
      "version": "0.3.2",
      "provenance": [],
      "collapsed_sections": [],
      "include_colab_link": true
    },
    "kernelspec": {
      "name": "python3",
      "display_name": "Python 3"
    }
  },
  "cells": [
    {
      "cell_type": "markdown",
      "metadata": {
        "id": "view-in-github",
        "colab_type": "text"
      },
      "source": [
        "<a href=\"https://colab.research.google.com/github/swhacademy/tensorflow-guide/blob/master/Untitled0.ipynb\" target=\"_parent\"><img src=\"https://colab.research.google.com/assets/colab-badge.svg\" alt=\"Open In Colab\"/></a>"
      ]
    },
    {
      "metadata": {
        "id": "5mDFc_YHw-3j",
        "colab_type": "code",
        "outputId": "16e0feb3-200d-41eb-c5f2-cfb5989d48d6",
        "colab": {
          "base_uri": "https://localhost:8080/",
          "height": 197
        }
      },
      "cell_type": "code",
      "source": [
        "# 텐서플로우 모듈 import\n",
        "import tensorflow as tf\n",
        "\n",
        "# 학습 데이터\n",
        "xData = [1, 2, 3]\n",
        "yData = [1, 2, 3]\n",
        "\n",
        "# tf.Variable : 텐서플로우가 학습하는 과정에서 변경되는 변수(텐서플로우 전용 변수)\n",
        "# tf.random_normal(shape)\n",
        "W = tf.Variable(tf.random_normal([1]), name=\"weight\")   # Rank가 1이며 Shape는 값을 하나만 가지는 Vector\n",
        "b = tf.Variable(tf.random_normal([1]), name=\"bias\")\n",
        "print(W)\n",
        "print(b)\n",
        "\n",
        "# 가설 만들기\n",
        "# H(x) = Wx + b\n",
        "H = W * xData + b\n",
        "print(H)\n",
        "\n",
        "# Cost / Loss 구하기\n",
        "# tf.square(x, y) : x와 y의 거리를 제곱\n",
        "# tf.reduce_mean(x) : x를 평균\n",
        "diff = tf.square(H - yData)\n",
        "cost = tf.reduce_mean(diff)\n",
        "print(diff)\n",
        "print(cost)\n",
        "\n",
        "sess = tf.Session()\n",
        "# tf.Variable 인 Variable오퍼레이션을 사용할 땐 반드시 미리 초기화\n",
        "sess.run(tf.global_variables_initializer())\n",
        "\n",
        "print(sess.run(W))\n",
        "print(sess.run(b))\n",
        "print(sess.run(H))\n",
        "print(sess.run(diff))\n",
        "print(sess.run(cost))"
      ],
      "execution_count": 0,
      "outputs": [
        {
          "output_type": "stream",
          "text": [
            "<tf.Variable 'weight_1:0' shape=(1,) dtype=float32_ref>\n",
            "<tf.Variable 'bias_1:0' shape=(1,) dtype=float32_ref>\n",
            "Tensor(\"add_1:0\", shape=(3,), dtype=float32)\n",
            "Tensor(\"Square_1:0\", shape=(3,), dtype=float32)\n",
            "Tensor(\"Mean_1:0\", shape=(), dtype=float32)\n",
            "[-0.6614453]\n",
            "[-0.15903474]\n",
            "[-0.82048005 -1.4819254  -2.1433706 ]\n",
            "[ 3.3141477 12.123805  26.454262 ]\n",
            "13.964072\n"
          ],
          "name": "stdout"
        }
      ]
    },
    {
      "metadata": {
        "id": "pe7HK-WGzXya",
        "colab_type": "code",
        "colab": {
          "base_uri": "https://localhost:8080/",
          "height": 665
        },
        "outputId": "d493f008-4e1f-43c1-cf14-76d268df4ea8"
      },
      "cell_type": "code",
      "source": [
        "!apt-get update\n",
        "!apt-get install g++ openjdk-8-jdk \n",
        "!pip3 install konlpy\n",
        "\n",
        "from konlpy.tag import Twitter\n",
        "\n",
        "twitter = Twitter()\n",
        "twitter.pos(\"질문이나 건의사항은 깃헙 이슈 트래커에 남겨주세요\")"
      ],
      "execution_count": 2,
      "outputs": [
        {
          "output_type": "stream",
          "text": [
            "\r0% [Working]\r            \rIgn:1 https://developer.download.nvidia.com/compute/cuda/repos/ubuntu1804/x86_64  InRelease\n",
            "\r0% [Connecting to archive.ubuntu.com (91.189.88.152)] [Connecting to security.u\r                                                                               \rHit:2 https://cloud.r-project.org/bin/linux/ubuntu bionic-cran35/ InRelease\n",
            "\r0% [Connecting to archive.ubuntu.com (91.189.88.152)] [Connecting to security.u\r0% [2 InRelease gpgv 3,609 B] [Waiting for headers] [Waiting for headers] [Wait\r                                                                               \rIgn:3 https://developer.download.nvidia.com/compute/machine-learning/repos/ubuntu1804/x86_64  InRelease\n",
            "\r0% [2 InRelease gpgv 3,609 B] [Waiting for headers] [Waiting for headers] [Wait\r                                                                               \rHit:4 https://developer.download.nvidia.com/compute/cuda/repos/ubuntu1804/x86_64  Release\n",
            "\r0% [2 InRelease gpgv 3,609 B] [Waiting for headers] [Waiting for headers] [Wait\r                                                                               \rHit:5 https://developer.download.nvidia.com/compute/machine-learning/repos/ubuntu1804/x86_64  Release\n",
            "\r0% [2 InRelease gpgv 3,609 B] [Waiting for headers] [Waiting for headers] [Wait\r                                                                               \rHit:6 http://ppa.launchpad.net/graphics-drivers/ppa/ubuntu bionic InRelease\n",
            "\r                                                                               \r0% [2 InRelease gpgv 3,609 B] [Waiting for headers] [Waiting for headers]\r                                                                         \rHit:7 http://archive.ubuntu.com/ubuntu bionic InRelease\n",
            "\r0% [2 InRelease gpgv 3,609 B] [Waiting for headers] [Waiting for headers] [Conn\r                                                                               \rHit:8 http://security.ubuntu.com/ubuntu bionic-security InRelease\n",
            "\r0% [2 InRelease gpgv 3,609 B] [Waiting for headers] [Connecting to ppa.launchpa\r                                                                               \r0% [Waiting for headers] [Connecting to ppa.launchpad.net (91.189.95.83)]\r0% [Release.gpg gpgv 564 B] [Waiting for headers] [Connecting to ppa.launchpad.\r                                                                               \rHit:9 http://archive.ubuntu.com/ubuntu bionic-updates InRelease\n",
            "\r                                                                               \r0% [Release.gpg gpgv 564 B] [Waiting for headers] [Waiting for headers]\r                                                                       \r0% [Waiting for headers] [Waiting for headers]\r0% [Release.gpg gpgv 564 B] [Waiting for headers] [Waiting for headers]\r                                                                       \rHit:11 http://ppa.launchpad.net/marutter/c2d4u3.5/ubuntu bionic InRelease\n",
            "Hit:12 http://archive.ubuntu.com/ubuntu bionic-backports InRelease\n",
            "Reading package lists... Done\n",
            "Reading package lists... Done\n",
            "Building dependency tree       \n",
            "Reading state information... Done\n",
            "g++ is already the newest version (4:7.3.0-3ubuntu2.1).\n",
            "openjdk-8-jdk is already the newest version (8u191-b12-2ubuntu0.18.04.1).\n",
            "The following package was automatically installed and is no longer required:\n",
            "  libnvidia-common-410\n",
            "Use 'apt autoremove' to remove it.\n",
            "0 upgraded, 0 newly installed, 0 to remove and 38 not upgraded.\n",
            "Requirement already satisfied: konlpy in /usr/local/lib/python3.6/dist-packages (0.5.1)\n",
            "Requirement already satisfied: JPype1>=0.5.7 in /usr/local/lib/python3.6/dist-packages (from konlpy) (0.6.3)\n"
          ],
          "name": "stdout"
        },
        {
          "output_type": "stream",
          "text": [
            "/usr/local/lib/python3.6/dist-packages/konlpy/tag/_okt.py:16: UserWarning: \"Twitter\" has changed to \"Okt\" since KoNLPy v0.4.5.\n",
            "  warn('\"Twitter\" has changed to \"Okt\" since KoNLPy v0.4.5.')\n"
          ],
          "name": "stderr"
        },
        {
          "output_type": "execute_result",
          "data": {
            "text/plain": [
              "[('질문', 'Noun'),\n",
              " ('이나', 'Josa'),\n",
              " ('건의', 'Noun'),\n",
              " ('사항', 'Noun'),\n",
              " ('은', 'Josa'),\n",
              " ('깃', 'Noun'),\n",
              " ('헙', 'Verb'),\n",
              " ('이슈', 'Noun'),\n",
              " ('트래커', 'Noun'),\n",
              " ('에', 'Josa'),\n",
              " ('남겨주세요', 'Verb')]"
            ]
          },
          "metadata": {
            "tags": []
          },
          "execution_count": 2
        }
      ]
    },
    {
      "metadata": {
        "id": "rqEvxEbB0D8H",
        "colab_type": "code",
        "colab": {
          "base_uri": "https://localhost:8080/",
          "height": 251
        },
        "outputId": "3ae601d2-67c5-4eb5-960b-1caa037424d7"
      },
      "cell_type": "code",
      "source": [
        "from konlpy.tag import Twitter\n",
        "\n",
        "twitter = Twitter()\n",
        "twitter.pos(\"질문이나 건의사항은 깃헙 이슈 트래커에 남겨주세요\")"
      ],
      "execution_count": 3,
      "outputs": [
        {
          "output_type": "stream",
          "text": [
            "/usr/local/lib/python3.6/dist-packages/konlpy/tag/_okt.py:16: UserWarning: \"Twitter\" has changed to \"Okt\" since KoNLPy v0.4.5.\n",
            "  warn('\"Twitter\" has changed to \"Okt\" since KoNLPy v0.4.5.')\n"
          ],
          "name": "stderr"
        },
        {
          "output_type": "execute_result",
          "data": {
            "text/plain": [
              "[('질문', 'Noun'),\n",
              " ('이나', 'Josa'),\n",
              " ('건의', 'Noun'),\n",
              " ('사항', 'Noun'),\n",
              " ('은', 'Josa'),\n",
              " ('깃', 'Noun'),\n",
              " ('헙', 'Verb'),\n",
              " ('이슈', 'Noun'),\n",
              " ('트래커', 'Noun'),\n",
              " ('에', 'Josa'),\n",
              " ('남겨주세요', 'Verb')]"
            ]
          },
          "metadata": {
            "tags": []
          },
          "execution_count": 3
        }
      ]
    }
  ]
}