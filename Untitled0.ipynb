{
  "nbformat": 4,
  "nbformat_minor": 0,
  "metadata": {
    "colab": {
      "name": "Untitled0.ipynb",
      "version": "0.3.2",
      "provenance": [],
      "collapsed_sections": [],
      "include_colab_link": true
    },
    "kernelspec": {
      "name": "python3",
      "display_name": "Python 3"
    }
  },
  "cells": [
    {
      "cell_type": "markdown",
      "metadata": {
        "id": "view-in-github",
        "colab_type": "text"
      },
      "source": [
        "<a href=\"https://colab.research.google.com/github/swhacademy/tensorflow-guide/blob/master/Untitled0.ipynb\" target=\"_parent\"><img src=\"https://colab.research.google.com/assets/colab-badge.svg\" alt=\"Open In Colab\"/></a>"
      ]
    },
    {
      "metadata": {
        "id": "5mDFc_YHw-3j",
        "colab_type": "code",
        "outputId": "16e0feb3-200d-41eb-c5f2-cfb5989d48d6",
        "colab": {
          "base_uri": "https://localhost:8080/",
          "height": 197
        }
      },
      "cell_type": "code",
      "source": [
        "# 텐서플로우 모듈 import\n",
        "import tensorflow as tf\n",
        "\n",
        "# 학습 데이터\n",
        "xData = [1, 2, 3]\n",
        "yData = [1, 2, 3]\n",
        "\n",
        "# tf.Variable : 텐서플로우가 학습하는 과정에서 변경되는 변수(텐서플로우 전용 변수)\n",
        "# tf.random_normal(shape)\n",
        "W = tf.Variable(tf.random_normal([1]), name=\"weight\")   # Rank가 1이며 Shape는 값을 하나만 가지는 Vector\n",
        "b = tf.Variable(tf.random_normal([1]), name=\"bias\")\n",
        "print(W)\n",
        "print(b)\n",
        "\n",
        "# 가설 만들기\n",
        "# H(x) = Wx + b\n",
        "H = W * xData + b\n",
        "print(H)\n",
        "\n",
        "# Cost / Loss 구하기\n",
        "# tf.square(x, y) : x와 y의 거리를 제곱\n",
        "# tf.reduce_mean(x) : x를 평균\n",
        "diff = tf.square(H - yData)\n",
        "cost = tf.reduce_mean(diff)\n",
        "print(diff)\n",
        "print(cost)\n",
        "\n",
        "sess = tf.Session()\n",
        "# tf.Variable 인 Variable오퍼레이션을 사용할 땐 반드시 미리 초기화\n",
        "sess.run(tf.global_variables_initializer())\n",
        "\n",
        "print(sess.run(W))\n",
        "print(sess.run(b))\n",
        "print(sess.run(H))\n",
        "print(sess.run(diff))\n",
        "print(sess.run(cost))"
      ],
      "execution_count": 0,
      "outputs": [
        {
          "output_type": "stream",
          "text": [
            "<tf.Variable 'weight_1:0' shape=(1,) dtype=float32_ref>\n",
            "<tf.Variable 'bias_1:0' shape=(1,) dtype=float32_ref>\n",
            "Tensor(\"add_1:0\", shape=(3,), dtype=float32)\n",
            "Tensor(\"Square_1:0\", shape=(3,), dtype=float32)\n",
            "Tensor(\"Mean_1:0\", shape=(), dtype=float32)\n",
            "[-0.6614453]\n",
            "[-0.15903474]\n",
            "[-0.82048005 -1.4819254  -2.1433706 ]\n",
            "[ 3.3141477 12.123805  26.454262 ]\n",
            "13.964072\n"
          ],
          "name": "stdout"
        }
      ]
    }
  ]
}